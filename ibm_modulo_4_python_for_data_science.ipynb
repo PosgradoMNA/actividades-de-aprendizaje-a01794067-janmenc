{
  "nbformat": 4,
  "nbformat_minor": 0,
  "metadata": {
    "colab": {
      "provenance": [],
      "authorship_tag": "ABX9TyNALUB9lLGNYgjdKoU8Sqil",
      "include_colab_link": true
    },
    "kernelspec": {
      "name": "python3",
      "display_name": "Python 3"
    },
    "language_info": {
      "name": "python"
    }
  },
  "cells": [
    {
      "cell_type": "markdown",
      "metadata": {
        "id": "view-in-github",
        "colab_type": "text"
      },
      "source": [
        "<a href=\"https://colab.research.google.com/github/PosgradoMNA/actividades-de-aprendizaje-a01794067-janmenc/blob/main/ibm_modulo_4_python_for_data_science.ipynb\" target=\"_parent\"><img src=\"https://colab.research.google.com/assets/colab-badge.svg\" alt=\"Open In Colab\"/></a>"
      ]
    },
    {
      "cell_type": "markdown",
      "source": [
        "# **José Antonio Mendoza Castro - A01794067**\n",
        "\n",
        "# **Notas *Python for Data Science* - Módulo 4**"
      ],
      "metadata": {
        "id": "zKONOQPYel_m"
      }
    },
    {
      "cell_type": "markdown",
      "source": [
        "### En este notebook se toman como base las notas obtenidas del curso *Python for Data Science* de IBM considerando también sus Labs pero en la medida de lo posible se intenta crear ejemplos propios"
      ],
      "metadata": {
        "id": "A1O5ur0b_ZCb"
      }
    },
    {
      "cell_type": "markdown",
      "source": [
        "### **Módulo 4**"
      ],
      "metadata": {
        "id": "hLujf-RIgbxJ"
      }
    },
    {
      "cell_type": "markdown",
      "source": [
        "### Reading Files with Open"
      ],
      "metadata": {
        "id": "c29L1weLgm1h"
      }
    },
    {
      "cell_type": "code",
      "source": [
        "#por ejemplo a partir de un fragmento de la obra 'The Sonnets' de William Shakespeare (tomado del proyecto Gutenberg) podemos abrir ese archivo, en este caso .txt.\n",
        "#La función 'open' nos permite abrir este archivo, la cual utiliza dos argumentos, el primero, la ruta del archivo, en este caso el archivo se encuentra en la carpeta 'Archivos'\n",
        "#de Colab, el segundo argumento se refiere al 'mode' en el cual ocuparemos el archivo, puede ser 'r' (reading), 'w' (writing), 'a' (append) o 'x' (create)\n",
        "#en este caso usamos el 'mode' reading\n",
        "\n",
        "file_1 = open('shakespeare_fragment.txt', 'r')"
      ],
      "metadata": {
        "id": "qq5JxsAxe0wA"
      },
      "execution_count": 6,
      "outputs": []
    },
    {
      "cell_type": "code",
      "source": [
        "#podemos aplicar el método 'name' para conocer el nombre del archivo\n",
        "file_1.name"
      ],
      "metadata": {
        "colab": {
          "base_uri": "https://localhost:8080/",
          "height": 36
        },
        "id": "96sOHei2ki-k",
        "outputId": "49b28441-e220-4c09-aab5-b50280d189d9"
      },
      "execution_count": 7,
      "outputs": [
        {
          "output_type": "execute_result",
          "data": {
            "text/plain": [
              "'shakespeare_fragment.txt'"
            ],
            "application/vnd.google.colaboratory.intrinsic+json": {
              "type": "string"
            }
          },
          "metadata": {},
          "execution_count": 7
        }
      ]
    },
    {
      "cell_type": "code",
      "source": [
        "#con el método 'mode' podemos conocer propiamente el argumento 'mode' que usamos\n",
        "file_1.mode"
      ],
      "metadata": {
        "colab": {
          "base_uri": "https://localhost:8080/",
          "height": 36
        },
        "id": "lI0fl1Lmk6qj",
        "outputId": "8ec1dd7a-c6da-4faf-f579-25aff751de65"
      },
      "execution_count": 8,
      "outputs": [
        {
          "output_type": "execute_result",
          "data": {
            "text/plain": [
              "'r'"
            ],
            "application/vnd.google.colaboratory.intrinsic+json": {
              "type": "string"
            }
          },
          "metadata": {},
          "execution_count": 8
        }
      ]
    },
    {
      "cell_type": "code",
      "source": [
        "#con el método 'read()' podemos leer el contenido del archivo\n",
        "file_1.read()"
      ],
      "metadata": {
        "colab": {
          "base_uri": "https://localhost:8080/",
          "height": 123
        },
        "id": "S78Is9KhqxKu",
        "outputId": "1c75b7e6-2c95-4be8-d015-82b517fad72a"
      },
      "execution_count": 9,
      "outputs": [
        {
          "output_type": "execute_result",
          "data": {
            "text/plain": [
              "\"1609\\n\\nTHE SONNETS\\n\\nby William Shakespeare\\n\\n\\n\\n                     1\\n  From fairest creatures we desire increase,\\n  That thereby beauty's rose might never die,\\n  But as the riper should by time decease,\\n  His tender heir might bear his memory:\\n  But thou contracted to thine own bright eyes,\\n  Feed'st thy light's flame with self-substantial fuel,\\n  Making a famine where abundance lies,\\n  Thy self thy foe, to thy sweet self too cruel:\\n  Thou that art now the world's fresh ornament,\\n  And only herald to the gaudy spring,\\n  Within thine own bud buriest thy content,\\n  And tender churl mak'st waste in niggarding:\\n    Pity the world, or else this glutton be,\\n    To eat the world's due, by the grave and thee.\\n\\n\\n                     2\\n  When forty winters shall besiege thy brow,\\n  And dig deep trenches in thy beauty's field,\\n  Thy youth's proud livery so gazed on now,\\n  Will be a tattered weed of small worth held:  \\n  Then being asked, where all thy beauty lies,\\n  Where all the treasure of thy lusty days;\\n  To say within thine own deep sunken eyes,\\n  Were an all-eating shame, and thriftless praise.\\n  How much more praise deserved thy beauty's use,\\n  If thou couldst answer 'This fair child of mine\\n  Shall sum my count, and make my old excuse'\\n  Proving his beauty by succession thine.\\n    This were to be new made when thou art old,\\n    And see thy blood warm when thou feel'st it cold.\""
            ],
            "application/vnd.google.colaboratory.intrinsic+json": {
              "type": "string"
            }
          },
          "metadata": {},
          "execution_count": 9
        }
      ]
    },
    {
      "cell_type": "code",
      "source": [
        "#por otra parte debemos siempre cerrar el archivo con el método 'close()'\n",
        "file_1.close()"
      ],
      "metadata": {
        "id": "OdBlrSu8nqDI"
      },
      "execution_count": 4,
      "outputs": []
    },
    {
      "cell_type": "code",
      "source": [
        "#para evitar el uso del método 'close()' podemos indentar nuestro código dentro de un bloque con el 'keyword' 'with'\n",
        "#en este caso leemos el archivo y lo imprimimos\n",
        "with open('shakespeare_fragment.txt', 'r') as file_1:\n",
        "  file_tmp = file_1.read()\n",
        "  print(file_tmp)"
      ],
      "metadata": {
        "colab": {
          "base_uri": "https://localhost:8080/"
        },
        "id": "A8dtmtUpn_El",
        "outputId": "f94365d1-bfd2-47bd-d50d-e0d5ccf89588"
      },
      "execution_count": 10,
      "outputs": [
        {
          "output_type": "stream",
          "name": "stdout",
          "text": [
            "1609\n",
            "\n",
            "THE SONNETS\n",
            "\n",
            "by William Shakespeare\n",
            "\n",
            "\n",
            "\n",
            "                     1\n",
            "  From fairest creatures we desire increase,\n",
            "  That thereby beauty's rose might never die,\n",
            "  But as the riper should by time decease,\n",
            "  His tender heir might bear his memory:\n",
            "  But thou contracted to thine own bright eyes,\n",
            "  Feed'st thy light's flame with self-substantial fuel,\n",
            "  Making a famine where abundance lies,\n",
            "  Thy self thy foe, to thy sweet self too cruel:\n",
            "  Thou that art now the world's fresh ornament,\n",
            "  And only herald to the gaudy spring,\n",
            "  Within thine own bud buriest thy content,\n",
            "  And tender churl mak'st waste in niggarding:\n",
            "    Pity the world, or else this glutton be,\n",
            "    To eat the world's due, by the grave and thee.\n",
            "\n",
            "\n",
            "                     2\n",
            "  When forty winters shall besiege thy brow,\n",
            "  And dig deep trenches in thy beauty's field,\n",
            "  Thy youth's proud livery so gazed on now,\n",
            "  Will be a tattered weed of small worth held:  \n",
            "  Then being asked, where all thy beauty lies,\n",
            "  Where all the treasure of thy lusty days;\n",
            "  To say within thine own deep sunken eyes,\n",
            "  Were an all-eating shame, and thriftless praise.\n",
            "  How much more praise deserved thy beauty's use,\n",
            "  If thou couldst answer 'This fair child of mine\n",
            "  Shall sum my count, and make my old excuse'\n",
            "  Proving his beauty by succession thine.\n",
            "    This were to be new made when thou art old,\n",
            "    And see thy blood warm when thou feel'st it cold.\n"
          ]
        }
      ]
    },
    {
      "cell_type": "code",
      "source": [
        "#también podemos iterar con la 'keyword' 'with'\n",
        "with open('shakespeare_fragment.txt', 'r') as file_1:\n",
        "  for line in file_1:\n",
        "    print(line)"
      ],
      "metadata": {
        "colab": {
          "base_uri": "https://localhost:8080/"
        },
        "id": "RY0_53GCrh-m",
        "outputId": "fad7248f-b9fb-4505-9df5-950506265c2f"
      },
      "execution_count": 11,
      "outputs": [
        {
          "output_type": "stream",
          "name": "stdout",
          "text": [
            "1609\n",
            "\n",
            "\n",
            "\n",
            "THE SONNETS\n",
            "\n",
            "\n",
            "\n",
            "by William Shakespeare\n",
            "\n",
            "\n",
            "\n",
            "\n",
            "\n",
            "\n",
            "\n",
            "                     1\n",
            "\n",
            "  From fairest creatures we desire increase,\n",
            "\n",
            "  That thereby beauty's rose might never die,\n",
            "\n",
            "  But as the riper should by time decease,\n",
            "\n",
            "  His tender heir might bear his memory:\n",
            "\n",
            "  But thou contracted to thine own bright eyes,\n",
            "\n",
            "  Feed'st thy light's flame with self-substantial fuel,\n",
            "\n",
            "  Making a famine where abundance lies,\n",
            "\n",
            "  Thy self thy foe, to thy sweet self too cruel:\n",
            "\n",
            "  Thou that art now the world's fresh ornament,\n",
            "\n",
            "  And only herald to the gaudy spring,\n",
            "\n",
            "  Within thine own bud buriest thy content,\n",
            "\n",
            "  And tender churl mak'st waste in niggarding:\n",
            "\n",
            "    Pity the world, or else this glutton be,\n",
            "\n",
            "    To eat the world's due, by the grave and thee.\n",
            "\n",
            "\n",
            "\n",
            "\n",
            "\n",
            "                     2\n",
            "\n",
            "  When forty winters shall besiege thy brow,\n",
            "\n",
            "  And dig deep trenches in thy beauty's field,\n",
            "\n",
            "  Thy youth's proud livery so gazed on now,\n",
            "\n",
            "  Will be a tattered weed of small worth held:  \n",
            "\n",
            "  Then being asked, where all thy beauty lies,\n",
            "\n",
            "  Where all the treasure of thy lusty days;\n",
            "\n",
            "  To say within thine own deep sunken eyes,\n",
            "\n",
            "  Were an all-eating shame, and thriftless praise.\n",
            "\n",
            "  How much more praise deserved thy beauty's use,\n",
            "\n",
            "  If thou couldst answer 'This fair child of mine\n",
            "\n",
            "  Shall sum my count, and make my old excuse'\n",
            "\n",
            "  Proving his beauty by succession thine.\n",
            "\n",
            "    This were to be new made when thou art old,\n",
            "\n",
            "    And see thy blood warm when thou feel'st it cold.\n"
          ]
        }
      ]
    },
    {
      "cell_type": "code",
      "source": [
        "#también podemos usar el método 'readlines()'\n",
        "#con este método creamos una lista de todas las lineas de nuestro archivo\n",
        "with open('shakespeare_fragment.txt', 'r') as file_1:\n",
        "  line_tmp = file_1.readlines()\n",
        "\n",
        "  print(line_tmp) "
      ],
      "metadata": {
        "colab": {
          "base_uri": "https://localhost:8080/"
        },
        "id": "iSkoSJL0wg27",
        "outputId": "88b2f8c9-5c81-4139-a926-566dae7c9231"
      },
      "execution_count": 16,
      "outputs": [
        {
          "output_type": "stream",
          "name": "stdout",
          "text": [
            "['1609\\n', '\\n', 'THE SONNETS\\n', '\\n', 'by William Shakespeare\\n', '\\n', '\\n', '\\n', '                     1\\n', '  From fairest creatures we desire increase,\\n', \"  That thereby beauty's rose might never die,\\n\", '  But as the riper should by time decease,\\n', '  His tender heir might bear his memory:\\n', '  But thou contracted to thine own bright eyes,\\n', \"  Feed'st thy light's flame with self-substantial fuel,\\n\", '  Making a famine where abundance lies,\\n', '  Thy self thy foe, to thy sweet self too cruel:\\n', \"  Thou that art now the world's fresh ornament,\\n\", '  And only herald to the gaudy spring,\\n', '  Within thine own bud buriest thy content,\\n', \"  And tender churl mak'st waste in niggarding:\\n\", '    Pity the world, or else this glutton be,\\n', \"    To eat the world's due, by the grave and thee.\\n\", '\\n', '\\n', '                     2\\n', '  When forty winters shall besiege thy brow,\\n', \"  And dig deep trenches in thy beauty's field,\\n\", \"  Thy youth's proud livery so gazed on now,\\n\", '  Will be a tattered weed of small worth held:  \\n', '  Then being asked, where all thy beauty lies,\\n', '  Where all the treasure of thy lusty days;\\n', '  To say within thine own deep sunken eyes,\\n', '  Were an all-eating shame, and thriftless praise.\\n', \"  How much more praise deserved thy beauty's use,\\n\", \"  If thou couldst answer 'This fair child of mine\\n\", \"  Shall sum my count, and make my old excuse'\\n\", '  Proving his beauty by succession thine.\\n', '    This were to be new made when thou art old,\\n', \"    And see thy blood warm when thou feel'st it cold.\"]\n"
          ]
        }
      ]
    },
    {
      "cell_type": "markdown",
      "source": [
        "### Lab - Reading Files"
      ],
      "metadata": {
        "id": "dZUeqLwY5qfG"
      }
    },
    {
      "cell_type": "code",
      "source": [
        "#Completando lo anterior con lo que se menciona en el 'Lab-Reading Files'\n",
        "#Con un entero como argumento en la función 'read(n)' podemos traer el número de caracteres que queramos \n",
        "\n",
        "with open('shakespeare_fragment.txt', 'r') as file1:\n",
        "    print(file1.read(4))"
      ],
      "metadata": {
        "colab": {
          "base_uri": "https://localhost:8080/"
        },
        "id": "s2Fi12WtxPQE",
        "outputId": "960efc72-8194-40a8-c645-2c9df70a93fd"
      },
      "execution_count": 17,
      "outputs": [
        {
          "output_type": "stream",
          "name": "stdout",
          "text": [
            "1609\n"
          ]
        }
      ]
    },
    {
      "cell_type": "code",
      "source": [
        "#también completando lo mencionado en las notas podemos ir utilizando los índicides de una lista cuando usamos el método 'readlines()'\n",
        "with open('shakespeare_fragment.txt', 'r') as file_1:\n",
        "  list_tmp = file_1.readlines()\n",
        "\n",
        "  print(line_tmp) "
      ],
      "metadata": {
        "colab": {
          "base_uri": "https://localhost:8080/"
        },
        "id": "JVEXNX8T5_cp",
        "outputId": "c685d281-aaf0-4e79-ef83-0190de06d185"
      },
      "execution_count": 21,
      "outputs": [
        {
          "output_type": "stream",
          "name": "stdout",
          "text": [
            "['1609\\n', '\\n', 'THE SONNETS\\n', '\\n', 'by William Shakespeare\\n', '\\n', '\\n', '\\n', '                     1\\n', '  From fairest creatures we desire increase,\\n', \"  That thereby beauty's rose might never die,\\n\", '  But as the riper should by time decease,\\n', '  His tender heir might bear his memory:\\n', '  But thou contracted to thine own bright eyes,\\n', \"  Feed'st thy light's flame with self-substantial fuel,\\n\", '  Making a famine where abundance lies,\\n', '  Thy self thy foe, to thy sweet self too cruel:\\n', \"  Thou that art now the world's fresh ornament,\\n\", '  And only herald to the gaudy spring,\\n', '  Within thine own bud buriest thy content,\\n', \"  And tender churl mak'st waste in niggarding:\\n\", '    Pity the world, or else this glutton be,\\n', \"    To eat the world's due, by the grave and thee.\\n\", '\\n', '\\n', '                     2\\n', '  When forty winters shall besiege thy brow,\\n', \"  And dig deep trenches in thy beauty's field,\\n\", \"  Thy youth's proud livery so gazed on now,\\n\", '  Will be a tattered weed of small worth held:  \\n', '  Then being asked, where all thy beauty lies,\\n', '  Where all the treasure of thy lusty days;\\n', '  To say within thine own deep sunken eyes,\\n', '  Were an all-eating shame, and thriftless praise.\\n', \"  How much more praise deserved thy beauty's use,\\n\", \"  If thou couldst answer 'This fair child of mine\\n\", \"  Shall sum my count, and make my old excuse'\\n\", '  Proving his beauty by succession thine.\\n', '    This were to be new made when thou art old,\\n', \"    And see thy blood warm when thou feel'st it cold.\"]\n"
          ]
        }
      ]
    },
    {
      "cell_type": "code",
      "source": [
        "list_tmp[2]"
      ],
      "metadata": {
        "colab": {
          "base_uri": "https://localhost:8080/",
          "height": 36
        },
        "id": "oMxPIFR85_el",
        "outputId": "c7e97ab1-d7f6-4ace-9ce8-4de9396251fb"
      },
      "execution_count": 23,
      "outputs": [
        {
          "output_type": "execute_result",
          "data": {
            "text/plain": [
              "'THE SONNETS\\n'"
            ],
            "application/vnd.google.colaboratory.intrinsic+json": {
              "type": "string"
            }
          },
          "metadata": {},
          "execution_count": 23
        }
      ]
    },
    {
      "cell_type": "markdown",
      "source": [
        "### Writing Files with Open"
      ],
      "metadata": {
        "id": "WxHXMHA3Arzo"
      }
    },
    {
      "cell_type": "code",
      "source": [
        "#de igual manera que leímos un rachivo podemos crear uno nuevo cambiando el segundo parámetro de la función 'open'\n",
        "#esto es usando el 'mode' 'w' \n",
        "with open('example.txt', 'w') as file_2:\n",
        "  file_2.write('Esto es la línea 1')"
      ],
      "metadata": {
        "id": "Tmwyi_ED5_hk"
      },
      "execution_count": 26,
      "outputs": []
    },
    {
      "cell_type": "code",
      "source": [
        "#una vez escrito nuestro nuevo archivo podemos leerlo\n",
        "with open('example.txt', 'r') as file_2:\n",
        "\n",
        "  print(file_2.read())"
      ],
      "metadata": {
        "colab": {
          "base_uri": "https://localhost:8080/"
        },
        "id": "Bm60_WQu5_k8",
        "outputId": "5cc80950-53d7-419f-e357-092a7b3725f9"
      },
      "execution_count": 27,
      "outputs": [
        {
          "output_type": "stream",
          "name": "stdout",
          "text": [
            "Esto es la línea 1\n"
          ]
        }
      ]
    },
    {
      "cell_type": "code",
      "source": [
        "#también podemos ocupar un 'loop' para escribir distintas líneas desde los elementos de una lista\n",
        "lst_tmp = ['linea 1\\n', 'linea 2\\n', 'linea 3\\n', 'linea 4']\n",
        "with open('example.txt', 'w') as file_2:\n",
        "  for line in lst_tmp:\n",
        "    file_2.write(line)"
      ],
      "metadata": {
        "id": "RJw1eJmK5_qJ"
      },
      "execution_count": 30,
      "outputs": []
    },
    {
      "cell_type": "code",
      "source": [
        "#una vez escrito nuestro nuevo archivo podemos leerlo\n",
        "with open('example.txt', 'r') as file_2:\n",
        "\n",
        "  print(file_2.read())"
      ],
      "metadata": {
        "colab": {
          "base_uri": "https://localhost:8080/"
        },
        "id": "PK9nzns65_tV",
        "outputId": "461f9a5b-9715-4ad4-9bfe-01648ccab0de"
      },
      "execution_count": 31,
      "outputs": [
        {
          "output_type": "stream",
          "name": "stdout",
          "text": [
            "linea 1\n",
            "linea 2\n",
            "linea 3\n",
            "linea 4\n"
          ]
        }
      ]
    },
    {
      "cell_type": "code",
      "source": [
        "#también podemos realizar un 'append' a un archivo existente\n",
        "with open('example.txt', 'a') as file_2:\n",
        "\n",
        "  file_2.write('\\n nueva línea')"
      ],
      "metadata": {
        "id": "xGhTheDo5_vV"
      },
      "execution_count": 32,
      "outputs": []
    },
    {
      "cell_type": "code",
      "source": [
        "#una vez escrito nuestro nuevo archivo podemos leerlo\n",
        "with open('example.txt', 'r') as file_2:\n",
        "\n",
        "  print(file_2.read())"
      ],
      "metadata": {
        "colab": {
          "base_uri": "https://localhost:8080/"
        },
        "id": "1W746K6R5_zM",
        "outputId": "1d881e52-4360-4a19-a4b2-e17c8a1430b1"
      },
      "execution_count": 33,
      "outputs": [
        {
          "output_type": "stream",
          "name": "stdout",
          "text": [
            "linea 1\n",
            "linea 2\n",
            "linea 3\n",
            "linea 4\n",
            " nueva línea\n"
          ]
        }
      ]
    },
    {
      "cell_type": "code",
      "source": [
        "#también podemos copiar un archivo a otro nuevo\n",
        "#anidando la función 'open()'\n",
        "\n",
        "with open('example.txt','r') as file_2:\n",
        "    with open('example_2.txt','w') as file_3:\n",
        "          for line in file_2:\n",
        "                file_3.write(line)"
      ],
      "metadata": {
        "id": "26bbGIrDDaJv"
      },
      "execution_count": 36,
      "outputs": []
    },
    {
      "cell_type": "code",
      "source": [
        "#una vez escrito nuestro nuevo archivo podemos leerlo\n",
        "with open('example_2.txt', 'r') as file_3:\n",
        "\n",
        "  print(file_3.read())"
      ],
      "metadata": {
        "colab": {
          "base_uri": "https://localhost:8080/"
        },
        "id": "L7sxdWAdKWMT",
        "outputId": "d7d35c0a-b210-43c1-a827-f3cd54d82234"
      },
      "execution_count": 37,
      "outputs": [
        {
          "output_type": "stream",
          "name": "stdout",
          "text": [
            "linea 1\n",
            "linea 2\n",
            "linea 3\n",
            "linea 4\n",
            " nueva línea\n"
          ]
        }
      ]
    },
    {
      "cell_type": "markdown",
      "source": [
        "### Lab - Writing Files"
      ],
      "metadata": {
        "id": "4bH19yE_EsFx"
      }
    },
    {
      "cell_type": "markdown",
      "source": [
        "### **Exercise**"
      ],
      "metadata": {
        "id": "sgIWqvvhfdvc"
      }
    },
    {
      "cell_type": "markdown",
      "source": [
        "Your local university's Raptors fan club maintains a register of its active members on a .txt document. Every month they update the file by removing the members who are not active. You have been tasked with automating this with your Python skills. <br>\n",
        "Given the file `currentMem`, Remove each member with a 'no' in their Active column. Keep track of each of the removed members and append them to the `exMem` file. Make sure that the format of the original files in preserved.   (*Hint: Do this by reading/writing whole lines and ensuring the header remains* ) <br>\n",
        "Run the code block below prior to starting the exercise. The skeleton code has been provided for you. Edit only the `cleanFiles` function.\n"
      ],
      "metadata": {
        "id": "OOD2jh6dfU4y"
      }
    },
    {
      "cell_type": "code",
      "source": [
        "#realizando el ejercicio de segundo lab\n",
        "from random import randint as rnd\n",
        "\n",
        "memReg = 'members.txt'\n",
        "exReg = 'inactive.txt'\n",
        "fee =('yes','no')\n",
        "\n",
        "def genFiles(current,old):\n",
        "    with open(current,'w+') as writefile: \n",
        "        writefile.write('Membership No  Date Joined  Active  \\n')\n",
        "        data = \"{:^13}  {:<11}  {:<6}\\n\"\n",
        "\n",
        "        for rowno in range(20):\n",
        "            date = str(rnd(2015,2020))+ '-' + str(rnd(1,12))+'-'+str(rnd(1,25))\n",
        "            writefile.write(data.format(rnd(10000,99999),date,fee[rnd(0,1)]))\n",
        "\n",
        "\n",
        "    with open(old,'w+') as writefile: \n",
        "        writefile.write('Membership No  Date Joined  Active  \\n')\n",
        "        data = \"{:^13}  {:<11}  {:<6}\\n\"\n",
        "        for rowno in range(3):\n",
        "            date = str(rnd(2015,2020))+ '-' + str(rnd(1,12))+'-'+str(rnd(1,25))\n",
        "            writefile.write(data.format(rnd(10000,99999),date,fee[1]))\n",
        "\n",
        "\n",
        "genFiles(memReg,exReg)"
      ],
      "metadata": {
        "id": "vMR72XsOITf2"
      },
      "execution_count": 34,
      "outputs": []
    },
    {
      "cell_type": "markdown",
      "source": [
        "### **Para la anterior pregunta propongo el siguiente código**"
      ],
      "metadata": {
        "id": "etbjVsHHg2MW"
      }
    },
    {
      "cell_type": "code",
      "source": [
        "'''\n",
        "The two arguments for this function are the files:\n",
        "    - currentMem: File containing list of current members\n",
        "    - exMem: File containing list of old members\n",
        "    \n",
        "    This function should remove all rows from currentMem containing 'no' \n",
        "    in the 'Active' column and appends them to exMem.\n",
        "    '''\n",
        "def cleanFiles(currentMem, exMem):\n",
        "    # TODO: Open the currentMem file as in r+ mode\n",
        "        #TODO: Open the exMem file in a+ mode\n",
        "\n",
        "        #TODO: Read each member in the currentMem (1 member per row) file into a list.\n",
        "        # Hint: Recall that the first line in the file is the header.\n",
        "\n",
        "        #TODO: iterate through the members and create a new list of the innactive members\n",
        "\n",
        "        # Go to the beginning of the currentMem file\n",
        "        # TODO: Iterate through the members list. \n",
        "        # If a member is inactive, add them to exMem, otherwise write them into currentMem\n",
        "    lst_tmp = []\n",
        "    lst_active = []\n",
        "    lst_inactive = []\n",
        "    \n",
        "    with open(currentMem, 'r+') as mem_reg:\n",
        "        for line in mem_reg:\n",
        "            lst_tmp.append(line)\n",
        "    \n",
        "    header = lst_tmp[0]\n",
        "    lst_tmp = lst_tmp[1:]\n",
        "    \n",
        "    for member in lst_tmp:\n",
        "        if 'no' in member:\n",
        "            lst_inactive.append(member)\n",
        "        else:\n",
        "            lst_active.append(member)\n",
        "            \n",
        "    with open(currentMem, 'w+') as mem_reg:\n",
        "        mem_reg.write(header)\n",
        "        for line in lst_active:\n",
        "            mem_reg.write(line)\n",
        "            \n",
        "    with open(exMem, 'a+') as mem_reg:\n",
        "        for line in lst_inactive:\n",
        "            mem_reg.write(line)       \n",
        "\n",
        "\n",
        "memReg = 'members.txt'\n",
        "exReg = 'inactive.txt'\n",
        "cleanFiles(memReg,exReg)\n",
        "\n",
        "\n",
        "headers = \"Membership No  Date Joined  Active  \\n\"\n",
        "with open(memReg,'r') as readFile:\n",
        "    print(\"Active Members: \\n\\n\")\n",
        "    print(readFile.read())\n",
        "    \n",
        "with open(exReg,'r') as readFile:\n",
        "    print(\"Inactive Members: \\n\\n\")\n",
        "    print(readFile.read())\n",
        "                "
      ],
      "metadata": {
        "colab": {
          "base_uri": "https://localhost:8080/"
        },
        "id": "av8Fe9CUIeO_",
        "outputId": "4e66c8db-77cc-45ab-b1f8-ebba385f6434"
      },
      "execution_count": 56,
      "outputs": [
        {
          "output_type": "stream",
          "name": "stdout",
          "text": [
            "Active Members: \n",
            "\n",
            "\n",
            "Membership No  Date Joined  Active  \n",
            "    64563      2016-6-14    yes   \n",
            "    24791      2016-5-15    yes   \n",
            "    78434      2018-11-19   yes   \n",
            "    35801      2018-9-16    yes   \n",
            "    25206      2017-9-15    yes   \n",
            "    71555      2019-10-12   yes   \n",
            "    14084      2020-5-18    yes   \n",
            "    59978      2019-6-16    yes   \n",
            "    68583      2018-2-8     yes   \n",
            "    16064      2019-11-21   yes   \n",
            "\n",
            "Inactive Members: \n",
            "\n",
            "\n",
            "Membership No  Date Joined  Active  \n",
            "    91222      2020-12-9    no    \n",
            "    52671      2018-2-4     no    \n",
            "    92240      2019-1-10    no    \n",
            "    26588      2015-11-22   no    \n",
            "    42809      2015-4-11    no    \n",
            "    22565      2019-11-2    no    \n",
            "    58949      2017-4-2     no    \n",
            "    96769      2019-8-14    no    \n",
            "    50371      2019-11-9    no    \n",
            "    64486      2018-1-6     no    \n",
            "    14192      2018-7-23    no    \n",
            "    62379      2018-2-8     no    \n",
            "    52932      2016-9-19    no    \n",
            "\n"
          ]
        }
      ]
    },
    {
      "cell_type": "markdown",
      "source": [
        "### **La cual al ser verificada**"
      ],
      "metadata": {
        "id": "67cYqBZvhMp3"
      }
    },
    {
      "cell_type": "code",
      "source": [
        "def testMsg(passed):\n",
        "    if passed:\n",
        "       return 'Test Passed'\n",
        "    else :\n",
        "       return 'Test Failed'\n",
        "\n",
        "testWrite = \"testWrite.txt\"\n",
        "testAppend = \"testAppend.txt\" \n",
        "passed = True\n",
        "\n",
        "genFiles(testWrite,testAppend)\n",
        "\n",
        "with open(testWrite,'r') as file:\n",
        "    ogWrite = file.readlines()\n",
        "\n",
        "with open(testAppend,'r') as file:\n",
        "    ogAppend = file.readlines()\n",
        "\n",
        "try:\n",
        "    cleanFiles(testWrite,testAppend)\n",
        "except:\n",
        "    print('Error')\n",
        "\n",
        "with open(testWrite,'r') as file:\n",
        "    clWrite = file.readlines()\n",
        "\n",
        "with open(testAppend,'r') as file:\n",
        "    clAppend = file.readlines()\n",
        "        \n",
        "# checking if total no of rows is same, including headers\n",
        "\n",
        "if (len(ogWrite) + len(ogAppend) != len(clWrite) + len(clAppend)):\n",
        "    print(\"The number of rows do not add up. Make sure your final files have the same header and format.\")\n",
        "    passed = False\n",
        "    \n",
        "for line in clWrite:\n",
        "    if  'no' in line:\n",
        "        passed = False\n",
        "        print(\"Inactive members in file\")\n",
        "        break\n",
        "    else:\n",
        "        if line not in ogWrite:\n",
        "            print(\"Data in file does not match original file\")\n",
        "            passed = False\n",
        "print (\"{}\".format(testMsg(passed)))\n",
        "    \n",
        "\n"
      ],
      "metadata": {
        "colab": {
          "base_uri": "https://localhost:8080/"
        },
        "id": "tHWr2ZbjIeU3",
        "outputId": "a080dbab-10ce-4718-ef28-4f512495b841"
      },
      "execution_count": 57,
      "outputs": [
        {
          "output_type": "stream",
          "name": "stdout",
          "text": [
            "Test Passed\n"
          ]
        }
      ]
    },
    {
      "cell_type": "markdown",
      "source": [
        "### Loading Data with Pandas"
      ],
      "metadata": {
        "id": "8tUrOj5misYF"
      }
    },
    {
      "cell_type": "code",
      "source": [
        "#Por medio de la libreria pandas podemos leer archivos, los formatos más comunes son '.csv' y '.xlsx'\n",
        "#Esta librería es una de las más comunes para hacer exploración y análisis de datos\n",
        "#podemos importarla con la 'keyword' 'import' y para usarla podemos abreviarla con la 'keyword' 'as'\n",
        "import pandas as pd"
      ],
      "metadata": {
        "id": "0tGapIEIIecN"
      },
      "execution_count": 58,
      "outputs": []
    },
    {
      "cell_type": "code",
      "source": [
        "#al utilizar el método 'read_csv' podemos leer una base en '.csv' o bien 'read_excel' para leer un archivo en '.xlsx'\n",
        "#el resultado será un 'dataframe'\n",
        "df = pd.read_csv('sample_data/california_housing_test.csv')"
      ],
      "metadata": {
        "id": "MsH0CZXJIefS"
      },
      "execution_count": 59,
      "outputs": []
    },
    {
      "cell_type": "code",
      "source": [
        "#con el método '.head()' podemos dar un 'view' de nuestros datos\n",
        "df.head()"
      ],
      "metadata": {
        "colab": {
          "base_uri": "https://localhost:8080/",
          "height": 206
        },
        "id": "MjFs4NtwIeit",
        "outputId": "dd9e34c0-453f-494e-fe78-c87687d248ba"
      },
      "execution_count": 60,
      "outputs": [
        {
          "output_type": "execute_result",
          "data": {
            "text/plain": [
              "   longitude  latitude  housing_median_age  total_rooms  total_bedrooms  \\\n",
              "0    -122.05     37.37                27.0       3885.0           661.0   \n",
              "1    -118.30     34.26                43.0       1510.0           310.0   \n",
              "2    -117.81     33.78                27.0       3589.0           507.0   \n",
              "3    -118.36     33.82                28.0         67.0            15.0   \n",
              "4    -119.67     36.33                19.0       1241.0           244.0   \n",
              "\n",
              "   population  households  median_income  median_house_value  \n",
              "0      1537.0       606.0         6.6085            344700.0  \n",
              "1       809.0       277.0         3.5990            176500.0  \n",
              "2      1484.0       495.0         5.7934            270500.0  \n",
              "3        49.0        11.0         6.1359            330000.0  \n",
              "4       850.0       237.0         2.9375             81700.0  "
            ],
            "text/html": [
              "\n",
              "  <div id=\"df-db54e39a-aa41-4c56-bde0-2ed6da99a929\">\n",
              "    <div class=\"colab-df-container\">\n",
              "      <div>\n",
              "<style scoped>\n",
              "    .dataframe tbody tr th:only-of-type {\n",
              "        vertical-align: middle;\n",
              "    }\n",
              "\n",
              "    .dataframe tbody tr th {\n",
              "        vertical-align: top;\n",
              "    }\n",
              "\n",
              "    .dataframe thead th {\n",
              "        text-align: right;\n",
              "    }\n",
              "</style>\n",
              "<table border=\"1\" class=\"dataframe\">\n",
              "  <thead>\n",
              "    <tr style=\"text-align: right;\">\n",
              "      <th></th>\n",
              "      <th>longitude</th>\n",
              "      <th>latitude</th>\n",
              "      <th>housing_median_age</th>\n",
              "      <th>total_rooms</th>\n",
              "      <th>total_bedrooms</th>\n",
              "      <th>population</th>\n",
              "      <th>households</th>\n",
              "      <th>median_income</th>\n",
              "      <th>median_house_value</th>\n",
              "    </tr>\n",
              "  </thead>\n",
              "  <tbody>\n",
              "    <tr>\n",
              "      <th>0</th>\n",
              "      <td>-122.05</td>\n",
              "      <td>37.37</td>\n",
              "      <td>27.0</td>\n",
              "      <td>3885.0</td>\n",
              "      <td>661.0</td>\n",
              "      <td>1537.0</td>\n",
              "      <td>606.0</td>\n",
              "      <td>6.6085</td>\n",
              "      <td>344700.0</td>\n",
              "    </tr>\n",
              "    <tr>\n",
              "      <th>1</th>\n",
              "      <td>-118.30</td>\n",
              "      <td>34.26</td>\n",
              "      <td>43.0</td>\n",
              "      <td>1510.0</td>\n",
              "      <td>310.0</td>\n",
              "      <td>809.0</td>\n",
              "      <td>277.0</td>\n",
              "      <td>3.5990</td>\n",
              "      <td>176500.0</td>\n",
              "    </tr>\n",
              "    <tr>\n",
              "      <th>2</th>\n",
              "      <td>-117.81</td>\n",
              "      <td>33.78</td>\n",
              "      <td>27.0</td>\n",
              "      <td>3589.0</td>\n",
              "      <td>507.0</td>\n",
              "      <td>1484.0</td>\n",
              "      <td>495.0</td>\n",
              "      <td>5.7934</td>\n",
              "      <td>270500.0</td>\n",
              "    </tr>\n",
              "    <tr>\n",
              "      <th>3</th>\n",
              "      <td>-118.36</td>\n",
              "      <td>33.82</td>\n",
              "      <td>28.0</td>\n",
              "      <td>67.0</td>\n",
              "      <td>15.0</td>\n",
              "      <td>49.0</td>\n",
              "      <td>11.0</td>\n",
              "      <td>6.1359</td>\n",
              "      <td>330000.0</td>\n",
              "    </tr>\n",
              "    <tr>\n",
              "      <th>4</th>\n",
              "      <td>-119.67</td>\n",
              "      <td>36.33</td>\n",
              "      <td>19.0</td>\n",
              "      <td>1241.0</td>\n",
              "      <td>244.0</td>\n",
              "      <td>850.0</td>\n",
              "      <td>237.0</td>\n",
              "      <td>2.9375</td>\n",
              "      <td>81700.0</td>\n",
              "    </tr>\n",
              "  </tbody>\n",
              "</table>\n",
              "</div>\n",
              "      <button class=\"colab-df-convert\" onclick=\"convertToInteractive('df-db54e39a-aa41-4c56-bde0-2ed6da99a929')\"\n",
              "              title=\"Convert this dataframe to an interactive table.\"\n",
              "              style=\"display:none;\">\n",
              "        \n",
              "  <svg xmlns=\"http://www.w3.org/2000/svg\" height=\"24px\"viewBox=\"0 0 24 24\"\n",
              "       width=\"24px\">\n",
              "    <path d=\"M0 0h24v24H0V0z\" fill=\"none\"/>\n",
              "    <path d=\"M18.56 5.44l.94 2.06.94-2.06 2.06-.94-2.06-.94-.94-2.06-.94 2.06-2.06.94zm-11 1L8.5 8.5l.94-2.06 2.06-.94-2.06-.94L8.5 2.5l-.94 2.06-2.06.94zm10 10l.94 2.06.94-2.06 2.06-.94-2.06-.94-.94-2.06-.94 2.06-2.06.94z\"/><path d=\"M17.41 7.96l-1.37-1.37c-.4-.4-.92-.59-1.43-.59-.52 0-1.04.2-1.43.59L10.3 9.45l-7.72 7.72c-.78.78-.78 2.05 0 2.83L4 21.41c.39.39.9.59 1.41.59.51 0 1.02-.2 1.41-.59l7.78-7.78 2.81-2.81c.8-.78.8-2.07 0-2.86zM5.41 20L4 18.59l7.72-7.72 1.47 1.35L5.41 20z\"/>\n",
              "  </svg>\n",
              "      </button>\n",
              "      \n",
              "  <style>\n",
              "    .colab-df-container {\n",
              "      display:flex;\n",
              "      flex-wrap:wrap;\n",
              "      gap: 12px;\n",
              "    }\n",
              "\n",
              "    .colab-df-convert {\n",
              "      background-color: #E8F0FE;\n",
              "      border: none;\n",
              "      border-radius: 50%;\n",
              "      cursor: pointer;\n",
              "      display: none;\n",
              "      fill: #1967D2;\n",
              "      height: 32px;\n",
              "      padding: 0 0 0 0;\n",
              "      width: 32px;\n",
              "    }\n",
              "\n",
              "    .colab-df-convert:hover {\n",
              "      background-color: #E2EBFA;\n",
              "      box-shadow: 0px 1px 2px rgba(60, 64, 67, 0.3), 0px 1px 3px 1px rgba(60, 64, 67, 0.15);\n",
              "      fill: #174EA6;\n",
              "    }\n",
              "\n",
              "    [theme=dark] .colab-df-convert {\n",
              "      background-color: #3B4455;\n",
              "      fill: #D2E3FC;\n",
              "    }\n",
              "\n",
              "    [theme=dark] .colab-df-convert:hover {\n",
              "      background-color: #434B5C;\n",
              "      box-shadow: 0px 1px 3px 1px rgba(0, 0, 0, 0.15);\n",
              "      filter: drop-shadow(0px 1px 2px rgba(0, 0, 0, 0.3));\n",
              "      fill: #FFFFFF;\n",
              "    }\n",
              "  </style>\n",
              "\n",
              "      <script>\n",
              "        const buttonEl =\n",
              "          document.querySelector('#df-db54e39a-aa41-4c56-bde0-2ed6da99a929 button.colab-df-convert');\n",
              "        buttonEl.style.display =\n",
              "          google.colab.kernel.accessAllowed ? 'block' : 'none';\n",
              "\n",
              "        async function convertToInteractive(key) {\n",
              "          const element = document.querySelector('#df-db54e39a-aa41-4c56-bde0-2ed6da99a929');\n",
              "          const dataTable =\n",
              "            await google.colab.kernel.invokeFunction('convertToInteractive',\n",
              "                                                     [key], {});\n",
              "          if (!dataTable) return;\n",
              "\n",
              "          const docLinkHtml = 'Like what you see? Visit the ' +\n",
              "            '<a target=\"_blank\" href=https://colab.research.google.com/notebooks/data_table.ipynb>data table notebook</a>'\n",
              "            + ' to learn more about interactive tables.';\n",
              "          element.innerHTML = '';\n",
              "          dataTable['output_type'] = 'display_data';\n",
              "          await google.colab.output.renderOutput(dataTable, element);\n",
              "          const docLink = document.createElement('div');\n",
              "          docLink.innerHTML = docLinkHtml;\n",
              "          element.appendChild(docLink);\n",
              "        }\n",
              "      </script>\n",
              "    </div>\n",
              "  </div>\n",
              "  "
            ]
          },
          "metadata": {},
          "execution_count": 60
        }
      ]
    },
    {
      "cell_type": "code",
      "source": [
        "#tambien podemos crear un 'dataframe' a partir de un diccionario con el método 'DataFrame()'\n",
        "dict_tmp = {'A': ['x', 'y', 'z'], 'B': [0, 1, 2], 'C': ['a', 'b', 'c']}\n",
        "df_dict = pd.DataFrame(dict_tmp)\n",
        "df_dict.head()"
      ],
      "metadata": {
        "colab": {
          "base_uri": "https://localhost:8080/",
          "height": 143
        },
        "id": "dLZAx9cxIelJ",
        "outputId": "fa823d85-186c-4a76-bacb-d09c2339b08b"
      },
      "execution_count": 61,
      "outputs": [
        {
          "output_type": "execute_result",
          "data": {
            "text/plain": [
              "   A  B  C\n",
              "0  x  0  a\n",
              "1  y  1  b\n",
              "2  z  2  c"
            ],
            "text/html": [
              "\n",
              "  <div id=\"df-2a0a45ca-dca1-4d43-a84f-27ec43eec3f9\">\n",
              "    <div class=\"colab-df-container\">\n",
              "      <div>\n",
              "<style scoped>\n",
              "    .dataframe tbody tr th:only-of-type {\n",
              "        vertical-align: middle;\n",
              "    }\n",
              "\n",
              "    .dataframe tbody tr th {\n",
              "        vertical-align: top;\n",
              "    }\n",
              "\n",
              "    .dataframe thead th {\n",
              "        text-align: right;\n",
              "    }\n",
              "</style>\n",
              "<table border=\"1\" class=\"dataframe\">\n",
              "  <thead>\n",
              "    <tr style=\"text-align: right;\">\n",
              "      <th></th>\n",
              "      <th>A</th>\n",
              "      <th>B</th>\n",
              "      <th>C</th>\n",
              "    </tr>\n",
              "  </thead>\n",
              "  <tbody>\n",
              "    <tr>\n",
              "      <th>0</th>\n",
              "      <td>x</td>\n",
              "      <td>0</td>\n",
              "      <td>a</td>\n",
              "    </tr>\n",
              "    <tr>\n",
              "      <th>1</th>\n",
              "      <td>y</td>\n",
              "      <td>1</td>\n",
              "      <td>b</td>\n",
              "    </tr>\n",
              "    <tr>\n",
              "      <th>2</th>\n",
              "      <td>z</td>\n",
              "      <td>2</td>\n",
              "      <td>c</td>\n",
              "    </tr>\n",
              "  </tbody>\n",
              "</table>\n",
              "</div>\n",
              "      <button class=\"colab-df-convert\" onclick=\"convertToInteractive('df-2a0a45ca-dca1-4d43-a84f-27ec43eec3f9')\"\n",
              "              title=\"Convert this dataframe to an interactive table.\"\n",
              "              style=\"display:none;\">\n",
              "        \n",
              "  <svg xmlns=\"http://www.w3.org/2000/svg\" height=\"24px\"viewBox=\"0 0 24 24\"\n",
              "       width=\"24px\">\n",
              "    <path d=\"M0 0h24v24H0V0z\" fill=\"none\"/>\n",
              "    <path d=\"M18.56 5.44l.94 2.06.94-2.06 2.06-.94-2.06-.94-.94-2.06-.94 2.06-2.06.94zm-11 1L8.5 8.5l.94-2.06 2.06-.94-2.06-.94L8.5 2.5l-.94 2.06-2.06.94zm10 10l.94 2.06.94-2.06 2.06-.94-2.06-.94-.94-2.06-.94 2.06-2.06.94z\"/><path d=\"M17.41 7.96l-1.37-1.37c-.4-.4-.92-.59-1.43-.59-.52 0-1.04.2-1.43.59L10.3 9.45l-7.72 7.72c-.78.78-.78 2.05 0 2.83L4 21.41c.39.39.9.59 1.41.59.51 0 1.02-.2 1.41-.59l7.78-7.78 2.81-2.81c.8-.78.8-2.07 0-2.86zM5.41 20L4 18.59l7.72-7.72 1.47 1.35L5.41 20z\"/>\n",
              "  </svg>\n",
              "      </button>\n",
              "      \n",
              "  <style>\n",
              "    .colab-df-container {\n",
              "      display:flex;\n",
              "      flex-wrap:wrap;\n",
              "      gap: 12px;\n",
              "    }\n",
              "\n",
              "    .colab-df-convert {\n",
              "      background-color: #E8F0FE;\n",
              "      border: none;\n",
              "      border-radius: 50%;\n",
              "      cursor: pointer;\n",
              "      display: none;\n",
              "      fill: #1967D2;\n",
              "      height: 32px;\n",
              "      padding: 0 0 0 0;\n",
              "      width: 32px;\n",
              "    }\n",
              "\n",
              "    .colab-df-convert:hover {\n",
              "      background-color: #E2EBFA;\n",
              "      box-shadow: 0px 1px 2px rgba(60, 64, 67, 0.3), 0px 1px 3px 1px rgba(60, 64, 67, 0.15);\n",
              "      fill: #174EA6;\n",
              "    }\n",
              "\n",
              "    [theme=dark] .colab-df-convert {\n",
              "      background-color: #3B4455;\n",
              "      fill: #D2E3FC;\n",
              "    }\n",
              "\n",
              "    [theme=dark] .colab-df-convert:hover {\n",
              "      background-color: #434B5C;\n",
              "      box-shadow: 0px 1px 3px 1px rgba(0, 0, 0, 0.15);\n",
              "      filter: drop-shadow(0px 1px 2px rgba(0, 0, 0, 0.3));\n",
              "      fill: #FFFFFF;\n",
              "    }\n",
              "  </style>\n",
              "\n",
              "      <script>\n",
              "        const buttonEl =\n",
              "          document.querySelector('#df-2a0a45ca-dca1-4d43-a84f-27ec43eec3f9 button.colab-df-convert');\n",
              "        buttonEl.style.display =\n",
              "          google.colab.kernel.accessAllowed ? 'block' : 'none';\n",
              "\n",
              "        async function convertToInteractive(key) {\n",
              "          const element = document.querySelector('#df-2a0a45ca-dca1-4d43-a84f-27ec43eec3f9');\n",
              "          const dataTable =\n",
              "            await google.colab.kernel.invokeFunction('convertToInteractive',\n",
              "                                                     [key], {});\n",
              "          if (!dataTable) return;\n",
              "\n",
              "          const docLinkHtml = 'Like what you see? Visit the ' +\n",
              "            '<a target=\"_blank\" href=https://colab.research.google.com/notebooks/data_table.ipynb>data table notebook</a>'\n",
              "            + ' to learn more about interactive tables.';\n",
              "          element.innerHTML = '';\n",
              "          dataTable['output_type'] = 'display_data';\n",
              "          await google.colab.output.renderOutput(dataTable, element);\n",
              "          const docLink = document.createElement('div');\n",
              "          docLink.innerHTML = docLinkHtml;\n",
              "          element.appendChild(docLink);\n",
              "        }\n",
              "      </script>\n",
              "    </div>\n",
              "  </div>\n",
              "  "
            ]
          },
          "metadata": {},
          "execution_count": 61
        }
      ]
    },
    {
      "cell_type": "code",
      "source": [
        "#De 'dataframe' que creamos podemos crear un nuevo a partir de sólo algunas columnas, además usamos el método 'copy()' para hacer una copia del origanal y si modificamos\n",
        "#el nuevo 'dataframe' no afectarlo\n",
        "df_new = df[['housing_median_age', 'total_rooms']].copy()"
      ],
      "metadata": {
        "id": "NNBGnFSGIeo4"
      },
      "execution_count": 62,
      "outputs": []
    },
    {
      "cell_type": "code",
      "source": [
        "df_new.head()"
      ],
      "metadata": {
        "colab": {
          "base_uri": "https://localhost:8080/",
          "height": 206
        },
        "id": "IUhToZdUIesQ",
        "outputId": "1eeeda4c-05d5-454b-b2f7-c38599695686"
      },
      "execution_count": 63,
      "outputs": [
        {
          "output_type": "execute_result",
          "data": {
            "text/plain": [
              "   housing_median_age  total_rooms\n",
              "0                27.0       3885.0\n",
              "1                43.0       1510.0\n",
              "2                27.0       3589.0\n",
              "3                28.0         67.0\n",
              "4                19.0       1241.0"
            ],
            "text/html": [
              "\n",
              "  <div id=\"df-98ef821c-6f03-444e-a86a-fbe0a7b5b2fc\">\n",
              "    <div class=\"colab-df-container\">\n",
              "      <div>\n",
              "<style scoped>\n",
              "    .dataframe tbody tr th:only-of-type {\n",
              "        vertical-align: middle;\n",
              "    }\n",
              "\n",
              "    .dataframe tbody tr th {\n",
              "        vertical-align: top;\n",
              "    }\n",
              "\n",
              "    .dataframe thead th {\n",
              "        text-align: right;\n",
              "    }\n",
              "</style>\n",
              "<table border=\"1\" class=\"dataframe\">\n",
              "  <thead>\n",
              "    <tr style=\"text-align: right;\">\n",
              "      <th></th>\n",
              "      <th>housing_median_age</th>\n",
              "      <th>total_rooms</th>\n",
              "    </tr>\n",
              "  </thead>\n",
              "  <tbody>\n",
              "    <tr>\n",
              "      <th>0</th>\n",
              "      <td>27.0</td>\n",
              "      <td>3885.0</td>\n",
              "    </tr>\n",
              "    <tr>\n",
              "      <th>1</th>\n",
              "      <td>43.0</td>\n",
              "      <td>1510.0</td>\n",
              "    </tr>\n",
              "    <tr>\n",
              "      <th>2</th>\n",
              "      <td>27.0</td>\n",
              "      <td>3589.0</td>\n",
              "    </tr>\n",
              "    <tr>\n",
              "      <th>3</th>\n",
              "      <td>28.0</td>\n",
              "      <td>67.0</td>\n",
              "    </tr>\n",
              "    <tr>\n",
              "      <th>4</th>\n",
              "      <td>19.0</td>\n",
              "      <td>1241.0</td>\n",
              "    </tr>\n",
              "  </tbody>\n",
              "</table>\n",
              "</div>\n",
              "      <button class=\"colab-df-convert\" onclick=\"convertToInteractive('df-98ef821c-6f03-444e-a86a-fbe0a7b5b2fc')\"\n",
              "              title=\"Convert this dataframe to an interactive table.\"\n",
              "              style=\"display:none;\">\n",
              "        \n",
              "  <svg xmlns=\"http://www.w3.org/2000/svg\" height=\"24px\"viewBox=\"0 0 24 24\"\n",
              "       width=\"24px\">\n",
              "    <path d=\"M0 0h24v24H0V0z\" fill=\"none\"/>\n",
              "    <path d=\"M18.56 5.44l.94 2.06.94-2.06 2.06-.94-2.06-.94-.94-2.06-.94 2.06-2.06.94zm-11 1L8.5 8.5l.94-2.06 2.06-.94-2.06-.94L8.5 2.5l-.94 2.06-2.06.94zm10 10l.94 2.06.94-2.06 2.06-.94-2.06-.94-.94-2.06-.94 2.06-2.06.94z\"/><path d=\"M17.41 7.96l-1.37-1.37c-.4-.4-.92-.59-1.43-.59-.52 0-1.04.2-1.43.59L10.3 9.45l-7.72 7.72c-.78.78-.78 2.05 0 2.83L4 21.41c.39.39.9.59 1.41.59.51 0 1.02-.2 1.41-.59l7.78-7.78 2.81-2.81c.8-.78.8-2.07 0-2.86zM5.41 20L4 18.59l7.72-7.72 1.47 1.35L5.41 20z\"/>\n",
              "  </svg>\n",
              "      </button>\n",
              "      \n",
              "  <style>\n",
              "    .colab-df-container {\n",
              "      display:flex;\n",
              "      flex-wrap:wrap;\n",
              "      gap: 12px;\n",
              "    }\n",
              "\n",
              "    .colab-df-convert {\n",
              "      background-color: #E8F0FE;\n",
              "      border: none;\n",
              "      border-radius: 50%;\n",
              "      cursor: pointer;\n",
              "      display: none;\n",
              "      fill: #1967D2;\n",
              "      height: 32px;\n",
              "      padding: 0 0 0 0;\n",
              "      width: 32px;\n",
              "    }\n",
              "\n",
              "    .colab-df-convert:hover {\n",
              "      background-color: #E2EBFA;\n",
              "      box-shadow: 0px 1px 2px rgba(60, 64, 67, 0.3), 0px 1px 3px 1px rgba(60, 64, 67, 0.15);\n",
              "      fill: #174EA6;\n",
              "    }\n",
              "\n",
              "    [theme=dark] .colab-df-convert {\n",
              "      background-color: #3B4455;\n",
              "      fill: #D2E3FC;\n",
              "    }\n",
              "\n",
              "    [theme=dark] .colab-df-convert:hover {\n",
              "      background-color: #434B5C;\n",
              "      box-shadow: 0px 1px 3px 1px rgba(0, 0, 0, 0.15);\n",
              "      filter: drop-shadow(0px 1px 2px rgba(0, 0, 0, 0.3));\n",
              "      fill: #FFFFFF;\n",
              "    }\n",
              "  </style>\n",
              "\n",
              "      <script>\n",
              "        const buttonEl =\n",
              "          document.querySelector('#df-98ef821c-6f03-444e-a86a-fbe0a7b5b2fc button.colab-df-convert');\n",
              "        buttonEl.style.display =\n",
              "          google.colab.kernel.accessAllowed ? 'block' : 'none';\n",
              "\n",
              "        async function convertToInteractive(key) {\n",
              "          const element = document.querySelector('#df-98ef821c-6f03-444e-a86a-fbe0a7b5b2fc');\n",
              "          const dataTable =\n",
              "            await google.colab.kernel.invokeFunction('convertToInteractive',\n",
              "                                                     [key], {});\n",
              "          if (!dataTable) return;\n",
              "\n",
              "          const docLinkHtml = 'Like what you see? Visit the ' +\n",
              "            '<a target=\"_blank\" href=https://colab.research.google.com/notebooks/data_table.ipynb>data table notebook</a>'\n",
              "            + ' to learn more about interactive tables.';\n",
              "          element.innerHTML = '';\n",
              "          dataTable['output_type'] = 'display_data';\n",
              "          await google.colab.output.renderOutput(dataTable, element);\n",
              "          const docLink = document.createElement('div');\n",
              "          docLink.innerHTML = docLinkHtml;\n",
              "          element.appendChild(docLink);\n",
              "        }\n",
              "      </script>\n",
              "    </div>\n",
              "  </div>\n",
              "  "
            ]
          },
          "metadata": {},
          "execution_count": 63
        }
      ]
    },
    {
      "cell_type": "code",
      "source": [
        "#podemos usar el método 'iloc' para extraer el valor de una celda en específico\n",
        "df.iloc[0, 0]"
      ],
      "metadata": {
        "colab": {
          "base_uri": "https://localhost:8080/"
        },
        "id": "7sy5LYumIeu9",
        "outputId": "76f21c62-94b4-4a09-c701-57bce08ab871"
      },
      "execution_count": 65,
      "outputs": [
        {
          "output_type": "execute_result",
          "data": {
            "text/plain": [
              "-122.05"
            ]
          },
          "metadata": {},
          "execution_count": 65
        }
      ]
    },
    {
      "cell_type": "markdown",
      "source": [
        "### Working with and Saving Data with Pandas"
      ],
      "metadata": {
        "id": "Ado2TGP6pIUu"
      }
    },
    {
      "cell_type": "code",
      "source": [
        "#uno de los métodos más útiles en Pandas es 'unique()'\n",
        "df['housing_median_age'].unique()"
      ],
      "metadata": {
        "colab": {
          "base_uri": "https://localhost:8080/"
        },
        "id": "Q--UL4pDpIvG",
        "outputId": "3b22c8a9-fb67-4ca4-d144-82cdfdd0050e"
      },
      "execution_count": 67,
      "outputs": [
        {
          "output_type": "execute_result",
          "data": {
            "text/plain": [
              "array([27., 43., 28., 19., 37., 15., 31., 45., 36., 16., 42., 26., 35.,\n",
              "       40., 47., 13., 52., 32., 30., 14., 34., 17.,  5., 38., 33., 11.,\n",
              "       48.,  4., 24.,  6., 21., 39., 10., 44., 18., 12., 22., 29., 46.,\n",
              "       50., 20., 49., 25., 23., 41.,  8.,  3.,  7.,  9.,  2., 51.,  1.])"
            ]
          },
          "metadata": {},
          "execution_count": 67
        }
      ]
    },
    {
      "cell_type": "code",
      "source": [
        "#Pandas nos permite realizar filtros en un 'dataframe', por ejemplo considerar aquellos que tengan 'housing_median_age' > 30\n",
        "df_30 = df[df['housing_median_age'] > 30].copy()"
      ],
      "metadata": {
        "id": "2drC7_qypIxY"
      },
      "execution_count": 68,
      "outputs": []
    },
    {
      "cell_type": "code",
      "source": [
        "df_30.head()"
      ],
      "metadata": {
        "colab": {
          "base_uri": "https://localhost:8080/",
          "height": 206
        },
        "id": "T3dif0q9pI0T",
        "outputId": "2bd69f4b-48d2-42e6-f86c-22cb2eb87f48"
      },
      "execution_count": 69,
      "outputs": [
        {
          "output_type": "execute_result",
          "data": {
            "text/plain": [
              "    longitude  latitude  housing_median_age  total_rooms  total_bedrooms  \\\n",
              "1     -118.30     34.26                43.0       1510.0           310.0   \n",
              "5     -119.56     36.51                37.0       1018.0           213.0   \n",
              "6     -121.43     38.63                43.0       1009.0           225.0   \n",
              "9     -118.02     34.08                31.0       2402.0           632.0   \n",
              "10    -118.24     33.98                45.0        972.0           249.0   \n",
              "\n",
              "    population  households  median_income  median_house_value  \n",
              "1        809.0       277.0         3.5990            176500.0  \n",
              "5        663.0       204.0         1.6635             67000.0  \n",
              "6        604.0       218.0         1.6641             67000.0  \n",
              "9       2830.0       603.0         2.3333            164200.0  \n",
              "10      1288.0       261.0         2.2054            125000.0  "
            ],
            "text/html": [
              "\n",
              "  <div id=\"df-2cbb81b2-7264-44b4-ac19-8484c4a21230\">\n",
              "    <div class=\"colab-df-container\">\n",
              "      <div>\n",
              "<style scoped>\n",
              "    .dataframe tbody tr th:only-of-type {\n",
              "        vertical-align: middle;\n",
              "    }\n",
              "\n",
              "    .dataframe tbody tr th {\n",
              "        vertical-align: top;\n",
              "    }\n",
              "\n",
              "    .dataframe thead th {\n",
              "        text-align: right;\n",
              "    }\n",
              "</style>\n",
              "<table border=\"1\" class=\"dataframe\">\n",
              "  <thead>\n",
              "    <tr style=\"text-align: right;\">\n",
              "      <th></th>\n",
              "      <th>longitude</th>\n",
              "      <th>latitude</th>\n",
              "      <th>housing_median_age</th>\n",
              "      <th>total_rooms</th>\n",
              "      <th>total_bedrooms</th>\n",
              "      <th>population</th>\n",
              "      <th>households</th>\n",
              "      <th>median_income</th>\n",
              "      <th>median_house_value</th>\n",
              "    </tr>\n",
              "  </thead>\n",
              "  <tbody>\n",
              "    <tr>\n",
              "      <th>1</th>\n",
              "      <td>-118.30</td>\n",
              "      <td>34.26</td>\n",
              "      <td>43.0</td>\n",
              "      <td>1510.0</td>\n",
              "      <td>310.0</td>\n",
              "      <td>809.0</td>\n",
              "      <td>277.0</td>\n",
              "      <td>3.5990</td>\n",
              "      <td>176500.0</td>\n",
              "    </tr>\n",
              "    <tr>\n",
              "      <th>5</th>\n",
              "      <td>-119.56</td>\n",
              "      <td>36.51</td>\n",
              "      <td>37.0</td>\n",
              "      <td>1018.0</td>\n",
              "      <td>213.0</td>\n",
              "      <td>663.0</td>\n",
              "      <td>204.0</td>\n",
              "      <td>1.6635</td>\n",
              "      <td>67000.0</td>\n",
              "    </tr>\n",
              "    <tr>\n",
              "      <th>6</th>\n",
              "      <td>-121.43</td>\n",
              "      <td>38.63</td>\n",
              "      <td>43.0</td>\n",
              "      <td>1009.0</td>\n",
              "      <td>225.0</td>\n",
              "      <td>604.0</td>\n",
              "      <td>218.0</td>\n",
              "      <td>1.6641</td>\n",
              "      <td>67000.0</td>\n",
              "    </tr>\n",
              "    <tr>\n",
              "      <th>9</th>\n",
              "      <td>-118.02</td>\n",
              "      <td>34.08</td>\n",
              "      <td>31.0</td>\n",
              "      <td>2402.0</td>\n",
              "      <td>632.0</td>\n",
              "      <td>2830.0</td>\n",
              "      <td>603.0</td>\n",
              "      <td>2.3333</td>\n",
              "      <td>164200.0</td>\n",
              "    </tr>\n",
              "    <tr>\n",
              "      <th>10</th>\n",
              "      <td>-118.24</td>\n",
              "      <td>33.98</td>\n",
              "      <td>45.0</td>\n",
              "      <td>972.0</td>\n",
              "      <td>249.0</td>\n",
              "      <td>1288.0</td>\n",
              "      <td>261.0</td>\n",
              "      <td>2.2054</td>\n",
              "      <td>125000.0</td>\n",
              "    </tr>\n",
              "  </tbody>\n",
              "</table>\n",
              "</div>\n",
              "      <button class=\"colab-df-convert\" onclick=\"convertToInteractive('df-2cbb81b2-7264-44b4-ac19-8484c4a21230')\"\n",
              "              title=\"Convert this dataframe to an interactive table.\"\n",
              "              style=\"display:none;\">\n",
              "        \n",
              "  <svg xmlns=\"http://www.w3.org/2000/svg\" height=\"24px\"viewBox=\"0 0 24 24\"\n",
              "       width=\"24px\">\n",
              "    <path d=\"M0 0h24v24H0V0z\" fill=\"none\"/>\n",
              "    <path d=\"M18.56 5.44l.94 2.06.94-2.06 2.06-.94-2.06-.94-.94-2.06-.94 2.06-2.06.94zm-11 1L8.5 8.5l.94-2.06 2.06-.94-2.06-.94L8.5 2.5l-.94 2.06-2.06.94zm10 10l.94 2.06.94-2.06 2.06-.94-2.06-.94-.94-2.06-.94 2.06-2.06.94z\"/><path d=\"M17.41 7.96l-1.37-1.37c-.4-.4-.92-.59-1.43-.59-.52 0-1.04.2-1.43.59L10.3 9.45l-7.72 7.72c-.78.78-.78 2.05 0 2.83L4 21.41c.39.39.9.59 1.41.59.51 0 1.02-.2 1.41-.59l7.78-7.78 2.81-2.81c.8-.78.8-2.07 0-2.86zM5.41 20L4 18.59l7.72-7.72 1.47 1.35L5.41 20z\"/>\n",
              "  </svg>\n",
              "      </button>\n",
              "      \n",
              "  <style>\n",
              "    .colab-df-container {\n",
              "      display:flex;\n",
              "      flex-wrap:wrap;\n",
              "      gap: 12px;\n",
              "    }\n",
              "\n",
              "    .colab-df-convert {\n",
              "      background-color: #E8F0FE;\n",
              "      border: none;\n",
              "      border-radius: 50%;\n",
              "      cursor: pointer;\n",
              "      display: none;\n",
              "      fill: #1967D2;\n",
              "      height: 32px;\n",
              "      padding: 0 0 0 0;\n",
              "      width: 32px;\n",
              "    }\n",
              "\n",
              "    .colab-df-convert:hover {\n",
              "      background-color: #E2EBFA;\n",
              "      box-shadow: 0px 1px 2px rgba(60, 64, 67, 0.3), 0px 1px 3px 1px rgba(60, 64, 67, 0.15);\n",
              "      fill: #174EA6;\n",
              "    }\n",
              "\n",
              "    [theme=dark] .colab-df-convert {\n",
              "      background-color: #3B4455;\n",
              "      fill: #D2E3FC;\n",
              "    }\n",
              "\n",
              "    [theme=dark] .colab-df-convert:hover {\n",
              "      background-color: #434B5C;\n",
              "      box-shadow: 0px 1px 3px 1px rgba(0, 0, 0, 0.15);\n",
              "      filter: drop-shadow(0px 1px 2px rgba(0, 0, 0, 0.3));\n",
              "      fill: #FFFFFF;\n",
              "    }\n",
              "  </style>\n",
              "\n",
              "      <script>\n",
              "        const buttonEl =\n",
              "          document.querySelector('#df-2cbb81b2-7264-44b4-ac19-8484c4a21230 button.colab-df-convert');\n",
              "        buttonEl.style.display =\n",
              "          google.colab.kernel.accessAllowed ? 'block' : 'none';\n",
              "\n",
              "        async function convertToInteractive(key) {\n",
              "          const element = document.querySelector('#df-2cbb81b2-7264-44b4-ac19-8484c4a21230');\n",
              "          const dataTable =\n",
              "            await google.colab.kernel.invokeFunction('convertToInteractive',\n",
              "                                                     [key], {});\n",
              "          if (!dataTable) return;\n",
              "\n",
              "          const docLinkHtml = 'Like what you see? Visit the ' +\n",
              "            '<a target=\"_blank\" href=https://colab.research.google.com/notebooks/data_table.ipynb>data table notebook</a>'\n",
              "            + ' to learn more about interactive tables.';\n",
              "          element.innerHTML = '';\n",
              "          dataTable['output_type'] = 'display_data';\n",
              "          await google.colab.output.renderOutput(dataTable, element);\n",
              "          const docLink = document.createElement('div');\n",
              "          docLink.innerHTML = docLinkHtml;\n",
              "          element.appendChild(docLink);\n",
              "        }\n",
              "      </script>\n",
              "    </div>\n",
              "  </div>\n",
              "  "
            ]
          },
          "metadata": {},
          "execution_count": 69
        }
      ]
    },
    {
      "cell_type": "markdown",
      "source": [
        "### **Avance del curso**"
      ],
      "metadata": {
        "id": "DM1CqptRtRPv"
      }
    },
    {
      "cell_type": "markdown",
      "source": [
        "![image.png](data:image/png;base64,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)"
      ],
      "metadata": {
        "id": "UsN1w6h6tYe_"
      }
    },
    {
      "cell_type": "code",
      "source": [],
      "metadata": {
        "id": "Y8od7wQGpI3k"
      },
      "execution_count": null,
      "outputs": []
    },
    {
      "cell_type": "code",
      "source": [],
      "metadata": {
        "id": "ttfrKz9xpI5_"
      },
      "execution_count": null,
      "outputs": []
    },
    {
      "cell_type": "code",
      "source": [],
      "metadata": {
        "id": "-xZFxnCwpI8r"
      },
      "execution_count": null,
      "outputs": []
    },
    {
      "cell_type": "code",
      "source": [],
      "metadata": {
        "id": "IlHLtvEfpI_w"
      },
      "execution_count": null,
      "outputs": []
    },
    {
      "cell_type": "code",
      "source": [],
      "metadata": {
        "id": "ws_f71MgpJCW"
      },
      "execution_count": null,
      "outputs": []
    },
    {
      "cell_type": "code",
      "source": [],
      "metadata": {
        "id": "XJiH3hIqpJFR"
      },
      "execution_count": null,
      "outputs": []
    },
    {
      "cell_type": "code",
      "source": [],
      "metadata": {
        "id": "EYSbtcUIpJIL"
      },
      "execution_count": null,
      "outputs": []
    },
    {
      "cell_type": "code",
      "source": [],
      "metadata": {
        "id": "1M_ran3ApJLb"
      },
      "execution_count": null,
      "outputs": []
    },
    {
      "cell_type": "code",
      "source": [],
      "metadata": {
        "id": "WOGGxxt0pJN5"
      },
      "execution_count": null,
      "outputs": []
    },
    {
      "cell_type": "code",
      "source": [],
      "metadata": {
        "id": "RN2DMY31pJQt"
      },
      "execution_count": null,
      "outputs": []
    },
    {
      "cell_type": "code",
      "source": [],
      "metadata": {
        "id": "cA9aOm6LpJTP"
      },
      "execution_count": null,
      "outputs": []
    },
    {
      "cell_type": "code",
      "source": [],
      "metadata": {
        "id": "qm4zvXF5pJWH"
      },
      "execution_count": null,
      "outputs": []
    },
    {
      "cell_type": "code",
      "source": [],
      "metadata": {
        "id": "jbcuAP9ppJYz"
      },
      "execution_count": null,
      "outputs": []
    },
    {
      "cell_type": "code",
      "source": [],
      "metadata": {
        "id": "-iQPIizBpJck"
      },
      "execution_count": null,
      "outputs": []
    },
    {
      "cell_type": "code",
      "source": [],
      "metadata": {
        "id": "gIeg4c5sIUji"
      },
      "execution_count": null,
      "outputs": []
    }
  ]
}
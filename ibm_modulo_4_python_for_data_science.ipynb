{
  "nbformat": 4,
  "nbformat_minor": 0,
  "metadata": {
    "colab": {
      "provenance": [],
      "authorship_tag": "ABX9TyP1PMUmf0YZh3J5Idvt18O1",
      "include_colab_link": true
    },
    "kernelspec": {
      "name": "python3",
      "display_name": "Python 3"
    },
    "language_info": {
      "name": "python"
    }
  },
  "cells": [
    {
      "cell_type": "markdown",
      "metadata": {
        "id": "view-in-github",
        "colab_type": "text"
      },
      "source": [
        "<a href=\"https://colab.research.google.com/github/PosgradoMNA/actividades-de-aprendizaje-a01794067-janmenc/blob/main/ibm_modulo_4_python_for_data_science.ipynb\" target=\"_parent\"><img src=\"https://colab.research.google.com/assets/colab-badge.svg\" alt=\"Open In Colab\"/></a>"
      ]
    },
    {
      "cell_type": "markdown",
      "source": [
        "# **José Antonio Mendoza Castro - A01794067**\n",
        "\n",
        "# **Notas *Python for Data Science* - Módulo 4**"
      ],
      "metadata": {
        "id": "zKONOQPYel_m"
      }
    },
    {
      "cell_type": "markdown",
      "source": [
        "### **Módulo 4**"
      ],
      "metadata": {
        "id": "hLujf-RIgbxJ"
      }
    },
    {
      "cell_type": "markdown",
      "source": [
        "### Reading Files with Open"
      ],
      "metadata": {
        "id": "c29L1weLgm1h"
      }
    },
    {
      "cell_type": "code",
      "source": [
        "#por ejemplo a partir de un fragmento de la obra 'The Sonnets' de William Shakespeare (tomado del proyecto Gutenberg) podemos abrir ese archivo, en este caso .txt.\n",
        "#La función 'open' nos permite abrir este archivo, la cual utiliza dos argumentos, el primero, la ruta del archivo, en este caso el archivo se encuentra en la carpeta 'Archivos'\n",
        "#de Colab, el segundo argumento se refiere al 'mode' en el cual ocuparemos el archivo, puede ser 'r' (reading), 'w' (writing), 'a' (append) o 'x' (create)\n",
        "#en este caso usamos el 'mode' reading\n",
        "\n",
        "file_1 = open('shakespeare_fragment.txt', 'r')"
      ],
      "metadata": {
        "id": "qq5JxsAxe0wA"
      },
      "execution_count": 1,
      "outputs": []
    },
    {
      "cell_type": "code",
      "source": [
        "#podemos aplicar el método 'name' para conocer el nombre del archivo\n",
        "file_1.name"
      ],
      "metadata": {
        "colab": {
          "base_uri": "https://localhost:8080/",
          "height": 36
        },
        "id": "96sOHei2ki-k",
        "outputId": "620cb847-c37c-43b6-a468-4c3709edf4b8"
      },
      "execution_count": 2,
      "outputs": [
        {
          "output_type": "execute_result",
          "data": {
            "text/plain": [
              "'shakespeare_fragment.txt'"
            ],
            "application/vnd.google.colaboratory.intrinsic+json": {
              "type": "string"
            }
          },
          "metadata": {},
          "execution_count": 2
        }
      ]
    },
    {
      "cell_type": "code",
      "source": [
        "#con el método 'mode' podemos conocer propiamente el argumento 'mode' que usamos\n",
        "file_1.mode"
      ],
      "metadata": {
        "colab": {
          "base_uri": "https://localhost:8080/",
          "height": 36
        },
        "id": "lI0fl1Lmk6qj",
        "outputId": "f61a647e-f80a-4034-ee96-19108bf2dab1"
      },
      "execution_count": 3,
      "outputs": [
        {
          "output_type": "execute_result",
          "data": {
            "text/plain": [
              "'r'"
            ],
            "application/vnd.google.colaboratory.intrinsic+json": {
              "type": "string"
            }
          },
          "metadata": {},
          "execution_count": 3
        }
      ]
    },
    {
      "cell_type": "code",
      "source": [
        "#por otra parte debemos siempre cerrar el archivo con el método 'close()'\n",
        "file_1.close()"
      ],
      "metadata": {
        "id": "OdBlrSu8nqDI"
      },
      "execution_count": 4,
      "outputs": []
    },
    {
      "cell_type": "code",
      "source": [
        "#para evitar el uso del método 'close()' podemos indentar nuestro código dentro de un bloque con el 'keyword' 'with'\n",
        "with open('shakespeare_fragment.txt', 'r') as file_1:\n",
        "  file_tmp = file_1.read()"
      ],
      "metadata": {
        "id": "A8dtmtUpn_El"
      },
      "execution_count": null,
      "outputs": []
    }
  ]
}
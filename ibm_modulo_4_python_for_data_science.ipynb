{
  "nbformat": 4,
  "nbformat_minor": 0,
  "metadata": {
    "colab": {
      "provenance": [],
      "authorship_tag": "ABX9TyP4CvccT9WwjtKxtfoFgOgS",
      "include_colab_link": true
    },
    "kernelspec": {
      "name": "python3",
      "display_name": "Python 3"
    },
    "language_info": {
      "name": "python"
    }
  },
  "cells": [
    {
      "cell_type": "markdown",
      "metadata": {
        "id": "view-in-github",
        "colab_type": "text"
      },
      "source": [
        "<a href=\"https://colab.research.google.com/github/PosgradoMNA/actividades-de-aprendizaje-a01794067-janmenc/blob/main/ibm_modulo_4_python_for_data_science.ipynb\" target=\"_parent\"><img src=\"https://colab.research.google.com/assets/colab-badge.svg\" alt=\"Open In Colab\"/></a>"
      ]
    },
    {
      "cell_type": "markdown",
      "source": [
        "# **José Antonio Mendoza Castro - A01794067**\n",
        "\n",
        "# **Notas *Python for Data Science* - Módulo 4**"
      ],
      "metadata": {
        "id": "zKONOQPYel_m"
      }
    },
    {
      "cell_type": "markdown",
      "source": [
        "### **Módulo 4**"
      ],
      "metadata": {
        "id": "hLujf-RIgbxJ"
      }
    },
    {
      "cell_type": "markdown",
      "source": [
        "### Reading Files with Open"
      ],
      "metadata": {
        "id": "c29L1weLgm1h"
      }
    },
    {
      "cell_type": "code",
      "source": [
        "file_1 = open()"
      ],
      "metadata": {
        "id": "qq5JxsAxe0wA"
      },
      "execution_count": null,
      "outputs": []
    }
  ]
}
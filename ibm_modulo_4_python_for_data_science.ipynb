{
  "nbformat": 4,
  "nbformat_minor": 0,
  "metadata": {
    "colab": {
      "provenance": [],
      "authorship_tag": "ABX9TyPRHU9Sv653+7dQevvXHGfI",
      "include_colab_link": true
    },
    "kernelspec": {
      "name": "python3",
      "display_name": "Python 3"
    },
    "language_info": {
      "name": "python"
    }
  },
  "cells": [
    {
      "cell_type": "markdown",
      "metadata": {
        "id": "view-in-github",
        "colab_type": "text"
      },
      "source": [
        "<a href=\"https://colab.research.google.com/github/PosgradoMNA/actividades-de-aprendizaje-a01794067-janmenc/blob/main/ibm_modulo_4_python_for_data_science.ipynb\" target=\"_parent\"><img src=\"https://colab.research.google.com/assets/colab-badge.svg\" alt=\"Open In Colab\"/></a>"
      ]
    },
    {
      "cell_type": "markdown",
      "source": [
        "# **José Antonio Mendoza Castro - A01794067**\n",
        "\n",
        "# **Notas *Python for Data Science* - Módulo 4**"
      ],
      "metadata": {
        "id": "zKONOQPYel_m"
      }
    },
    {
      "cell_type": "markdown",
      "source": [
        "### **Módulo 4**"
      ],
      "metadata": {
        "id": "hLujf-RIgbxJ"
      }
    },
    {
      "cell_type": "markdown",
      "source": [
        "### Reading Files with Open"
      ],
      "metadata": {
        "id": "c29L1weLgm1h"
      }
    },
    {
      "cell_type": "code",
      "source": [
        "#por ejemplo a partir de un fragmento de la obra 'The Sonnets' de William Shakespeare (tomado del proyecto Gutenberg) podemos abrir ese archivo, en este caso .txt.\n",
        "#La función 'open' nos permite abrir este archivo, la cual utiliza dos argumentos, el primero, la ruta del archivo, en este caso el archivo se encuentra en la carpeta 'Archivos'\n",
        "#de Colab, el segundo argumento se refiere al 'mode' en el cual ocuparemos el archivo, puede ser 'r' (reading), 'w' (writing), 'a' (append) o 'x' (create)\n",
        "#en este caso usamos el 'mode' reading\n",
        "\n",
        "file_1 = open('shakespeare_fragment.txt', 'r')"
      ],
      "metadata": {
        "id": "qq5JxsAxe0wA"
      },
      "execution_count": 6,
      "outputs": []
    },
    {
      "cell_type": "code",
      "source": [
        "#podemos aplicar el método 'name' para conocer el nombre del archivo\n",
        "file_1.name"
      ],
      "metadata": {
        "colab": {
          "base_uri": "https://localhost:8080/",
          "height": 36
        },
        "id": "96sOHei2ki-k",
        "outputId": "49b28441-e220-4c09-aab5-b50280d189d9"
      },
      "execution_count": 7,
      "outputs": [
        {
          "output_type": "execute_result",
          "data": {
            "text/plain": [
              "'shakespeare_fragment.txt'"
            ],
            "application/vnd.google.colaboratory.intrinsic+json": {
              "type": "string"
            }
          },
          "metadata": {},
          "execution_count": 7
        }
      ]
    },
    {
      "cell_type": "code",
      "source": [
        "#con el método 'mode' podemos conocer propiamente el argumento 'mode' que usamos\n",
        "file_1.mode"
      ],
      "metadata": {
        "colab": {
          "base_uri": "https://localhost:8080/",
          "height": 36
        },
        "id": "lI0fl1Lmk6qj",
        "outputId": "8ec1dd7a-c6da-4faf-f579-25aff751de65"
      },
      "execution_count": 8,
      "outputs": [
        {
          "output_type": "execute_result",
          "data": {
            "text/plain": [
              "'r'"
            ],
            "application/vnd.google.colaboratory.intrinsic+json": {
              "type": "string"
            }
          },
          "metadata": {},
          "execution_count": 8
        }
      ]
    },
    {
      "cell_type": "code",
      "source": [
        "#con el método 'read()' podemos leer el contenido del archivo\n",
        "file_1.read()"
      ],
      "metadata": {
        "colab": {
          "base_uri": "https://localhost:8080/",
          "height": 123
        },
        "id": "S78Is9KhqxKu",
        "outputId": "1c75b7e6-2c95-4be8-d015-82b517fad72a"
      },
      "execution_count": 9,
      "outputs": [
        {
          "output_type": "execute_result",
          "data": {
            "text/plain": [
              "\"1609\\n\\nTHE SONNETS\\n\\nby William Shakespeare\\n\\n\\n\\n                     1\\n  From fairest creatures we desire increase,\\n  That thereby beauty's rose might never die,\\n  But as the riper should by time decease,\\n  His tender heir might bear his memory:\\n  But thou contracted to thine own bright eyes,\\n  Feed'st thy light's flame with self-substantial fuel,\\n  Making a famine where abundance lies,\\n  Thy self thy foe, to thy sweet self too cruel:\\n  Thou that art now the world's fresh ornament,\\n  And only herald to the gaudy spring,\\n  Within thine own bud buriest thy content,\\n  And tender churl mak'st waste in niggarding:\\n    Pity the world, or else this glutton be,\\n    To eat the world's due, by the grave and thee.\\n\\n\\n                     2\\n  When forty winters shall besiege thy brow,\\n  And dig deep trenches in thy beauty's field,\\n  Thy youth's proud livery so gazed on now,\\n  Will be a tattered weed of small worth held:  \\n  Then being asked, where all thy beauty lies,\\n  Where all the treasure of thy lusty days;\\n  To say within thine own deep sunken eyes,\\n  Were an all-eating shame, and thriftless praise.\\n  How much more praise deserved thy beauty's use,\\n  If thou couldst answer 'This fair child of mine\\n  Shall sum my count, and make my old excuse'\\n  Proving his beauty by succession thine.\\n    This were to be new made when thou art old,\\n    And see thy blood warm when thou feel'st it cold.\""
            ],
            "application/vnd.google.colaboratory.intrinsic+json": {
              "type": "string"
            }
          },
          "metadata": {},
          "execution_count": 9
        }
      ]
    },
    {
      "cell_type": "code",
      "source": [
        "#por otra parte debemos siempre cerrar el archivo con el método 'close()'\n",
        "file_1.close()"
      ],
      "metadata": {
        "id": "OdBlrSu8nqDI"
      },
      "execution_count": 4,
      "outputs": []
    },
    {
      "cell_type": "code",
      "source": [
        "#para evitar el uso del método 'close()' podemos indentar nuestro código dentro de un bloque con el 'keyword' 'with'\n",
        "#en este caso leemos el archivo y lo imprimimos\n",
        "with open('shakespeare_fragment.txt', 'r') as file_1:\n",
        "  file_tmp = file_1.read()\n",
        "  print(file_tmp)"
      ],
      "metadata": {
        "colab": {
          "base_uri": "https://localhost:8080/"
        },
        "id": "A8dtmtUpn_El",
        "outputId": "f94365d1-bfd2-47bd-d50d-e0d5ccf89588"
      },
      "execution_count": 10,
      "outputs": [
        {
          "output_type": "stream",
          "name": "stdout",
          "text": [
            "1609\n",
            "\n",
            "THE SONNETS\n",
            "\n",
            "by William Shakespeare\n",
            "\n",
            "\n",
            "\n",
            "                     1\n",
            "  From fairest creatures we desire increase,\n",
            "  That thereby beauty's rose might never die,\n",
            "  But as the riper should by time decease,\n",
            "  His tender heir might bear his memory:\n",
            "  But thou contracted to thine own bright eyes,\n",
            "  Feed'st thy light's flame with self-substantial fuel,\n",
            "  Making a famine where abundance lies,\n",
            "  Thy self thy foe, to thy sweet self too cruel:\n",
            "  Thou that art now the world's fresh ornament,\n",
            "  And only herald to the gaudy spring,\n",
            "  Within thine own bud buriest thy content,\n",
            "  And tender churl mak'st waste in niggarding:\n",
            "    Pity the world, or else this glutton be,\n",
            "    To eat the world's due, by the grave and thee.\n",
            "\n",
            "\n",
            "                     2\n",
            "  When forty winters shall besiege thy brow,\n",
            "  And dig deep trenches in thy beauty's field,\n",
            "  Thy youth's proud livery so gazed on now,\n",
            "  Will be a tattered weed of small worth held:  \n",
            "  Then being asked, where all thy beauty lies,\n",
            "  Where all the treasure of thy lusty days;\n",
            "  To say within thine own deep sunken eyes,\n",
            "  Were an all-eating shame, and thriftless praise.\n",
            "  How much more praise deserved thy beauty's use,\n",
            "  If thou couldst answer 'This fair child of mine\n",
            "  Shall sum my count, and make my old excuse'\n",
            "  Proving his beauty by succession thine.\n",
            "    This were to be new made when thou art old,\n",
            "    And see thy blood warm when thou feel'st it cold.\n"
          ]
        }
      ]
    },
    {
      "cell_type": "code",
      "source": [
        "#también podemos iterar con la 'keyword' 'with'\n",
        "with open('shakespeare_fragment.txt', 'r') as file_1:\n",
        "  for line in file_1:\n",
        "    print(line)"
      ],
      "metadata": {
        "colab": {
          "base_uri": "https://localhost:8080/"
        },
        "id": "RY0_53GCrh-m",
        "outputId": "fad7248f-b9fb-4505-9df5-950506265c2f"
      },
      "execution_count": 11,
      "outputs": [
        {
          "output_type": "stream",
          "name": "stdout",
          "text": [
            "1609\n",
            "\n",
            "\n",
            "\n",
            "THE SONNETS\n",
            "\n",
            "\n",
            "\n",
            "by William Shakespeare\n",
            "\n",
            "\n",
            "\n",
            "\n",
            "\n",
            "\n",
            "\n",
            "                     1\n",
            "\n",
            "  From fairest creatures we desire increase,\n",
            "\n",
            "  That thereby beauty's rose might never die,\n",
            "\n",
            "  But as the riper should by time decease,\n",
            "\n",
            "  His tender heir might bear his memory:\n",
            "\n",
            "  But thou contracted to thine own bright eyes,\n",
            "\n",
            "  Feed'st thy light's flame with self-substantial fuel,\n",
            "\n",
            "  Making a famine where abundance lies,\n",
            "\n",
            "  Thy self thy foe, to thy sweet self too cruel:\n",
            "\n",
            "  Thou that art now the world's fresh ornament,\n",
            "\n",
            "  And only herald to the gaudy spring,\n",
            "\n",
            "  Within thine own bud buriest thy content,\n",
            "\n",
            "  And tender churl mak'st waste in niggarding:\n",
            "\n",
            "    Pity the world, or else this glutton be,\n",
            "\n",
            "    To eat the world's due, by the grave and thee.\n",
            "\n",
            "\n",
            "\n",
            "\n",
            "\n",
            "                     2\n",
            "\n",
            "  When forty winters shall besiege thy brow,\n",
            "\n",
            "  And dig deep trenches in thy beauty's field,\n",
            "\n",
            "  Thy youth's proud livery so gazed on now,\n",
            "\n",
            "  Will be a tattered weed of small worth held:  \n",
            "\n",
            "  Then being asked, where all thy beauty lies,\n",
            "\n",
            "  Where all the treasure of thy lusty days;\n",
            "\n",
            "  To say within thine own deep sunken eyes,\n",
            "\n",
            "  Were an all-eating shame, and thriftless praise.\n",
            "\n",
            "  How much more praise deserved thy beauty's use,\n",
            "\n",
            "  If thou couldst answer 'This fair child of mine\n",
            "\n",
            "  Shall sum my count, and make my old excuse'\n",
            "\n",
            "  Proving his beauty by succession thine.\n",
            "\n",
            "    This were to be new made when thou art old,\n",
            "\n",
            "    And see thy blood warm when thou feel'st it cold.\n"
          ]
        }
      ]
    },
    {
      "cell_type": "code",
      "source": [
        "#también podemos usar el método 'readlines()'\n",
        "#con este método creamos una lista de todas las lineas de nuestro archivo\n",
        "with open('shakespeare_fragment.txt', 'r') as file_1:\n",
        "  line_tmp = file_1.readlines()\n",
        "\n",
        "  print(line_tmp) "
      ],
      "metadata": {
        "colab": {
          "base_uri": "https://localhost:8080/"
        },
        "id": "iSkoSJL0wg27",
        "outputId": "88b2f8c9-5c81-4139-a926-566dae7c9231"
      },
      "execution_count": 16,
      "outputs": [
        {
          "output_type": "stream",
          "name": "stdout",
          "text": [
            "['1609\\n', '\\n', 'THE SONNETS\\n', '\\n', 'by William Shakespeare\\n', '\\n', '\\n', '\\n', '                     1\\n', '  From fairest creatures we desire increase,\\n', \"  That thereby beauty's rose might never die,\\n\", '  But as the riper should by time decease,\\n', '  His tender heir might bear his memory:\\n', '  But thou contracted to thine own bright eyes,\\n', \"  Feed'st thy light's flame with self-substantial fuel,\\n\", '  Making a famine where abundance lies,\\n', '  Thy self thy foe, to thy sweet self too cruel:\\n', \"  Thou that art now the world's fresh ornament,\\n\", '  And only herald to the gaudy spring,\\n', '  Within thine own bud buriest thy content,\\n', \"  And tender churl mak'st waste in niggarding:\\n\", '    Pity the world, or else this glutton be,\\n', \"    To eat the world's due, by the grave and thee.\\n\", '\\n', '\\n', '                     2\\n', '  When forty winters shall besiege thy brow,\\n', \"  And dig deep trenches in thy beauty's field,\\n\", \"  Thy youth's proud livery so gazed on now,\\n\", '  Will be a tattered weed of small worth held:  \\n', '  Then being asked, where all thy beauty lies,\\n', '  Where all the treasure of thy lusty days;\\n', '  To say within thine own deep sunken eyes,\\n', '  Were an all-eating shame, and thriftless praise.\\n', \"  How much more praise deserved thy beauty's use,\\n\", \"  If thou couldst answer 'This fair child of mine\\n\", \"  Shall sum my count, and make my old excuse'\\n\", '  Proving his beauty by succession thine.\\n', '    This were to be new made when thou art old,\\n', \"    And see thy blood warm when thou feel'st it cold.\"]\n"
          ]
        }
      ]
    },
    {
      "cell_type": "markdown",
      "source": [
        "### Lab - Reading Files"
      ],
      "metadata": {
        "id": "dZUeqLwY5qfG"
      }
    },
    {
      "cell_type": "code",
      "source": [
        "#Completando lo anterior con lo que se menciona en el 'Lab-Reading Files'\n",
        "#Con un entero como argumento en la función 'read(n)' podemos traer el número de caracteres que queramos \n",
        "\n",
        "with open('shakespeare_fragment.txt', 'r') as file1:\n",
        "    print(file1.read(4))"
      ],
      "metadata": {
        "colab": {
          "base_uri": "https://localhost:8080/"
        },
        "id": "s2Fi12WtxPQE",
        "outputId": "960efc72-8194-40a8-c645-2c9df70a93fd"
      },
      "execution_count": 17,
      "outputs": [
        {
          "output_type": "stream",
          "name": "stdout",
          "text": [
            "1609\n"
          ]
        }
      ]
    },
    {
      "cell_type": "code",
      "source": [
        "#también completando lo mencionado en las notas podemos ir utilizando los índicides de una lista cuando usamos el método 'readlines()'\n",
        "with open('shakespeare_fragment.txt', 'r') as file_1:\n",
        "  list_tmp = file_1.readlines()\n",
        "\n",
        "  print(line_tmp) "
      ],
      "metadata": {
        "colab": {
          "base_uri": "https://localhost:8080/"
        },
        "id": "JVEXNX8T5_cp",
        "outputId": "c685d281-aaf0-4e79-ef83-0190de06d185"
      },
      "execution_count": 21,
      "outputs": [
        {
          "output_type": "stream",
          "name": "stdout",
          "text": [
            "['1609\\n', '\\n', 'THE SONNETS\\n', '\\n', 'by William Shakespeare\\n', '\\n', '\\n', '\\n', '                     1\\n', '  From fairest creatures we desire increase,\\n', \"  That thereby beauty's rose might never die,\\n\", '  But as the riper should by time decease,\\n', '  His tender heir might bear his memory:\\n', '  But thou contracted to thine own bright eyes,\\n', \"  Feed'st thy light's flame with self-substantial fuel,\\n\", '  Making a famine where abundance lies,\\n', '  Thy self thy foe, to thy sweet self too cruel:\\n', \"  Thou that art now the world's fresh ornament,\\n\", '  And only herald to the gaudy spring,\\n', '  Within thine own bud buriest thy content,\\n', \"  And tender churl mak'st waste in niggarding:\\n\", '    Pity the world, or else this glutton be,\\n', \"    To eat the world's due, by the grave and thee.\\n\", '\\n', '\\n', '                     2\\n', '  When forty winters shall besiege thy brow,\\n', \"  And dig deep trenches in thy beauty's field,\\n\", \"  Thy youth's proud livery so gazed on now,\\n\", '  Will be a tattered weed of small worth held:  \\n', '  Then being asked, where all thy beauty lies,\\n', '  Where all the treasure of thy lusty days;\\n', '  To say within thine own deep sunken eyes,\\n', '  Were an all-eating shame, and thriftless praise.\\n', \"  How much more praise deserved thy beauty's use,\\n\", \"  If thou couldst answer 'This fair child of mine\\n\", \"  Shall sum my count, and make my old excuse'\\n\", '  Proving his beauty by succession thine.\\n', '    This were to be new made when thou art old,\\n', \"    And see thy blood warm when thou feel'st it cold.\"]\n"
          ]
        }
      ]
    },
    {
      "cell_type": "code",
      "source": [
        "list_tmp[2]"
      ],
      "metadata": {
        "colab": {
          "base_uri": "https://localhost:8080/",
          "height": 36
        },
        "id": "oMxPIFR85_el",
        "outputId": "c7e97ab1-d7f6-4ace-9ce8-4de9396251fb"
      },
      "execution_count": 23,
      "outputs": [
        {
          "output_type": "execute_result",
          "data": {
            "text/plain": [
              "'THE SONNETS\\n'"
            ],
            "application/vnd.google.colaboratory.intrinsic+json": {
              "type": "string"
            }
          },
          "metadata": {},
          "execution_count": 23
        }
      ]
    },
    {
      "cell_type": "code",
      "source": [],
      "metadata": {
        "id": "Tmwyi_ED5_hk"
      },
      "execution_count": null,
      "outputs": []
    },
    {
      "cell_type": "code",
      "source": [],
      "metadata": {
        "id": "Bm60_WQu5_k8"
      },
      "execution_count": null,
      "outputs": []
    },
    {
      "cell_type": "code",
      "source": [],
      "metadata": {
        "id": "RJw1eJmK5_qJ"
      },
      "execution_count": null,
      "outputs": []
    },
    {
      "cell_type": "code",
      "source": [],
      "metadata": {
        "id": "PK9nzns65_tV"
      },
      "execution_count": null,
      "outputs": []
    },
    {
      "cell_type": "code",
      "source": [],
      "metadata": {
        "id": "xGhTheDo5_vV"
      },
      "execution_count": null,
      "outputs": []
    },
    {
      "cell_type": "code",
      "source": [],
      "metadata": {
        "id": "1W746K6R5_zM"
      },
      "execution_count": null,
      "outputs": []
    }
  ]
}
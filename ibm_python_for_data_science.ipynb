{
  "nbformat": 4,
  "nbformat_minor": 0,
  "metadata": {
    "colab": {
      "provenance": [],
      "collapsed_sections": [],
      "authorship_tag": "ABX9TyOyq3dUlA9smZKzOSEX1y53",
      "include_colab_link": true
    },
    "kernelspec": {
      "name": "python3",
      "display_name": "Python 3"
    },
    "language_info": {
      "name": "python"
    }
  },
  "cells": [
    {
      "cell_type": "markdown",
      "metadata": {
        "id": "view-in-github",
        "colab_type": "text"
      },
      "source": [
        "<a href=\"https://colab.research.google.com/github/PosgradoMNA/actividades-de-aprendizaje-janmenc/blob/main/ibm_python_for_data_science.ipynb\" target=\"_parent\"><img src=\"https://colab.research.google.com/assets/colab-badge.svg\" alt=\"Open In Colab\"/></a>"
      ]
    },
    {
      "cell_type": "markdown",
      "source": [
        "# **Python for Data Science**\n",
        "\n",
        "### **IBM: PY0101EN**"
      ],
      "metadata": {
        "id": "a6oXvNU5CxKe"
      }
    },
    {
      "cell_type": "markdown",
      "source": [
        "Python es un lenguaje de programación usado para ciencia e ingeniería de datos así como para Inteleigencia Artificial. También, se ha convertido en un lenguaje muy usado sobre otros lenguajes como Java y C++.\n",
        "Las principales estructuras de datos en Python son *lists*, *tuples*, *sets* y *dictionaries*."
      ],
      "metadata": {
        "id": "IOMl45m_T8cz"
      }
    },
    {
      "cell_type": "code",
      "source": [],
      "metadata": {
        "id": "NYwS-WdvSwLM"
      },
      "execution_count": 20,
      "outputs": []
    },
    {
      "cell_type": "code",
      "source": [],
      "metadata": {
        "id": "G2aoRZvASwNn"
      },
      "execution_count": null,
      "outputs": []
    }
  ]
}
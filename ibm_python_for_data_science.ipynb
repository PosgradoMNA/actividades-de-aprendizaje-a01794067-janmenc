{
  "nbformat": 4,
  "nbformat_minor": 0,
  "metadata": {
    "colab": {
      "provenance": [],
      "collapsed_sections": [],
      "authorship_tag": "ABX9TyMb4khV+oM0Xm2PfHvaHmij",
      "include_colab_link": true
    },
    "kernelspec": {
      "name": "python3",
      "display_name": "Python 3"
    },
    "language_info": {
      "name": "python"
    }
  },
  "cells": [
    {
      "cell_type": "markdown",
      "metadata": {
        "id": "view-in-github",
        "colab_type": "text"
      },
      "source": [
        "<a href=\"https://colab.research.google.com/github/PosgradoMNA/actividades-de-aprendizaje-janmenc/blob/main/ibm_python_for_data_science.ipynb\" target=\"_parent\"><img src=\"https://colab.research.google.com/assets/colab-badge.svg\" alt=\"Open In Colab\"/></a>"
      ]
    },
    {
      "cell_type": "markdown",
      "source": [
        "# **Python for Data Science**\n",
        "\n",
        "### **IBM: PY0101EN**"
      ],
      "metadata": {
        "id": "a6oXvNU5CxKe"
      }
    },
    {
      "cell_type": "markdown",
      "source": [
        "Python es un lenguaje de programación usado para ciencia e ingeniería de datos así como para Inteleigencia Artificial. También, se ha convertido en un lenguaje muy usado sobre otros lenguajes como Java y C++.\n",
        "Las principales estructuras de datos en Python son *lists*, *tuples*, *sets* y *dictionaries*."
      ],
      "metadata": {
        "id": "IOMl45m_T8cz"
      }
    },
    {
      "cell_type": "markdown",
      "source": [
        "### **Module 1**"
      ],
      "metadata": {
        "id": "S7yS6k-T399a"
      }
    },
    {
      "cell_type": "markdown",
      "source": [
        "### Introduction"
      ],
      "metadata": {
        "id": "I5b19HH8dGWz"
      }
    },
    {
      "cell_type": "code",
      "source": [
        "#first program\n",
        "print(\"Hello World!\")"
      ],
      "metadata": {
        "colab": {
          "base_uri": "https://localhost:8080/"
        },
        "id": "NYwS-WdvSwLM",
        "outputId": "68207e32-c5c8-4d0c-a922-6c85a358270f"
      },
      "execution_count": 21,
      "outputs": [
        {
          "output_type": "stream",
          "name": "stdout",
          "text": [
            "Hello World!\n"
          ]
        }
      ]
    },
    {
      "cell_type": "markdown",
      "source": [
        "### Data types"
      ],
      "metadata": {
        "id": "xrh_FsagdN7q"
      }
    },
    {
      "cell_type": "markdown",
      "source": [
        "Los principales tipos de datos en Python son: *int*, *float*, *string* y *boolean*. Adicional, podemos hacer *cast* (convertir) de un tipo de variable a otro."
      ],
      "metadata": {
        "id": "vD9PzRgieCEP"
      }
    },
    {
      "cell_type": "code",
      "source": [
        "print(\"entero: \", type(3))\n",
        "print(\"float: \", type(1.1))\n",
        "print(\"string: \", type(\"Hello\"))"
      ],
      "metadata": {
        "colab": {
          "base_uri": "https://localhost:8080/"
        },
        "id": "G2aoRZvASwNn",
        "outputId": "42e64c2e-0cae-44ba-fc7a-7437a3541774"
      },
      "execution_count": 23,
      "outputs": [
        {
          "output_type": "stream",
          "name": "stdout",
          "text": [
            "entero:  <class 'int'>\n",
            "float:  <class 'float'>\n",
            "string:  <class 'str'>\n"
          ]
        }
      ]
    },
    {
      "cell_type": "code",
      "source": [
        "#cast de int a boolean\n",
        "bool(1) "
      ],
      "metadata": {
        "colab": {
          "base_uri": "https://localhost:8080/"
        },
        "id": "ODA2iJG4d0um",
        "outputId": "6f754770-8627-4d6a-c653-9223d25a23ee"
      },
      "execution_count": 24,
      "outputs": [
        {
          "output_type": "execute_result",
          "data": {
            "text/plain": [
              "True"
            ]
          },
          "metadata": {},
          "execution_count": 24
        }
      ]
    },
    {
      "cell_type": "code",
      "source": [
        "#cast de int a string\n",
        "str(9)"
      ],
      "metadata": {
        "colab": {
          "base_uri": "https://localhost:8080/",
          "height": 36
        },
        "id": "-CrbL3OAd0yh",
        "outputId": "b6469557-d0ad-4f2e-9fa7-9b7356213b6d"
      },
      "execution_count": 25,
      "outputs": [
        {
          "output_type": "execute_result",
          "data": {
            "text/plain": [
              "'9'"
            ],
            "application/vnd.google.colaboratory.intrinsic+json": {
              "type": "string"
            }
          },
          "metadata": {},
          "execution_count": 25
        }
      ]
    },
    {
      "cell_type": "markdown",
      "source": [
        "### Expressions and variables"
      ],
      "metadata": {
        "id": "Uk8Y2co-nn7p"
      }
    },
    {
      "cell_type": "markdown",
      "source": [
        "En Python una expresión se refiere a una combinación de operandos y operadores que tienen como finalidad producir un valor. Una variable, por otra parte, es un contenedor. Una expresión puede ser almacenada en una variable."
      ],
      "metadata": {
        "id": "P0tssLFroG4c"
      }
    },
    {
      "cell_type": "code",
      "source": [
        "#expresión en Python\n",
        "8 + 12 - 1"
      ],
      "metadata": {
        "colab": {
          "base_uri": "https://localhost:8080/"
        },
        "id": "CiHZTbmrd07l",
        "outputId": "36077f56-156c-4000-c1ba-dfcef3444745"
      },
      "execution_count": 26,
      "outputs": [
        {
          "output_type": "execute_result",
          "data": {
            "text/plain": [
              "19"
            ]
          },
          "metadata": {},
          "execution_count": 26
        }
      ]
    },
    {
      "cell_type": "code",
      "source": [
        "#variable en Python\n",
        "x = 100"
      ],
      "metadata": {
        "id": "sQOvmq5Pd0_6"
      },
      "execution_count": 27,
      "outputs": []
    },
    {
      "cell_type": "code",
      "source": [
        "#expresión almacenada en una variable\n",
        "x = 12 + 9 + 1 "
      ],
      "metadata": {
        "id": "iTAhccWVd1E2"
      },
      "execution_count": 28,
      "outputs": []
    },
    {
      "cell_type": "code",
      "source": [
        "#nuevo valor de la variable x\n",
        "x"
      ],
      "metadata": {
        "colab": {
          "base_uri": "https://localhost:8080/"
        },
        "id": "w3t3KLDWd1JI",
        "outputId": "c2ee6be1-e7f1-4842-f672-0f4f5b0ee680"
      },
      "execution_count": 30,
      "outputs": [
        {
          "output_type": "execute_result",
          "data": {
            "text/plain": [
              "22"
            ]
          },
          "metadata": {},
          "execution_count": 30
        }
      ]
    },
    {
      "cell_type": "code",
      "source": [
        "#se puede reasignar una variable a ella misma\n",
        "x = 1"
      ],
      "metadata": {
        "id": "OVn-wsfyd1Nx"
      },
      "execution_count": 34,
      "outputs": []
    },
    {
      "cell_type": "code",
      "source": [
        "#lo que es equivalente a x = x + 1\n",
        "x += 1"
      ],
      "metadata": {
        "id": "a4KDHahYsa4n"
      },
      "execution_count": 35,
      "outputs": []
    },
    {
      "cell_type": "code",
      "source": [
        "#por lo que el nuevo valor de la variable x es 2\n",
        "x"
      ],
      "metadata": {
        "colab": {
          "base_uri": "https://localhost:8080/"
        },
        "id": "MkgDk8Fhscdh",
        "outputId": "1d999307-af6e-41db-eb8d-e9934cefe7ca"
      },
      "execution_count": 36,
      "outputs": [
        {
          "output_type": "execute_result",
          "data": {
            "text/plain": [
              "2"
            ]
          },
          "metadata": {},
          "execution_count": 36
        }
      ]
    },
    {
      "cell_type": "markdown",
      "source": [
        "### String operations"
      ],
      "metadata": {
        "id": "rsYyl3cmulQy"
      }
    },
    {
      "cell_type": "markdown",
      "source": [
        "*String* es un tipo de dato en Python, un *string* es un grupo de caracteres y se define entre comillas, por ejemplo: '18abc&#'. Podemos manipular un *string* por medio de métodos, un método en Python es una función que nos permite ejecutar una tarea."
      ],
      "metadata": {
        "id": "kMihZ31duuA2"
      }
    },
    {
      "cell_type": "code",
      "source": [
        "#definiendo una string a la variable x\n",
        "x = '12345abc#$&%'"
      ],
      "metadata": {
        "id": "oT7unlQUsteT"
      },
      "execution_count": 37,
      "outputs": []
    },
    {
      "cell_type": "markdown",
      "source": [
        "A cada caracter de un *string* le corresponde un índice y los índices en Python comienzan en 0, es decir, al primer caracter de un *string* le corresponde el índice 0, al segundo el índice el 1, el último caracter lo podemos obtener con el índice -1."
      ],
      "metadata": {
        "id": "aP60bv9w1It8"
      }
    },
    {
      "cell_type": "code",
      "source": [
        "#primer y último caracter\n",
        "print(x[0])\n",
        "print(x[-1])"
      ],
      "metadata": {
        "colab": {
          "base_uri": "https://localhost:8080/"
        },
        "id": "q1IOGOboszPD",
        "outputId": "bd54705b-e511-443c-9b45-b8276cd35345"
      },
      "execution_count": 38,
      "outputs": [
        {
          "output_type": "stream",
          "name": "stdout",
          "text": [
            "1\n",
            "%\n"
          ]
        }
      ]
    },
    {
      "cell_type": "code",
      "source": [
        "#se puede realizar un slide sobre un string\n",
        "x[:3]"
      ],
      "metadata": {
        "colab": {
          "base_uri": "https://localhost:8080/",
          "height": 36
        },
        "id": "KzrqHnXGszRV",
        "outputId": "c4c940ce-d4ad-4d02-9dfa-a352447fd47c"
      },
      "execution_count": 39,
      "outputs": [
        {
          "output_type": "execute_result",
          "data": {
            "text/plain": [
              "'123'"
            ],
            "application/vnd.google.colaboratory.intrinsic+json": {
              "type": "string"
            }
          },
          "metadata": {},
          "execution_count": 39
        }
      ]
    },
    {
      "cell_type": "code",
      "source": [
        "#también un slide obteniendo los caracteres con índices pares\n",
        "x[::2]"
      ],
      "metadata": {
        "colab": {
          "base_uri": "https://localhost:8080/",
          "height": 36
        },
        "id": "11Q3_tpu2Xma",
        "outputId": "bf298b87-7b08-42bf-acb0-fe2f5f30b5b6"
      },
      "execution_count": 43,
      "outputs": [
        {
          "output_type": "execute_result",
          "data": {
            "text/plain": [
              "'135b#&'"
            ],
            "application/vnd.google.colaboratory.intrinsic+json": {
              "type": "string"
            }
          },
          "metadata": {},
          "execution_count": 43
        }
      ]
    },
    {
      "cell_type": "code",
      "source": [
        "#también se puede aplicar algún método sobre el string\n",
        "#por ejemplo el método find el cual dará como resultado el índice del caracter buscado\n",
        "x.find('3')"
      ],
      "metadata": {
        "colab": {
          "base_uri": "https://localhost:8080/"
        },
        "id": "ExL44PLCszUO",
        "outputId": "1891ad6a-5dcb-457c-833f-e4553b35170d"
      },
      "execution_count": 42,
      "outputs": [
        {
          "output_type": "execute_result",
          "data": {
            "text/plain": [
              "2"
            ]
          },
          "metadata": {},
          "execution_count": 42
        }
      ]
    },
    {
      "cell_type": "markdown",
      "source": [
        "### **Module 2**"
      ],
      "metadata": {
        "id": "m6_DfZsJ8DOP"
      }
    },
    {
      "cell_type": "markdown",
      "source": [
        "### Lists and tuples"
      ],
      "metadata": {
        "id": "99K08XI08PgK"
      }
    },
    {
      "cell_type": "code",
      "source": [],
      "metadata": {
        "id": "80zMt9GJszXD"
      },
      "execution_count": null,
      "outputs": []
    },
    {
      "cell_type": "code",
      "source": [],
      "metadata": {
        "id": "dFZTmd9MszZ7"
      },
      "execution_count": null,
      "outputs": []
    },
    {
      "cell_type": "code",
      "source": [],
      "metadata": {
        "id": "E79_kvzUszct"
      },
      "execution_count": null,
      "outputs": []
    },
    {
      "cell_type": "code",
      "source": [],
      "metadata": {
        "id": "pMfoPAYlszfk"
      },
      "execution_count": null,
      "outputs": []
    },
    {
      "cell_type": "code",
      "source": [],
      "metadata": {
        "id": "9tjUC1EgsziX"
      },
      "execution_count": null,
      "outputs": []
    },
    {
      "cell_type": "code",
      "source": [],
      "metadata": {
        "id": "5TlLMLwMszlJ"
      },
      "execution_count": null,
      "outputs": []
    },
    {
      "cell_type": "code",
      "source": [],
      "metadata": {
        "id": "6dEZI0eqszor"
      },
      "execution_count": null,
      "outputs": []
    },
    {
      "cell_type": "code",
      "source": [],
      "metadata": {
        "id": "VF-c8AKBszrq"
      },
      "execution_count": null,
      "outputs": []
    }
  ]
}
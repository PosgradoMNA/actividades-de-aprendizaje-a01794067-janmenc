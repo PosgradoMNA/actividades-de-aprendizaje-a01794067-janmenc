{
  "nbformat": 4,
  "nbformat_minor": 0,
  "metadata": {
    "colab": {
      "provenance": [],
      "collapsed_sections": [],
      "authorship_tag": "ABX9TyMOLnXAEum/aJhJk5tK1x/f",
      "include_colab_link": true
    },
    "kernelspec": {
      "name": "python3",
      "display_name": "Python 3"
    },
    "language_info": {
      "name": "python"
    }
  },
  "cells": [
    {
      "cell_type": "markdown",
      "metadata": {
        "id": "view-in-github",
        "colab_type": "text"
      },
      "source": [
        "<a href=\"https://colab.research.google.com/github/PosgradoMNA/actividades-de-aprendizaje-a01794067-janmenc/blob/main/ibm_python_for_data_science.ipynb\" target=\"_parent\"><img src=\"https://colab.research.google.com/assets/colab-badge.svg\" alt=\"Open In Colab\"/></a>"
      ]
    },
    {
      "cell_type": "markdown",
      "source": [
        "# **José Antonio Mendoza Castro - A01794067**\n",
        "\n",
        "# **Notas Python for Data Science**\n",
        "\n",
        "### **IBM: PY0101EN**"
      ],
      "metadata": {
        "id": "a6oXvNU5CxKe"
      }
    },
    {
      "cell_type": "markdown",
      "source": [
        "Python es un lenguaje de programación usado para ciencia e ingeniería de datos así como para Inteleigencia Artificial. También, se ha convertido en un lenguaje muy usado sobre otros lenguajes como Java y C++.\n",
        "Las principales estructuras de datos en Python son *lists*, *tuples*, *sets* y *dictionaries*."
      ],
      "metadata": {
        "id": "IOMl45m_T8cz"
      }
    },
    {
      "cell_type": "markdown",
      "source": [
        "### **Module 1**"
      ],
      "metadata": {
        "id": "S7yS6k-T399a"
      }
    },
    {
      "cell_type": "markdown",
      "source": [
        "### Introduction"
      ],
      "metadata": {
        "id": "I5b19HH8dGWz"
      }
    },
    {
      "cell_type": "code",
      "source": [
        "#first program\n",
        "print(\"Hello World!\")"
      ],
      "metadata": {
        "colab": {
          "base_uri": "https://localhost:8080/"
        },
        "id": "NYwS-WdvSwLM",
        "outputId": "68207e32-c5c8-4d0c-a922-6c85a358270f"
      },
      "execution_count": null,
      "outputs": [
        {
          "output_type": "stream",
          "name": "stdout",
          "text": [
            "Hello World!\n"
          ]
        }
      ]
    },
    {
      "cell_type": "markdown",
      "source": [
        "### Data types"
      ],
      "metadata": {
        "id": "xrh_FsagdN7q"
      }
    },
    {
      "cell_type": "markdown",
      "source": [
        "Los principales tipos de datos en Python son: *int*, *float*, *string* y *boolean*. Adicional, podemos hacer *cast* (convertir) de un tipo de variable a otro."
      ],
      "metadata": {
        "id": "vD9PzRgieCEP"
      }
    },
    {
      "cell_type": "code",
      "source": [
        "print(\"entero: \", type(3))\n",
        "print(\"float: \", type(1.1))\n",
        "print(\"string: \", type(\"Hello\"))"
      ],
      "metadata": {
        "colab": {
          "base_uri": "https://localhost:8080/"
        },
        "id": "G2aoRZvASwNn",
        "outputId": "42e64c2e-0cae-44ba-fc7a-7437a3541774"
      },
      "execution_count": null,
      "outputs": [
        {
          "output_type": "stream",
          "name": "stdout",
          "text": [
            "entero:  <class 'int'>\n",
            "float:  <class 'float'>\n",
            "string:  <class 'str'>\n"
          ]
        }
      ]
    },
    {
      "cell_type": "code",
      "source": [
        "#cast de int a boolean\n",
        "bool(1) "
      ],
      "metadata": {
        "colab": {
          "base_uri": "https://localhost:8080/"
        },
        "id": "ODA2iJG4d0um",
        "outputId": "6f754770-8627-4d6a-c653-9223d25a23ee"
      },
      "execution_count": null,
      "outputs": [
        {
          "output_type": "execute_result",
          "data": {
            "text/plain": [
              "True"
            ]
          },
          "metadata": {},
          "execution_count": 24
        }
      ]
    },
    {
      "cell_type": "code",
      "source": [
        "#cast de int a string\n",
        "str(9)"
      ],
      "metadata": {
        "colab": {
          "base_uri": "https://localhost:8080/",
          "height": 36
        },
        "id": "-CrbL3OAd0yh",
        "outputId": "b6469557-d0ad-4f2e-9fa7-9b7356213b6d"
      },
      "execution_count": null,
      "outputs": [
        {
          "output_type": "execute_result",
          "data": {
            "text/plain": [
              "'9'"
            ],
            "application/vnd.google.colaboratory.intrinsic+json": {
              "type": "string"
            }
          },
          "metadata": {},
          "execution_count": 25
        }
      ]
    },
    {
      "cell_type": "markdown",
      "source": [
        "### Expressions and variables"
      ],
      "metadata": {
        "id": "Uk8Y2co-nn7p"
      }
    },
    {
      "cell_type": "markdown",
      "source": [
        "En Python una expresión se refiere a una combinación de operandos y operadores que tienen como finalidad producir un valor. Una variable, por otra parte, es un contenedor. Una expresión puede ser almacenada en una variable."
      ],
      "metadata": {
        "id": "P0tssLFroG4c"
      }
    },
    {
      "cell_type": "code",
      "source": [
        "#expresión en Python\n",
        "8 + 12 - 1"
      ],
      "metadata": {
        "colab": {
          "base_uri": "https://localhost:8080/"
        },
        "id": "CiHZTbmrd07l",
        "outputId": "36077f56-156c-4000-c1ba-dfcef3444745"
      },
      "execution_count": null,
      "outputs": [
        {
          "output_type": "execute_result",
          "data": {
            "text/plain": [
              "19"
            ]
          },
          "metadata": {},
          "execution_count": 26
        }
      ]
    },
    {
      "cell_type": "code",
      "source": [
        "#variable en Python\n",
        "x = 100"
      ],
      "metadata": {
        "id": "sQOvmq5Pd0_6"
      },
      "execution_count": null,
      "outputs": []
    },
    {
      "cell_type": "code",
      "source": [
        "#expresión almacenada en una variable\n",
        "x = 12 + 9 + 1 "
      ],
      "metadata": {
        "id": "iTAhccWVd1E2"
      },
      "execution_count": null,
      "outputs": []
    },
    {
      "cell_type": "code",
      "source": [
        "#nuevo valor de la variable x\n",
        "x"
      ],
      "metadata": {
        "colab": {
          "base_uri": "https://localhost:8080/"
        },
        "id": "w3t3KLDWd1JI",
        "outputId": "c2ee6be1-e7f1-4842-f672-0f4f5b0ee680"
      },
      "execution_count": null,
      "outputs": [
        {
          "output_type": "execute_result",
          "data": {
            "text/plain": [
              "22"
            ]
          },
          "metadata": {},
          "execution_count": 30
        }
      ]
    },
    {
      "cell_type": "code",
      "source": [
        "#se puede reasignar una variable a ella misma\n",
        "x = 1"
      ],
      "metadata": {
        "id": "OVn-wsfyd1Nx"
      },
      "execution_count": null,
      "outputs": []
    },
    {
      "cell_type": "code",
      "source": [
        "#lo que es equivalente a x = x + 1\n",
        "x += 1"
      ],
      "metadata": {
        "id": "a4KDHahYsa4n"
      },
      "execution_count": null,
      "outputs": []
    },
    {
      "cell_type": "code",
      "source": [
        "#por lo que el nuevo valor de la variable x es 2\n",
        "x"
      ],
      "metadata": {
        "colab": {
          "base_uri": "https://localhost:8080/"
        },
        "id": "MkgDk8Fhscdh",
        "outputId": "1d999307-af6e-41db-eb8d-e9934cefe7ca"
      },
      "execution_count": null,
      "outputs": [
        {
          "output_type": "execute_result",
          "data": {
            "text/plain": [
              "2"
            ]
          },
          "metadata": {},
          "execution_count": 36
        }
      ]
    },
    {
      "cell_type": "markdown",
      "source": [
        "### String operations"
      ],
      "metadata": {
        "id": "rsYyl3cmulQy"
      }
    },
    {
      "cell_type": "markdown",
      "source": [
        "*String* es un tipo de dato en Python, un *string* es un grupo de caracteres y se define entre comillas, por ejemplo: '18abc&#'. Podemos manipular un *string* por medio de métodos, un método en Python es una función que nos permite ejecutar una tarea."
      ],
      "metadata": {
        "id": "kMihZ31duuA2"
      }
    },
    {
      "cell_type": "code",
      "source": [
        "#definiendo una string a la variable x\n",
        "x = '12345abc#$&%'"
      ],
      "metadata": {
        "id": "oT7unlQUsteT"
      },
      "execution_count": null,
      "outputs": []
    },
    {
      "cell_type": "markdown",
      "source": [
        "A cada caracter de un *string* le corresponde un índice y los índices en Python comienzan en 0, es decir, al primer caracter de un *string* le corresponde el índice 0, al segundo el índice el 1, el último caracter lo podemos obtener con el índice -1."
      ],
      "metadata": {
        "id": "aP60bv9w1It8"
      }
    },
    {
      "cell_type": "code",
      "source": [
        "#primer y último caracter\n",
        "print(x[0])\n",
        "print(x[-1])"
      ],
      "metadata": {
        "colab": {
          "base_uri": "https://localhost:8080/"
        },
        "id": "q1IOGOboszPD",
        "outputId": "bd54705b-e511-443c-9b45-b8276cd35345"
      },
      "execution_count": null,
      "outputs": [
        {
          "output_type": "stream",
          "name": "stdout",
          "text": [
            "1\n",
            "%\n"
          ]
        }
      ]
    },
    {
      "cell_type": "code",
      "source": [
        "#se puede realizar un slide sobre un string\n",
        "x[:3]"
      ],
      "metadata": {
        "colab": {
          "base_uri": "https://localhost:8080/",
          "height": 36
        },
        "id": "KzrqHnXGszRV",
        "outputId": "c4c940ce-d4ad-4d02-9dfa-a352447fd47c"
      },
      "execution_count": null,
      "outputs": [
        {
          "output_type": "execute_result",
          "data": {
            "text/plain": [
              "'123'"
            ],
            "application/vnd.google.colaboratory.intrinsic+json": {
              "type": "string"
            }
          },
          "metadata": {},
          "execution_count": 39
        }
      ]
    },
    {
      "cell_type": "code",
      "source": [
        "#también un slide obteniendo los caracteres con índices pares\n",
        "x[::2]"
      ],
      "metadata": {
        "colab": {
          "base_uri": "https://localhost:8080/",
          "height": 36
        },
        "id": "11Q3_tpu2Xma",
        "outputId": "bf298b87-7b08-42bf-acb0-fe2f5f30b5b6"
      },
      "execution_count": null,
      "outputs": [
        {
          "output_type": "execute_result",
          "data": {
            "text/plain": [
              "'135b#&'"
            ],
            "application/vnd.google.colaboratory.intrinsic+json": {
              "type": "string"
            }
          },
          "metadata": {},
          "execution_count": 43
        }
      ]
    },
    {
      "cell_type": "code",
      "source": [
        "#también se puede aplicar algún método sobre el string\n",
        "#por ejemplo el método find el cual dará como resultado el índice del caracter buscado\n",
        "x.find('3')"
      ],
      "metadata": {
        "colab": {
          "base_uri": "https://localhost:8080/"
        },
        "id": "ExL44PLCszUO",
        "outputId": "1891ad6a-5dcb-457c-833f-e4553b35170d"
      },
      "execution_count": null,
      "outputs": [
        {
          "output_type": "execute_result",
          "data": {
            "text/plain": [
              "2"
            ]
          },
          "metadata": {},
          "execution_count": 42
        }
      ]
    },
    {
      "cell_type": "markdown",
      "source": [
        "### **Module 2**"
      ],
      "metadata": {
        "id": "m6_DfZsJ8DOP"
      }
    },
    {
      "cell_type": "markdown",
      "source": [
        "### Lists and tuples"
      ],
      "metadata": {
        "id": "99K08XI08PgK"
      }
    },
    {
      "cell_type": "markdown",
      "source": [
        "Las *lists* y *tuples* en Python son estructuras de datos, las cuales nos permite almacenar datos en forma secuencial. Las *lists* son *mutable*, es decir, que pueden cambiar, y se definen con los símbolos **\"[\" y \"]\"**. Las *tuple* son *immutable*, es decir, que no se puede cambiar, y se definen con los símbolos **\"(\" y \")\"**. En ambos casos a cada elemento dentro de ellas se le llama *item* y a cada uno le corresponde un índice como en el caso de los *string*."
      ],
      "metadata": {
        "id": "3x036ZRlHXQY"
      }
    },
    {
      "cell_type": "code",
      "source": [
        "#podemos definir una list y un tuple\n",
        "x = [1, 2 , 3, 4, 5]\n",
        "y = (6, 7 , 8, 9, 10, 11)"
      ],
      "metadata": {
        "id": "80zMt9GJszXD"
      },
      "execution_count": null,
      "outputs": []
    },
    {
      "cell_type": "code",
      "source": [
        "#en ambos casos podemos obtener su longitud por medio de la función len()\n",
        "print('longitud de la lista x: ', len(x))\n",
        "print('longitud de la lista y: ', len(y))"
      ],
      "metadata": {
        "colab": {
          "base_uri": "https://localhost:8080/"
        },
        "id": "dFZTmd9MszZ7",
        "outputId": "6d2fa9ed-44bc-42c7-efc5-4bdcae4b1748"
      },
      "execution_count": null,
      "outputs": [
        {
          "output_type": "stream",
          "name": "stdout",
          "text": [
            "longitud de la lista x:  5\n",
            "longitud de la lista y:  6\n"
          ]
        }
      ]
    },
    {
      "cell_type": "code",
      "source": [
        "#al igual que en el caso que con un string podemos aplicar un slide sobre las list o tuple\n",
        "print(x[:2])\n",
        "print(y[:4])"
      ],
      "metadata": {
        "colab": {
          "base_uri": "https://localhost:8080/"
        },
        "id": "E79_kvzUszct",
        "outputId": "968f65b1-8c83-44a8-98ea-1d280ae00b15"
      },
      "execution_count": null,
      "outputs": [
        {
          "output_type": "stream",
          "name": "stdout",
          "text": [
            "[1, 2]\n",
            "(6, 7, 8, 9)\n"
          ]
        }
      ]
    },
    {
      "cell_type": "code",
      "source": [
        "#también podemos concatenar dos lists o dos tuples\n",
        "w = [15, 16]\n",
        "z = x + w\n",
        "print(z)"
      ],
      "metadata": {
        "colab": {
          "base_uri": "https://localhost:8080/"
        },
        "id": "pMfoPAYlszfk",
        "outputId": "cc936ab0-701a-4544-f49f-d26173a1c75d"
      },
      "execution_count": null,
      "outputs": [
        {
          "output_type": "stream",
          "name": "stdout",
          "text": [
            "[1, 2, 3, 4, 5, 15, 16]\n"
          ]
        }
      ]
    },
    {
      "cell_type": "code",
      "source": [
        "#por otra parte a un string lo podemos convertir en una lista con el método split()\n",
        "a = '1 2 3 4 5 6'\n",
        "print(a.split(' '))"
      ],
      "metadata": {
        "colab": {
          "base_uri": "https://localhost:8080/"
        },
        "id": "9tjUC1EgsziX",
        "outputId": "2e695cea-026a-4938-ca3f-e472f6cdac68"
      },
      "execution_count": null,
      "outputs": [
        {
          "output_type": "stream",
          "name": "stdout",
          "text": [
            "['1', '2', '3', '4', '5', '6']\n"
          ]
        }
      ]
    },
    {
      "cell_type": "markdown",
      "source": [
        "### Sets"
      ],
      "metadata": {
        "id": "vm3PxvhTRPSu"
      }
    },
    {
      "cell_type": "markdown",
      "source": [
        "Los *sets* en Python tienen características similares a las que tiene un conjunto en teoría de conjuntos, no se repiten objetos y se pueden aplicar operaciones como unión e intersección. Se definen con los símbolos **'{' y '}'**."
      ],
      "metadata": {
        "id": "OFQJ03XYRTti"
      }
    },
    {
      "cell_type": "code",
      "source": [
        "#no se repiten objetos en un set\n",
        "A = {1, 2, 3, 1}\n",
        "print(A)"
      ],
      "metadata": {
        "colab": {
          "base_uri": "https://localhost:8080/"
        },
        "id": "5TlLMLwMszlJ",
        "outputId": "cabeaaa2-0816-4aaf-8368-6eae4652b038"
      },
      "execution_count": null,
      "outputs": [
        {
          "output_type": "stream",
          "name": "stdout",
          "text": [
            "{1, 2, 3}\n"
          ]
        }
      ]
    },
    {
      "cell_type": "code",
      "source": [
        "#se puede usar la operación intersección\n",
        "A = {1, 2, 3, 4}\n",
        "B = {4, 5, 6, 7}\n",
        "print(A & B)"
      ],
      "metadata": {
        "colab": {
          "base_uri": "https://localhost:8080/"
        },
        "id": "lReuFsK5R5xh",
        "outputId": "8ef3590c-c75b-41f5-86d1-44c56be70a56"
      },
      "execution_count": null,
      "outputs": [
        {
          "output_type": "stream",
          "name": "stdout",
          "text": [
            "{4}\n"
          ]
        }
      ]
    },
    {
      "cell_type": "code",
      "source": [
        "#también la unión\n",
        "print(A | B)"
      ],
      "metadata": {
        "colab": {
          "base_uri": "https://localhost:8080/"
        },
        "id": "ja83QN3AR50-",
        "outputId": "42f88d02-25c5-4aed-8ef0-33fd295a2f38"
      },
      "execution_count": null,
      "outputs": [
        {
          "output_type": "stream",
          "name": "stdout",
          "text": [
            "{1, 2, 3, 4, 5, 6, 7}\n"
          ]
        }
      ]
    },
    {
      "cell_type": "code",
      "source": [
        "#se puede añadir un elemento a un conjunto, si el elemento ya existe no se muestra\n",
        "A.add(5)\n",
        "print(A)"
      ],
      "metadata": {
        "colab": {
          "base_uri": "https://localhost:8080/"
        },
        "id": "3Fp_NnNsR552",
        "outputId": "a3ccf7ca-ad15-4f2f-ab27-5a386174787e"
      },
      "execution_count": null,
      "outputs": [
        {
          "output_type": "stream",
          "name": "stdout",
          "text": [
            "{1, 2, 3, 4, 5}\n"
          ]
        }
      ]
    },
    {
      "cell_type": "markdown",
      "source": [
        "### Dictionaries"
      ],
      "metadata": {
        "id": "SiLmHUE2r2fX"
      }
    },
    {
      "cell_type": "markdown",
      "source": [
        "Los diccionarios en Python se componen por *keys* y *values*, estos últimos pueden ser *data types* o *data structures*. Se definen con los símbolos **'{'** y **'}'**. Las *keys* son equivalentes a los índices de las *lists* o *tuples*.   "
      ],
      "metadata": {
        "id": "lg1s8w4hr8Kr"
      }
    },
    {
      "cell_type": "code",
      "source": [
        "A = {'w': 1, 'x': 2, 'y': 3, 'z': 4}\n",
        "B = {'a': [1, 2], 'b': [3, 4], 'c': [5, 6], 'd': [7, 8]}"
      ],
      "metadata": {
        "id": "mCWqbEbRR6BJ"
      },
      "execution_count": null,
      "outputs": []
    },
    {
      "cell_type": "code",
      "source": [
        "#se puede usar una key para encontrar un valor en un diccionario\n",
        "print(A['x'])\n",
        "print(B['a'])"
      ],
      "metadata": {
        "id": "RSaw3KzbR6FC",
        "colab": {
          "base_uri": "https://localhost:8080/"
        },
        "outputId": "d7911ab8-dd13-4e65-8f1a-d3a7c4e63692"
      },
      "execution_count": null,
      "outputs": [
        {
          "output_type": "stream",
          "name": "stdout",
          "text": [
            "2\n",
            "[1, 2]\n"
          ]
        }
      ]
    },
    {
      "cell_type": "markdown",
      "source": [
        "### **Module 3**"
      ],
      "metadata": {
        "id": "JqDtbSju0Ppx"
      }
    },
    {
      "cell_type": "markdown",
      "source": [
        "### Conditions and Branching"
      ],
      "metadata": {
        "id": "eyjIqtA3hvDE"
      }
    },
    {
      "cell_type": "markdown",
      "source": [
        "Se puede hacer una comparación entre dos expresiones, ya sea que esté almacenada en una variable o bien sea un valor. Con ello podemos comprobar si la comparación se cumple o no, obteniendo como resultado una variable booleana."
      ],
      "metadata": {
        "id": "0C5bKXmqncLG"
      }
    },
    {
      "cell_type": "code",
      "source": [
        "#por ejemplo al definir x igual a 1 y compararla con el valor 0 obtenemos: False\n",
        "x = 1\n",
        "x == 0"
      ],
      "metadata": {
        "id": "13oTP8fwR6Iw",
        "colab": {
          "base_uri": "https://localhost:8080/"
        },
        "outputId": "12a7c9a4-c766-4718-aca5-4d568b214d1f"
      },
      "execution_count": null,
      "outputs": [
        {
          "output_type": "execute_result",
          "data": {
            "text/plain": [
              "False"
            ]
          },
          "metadata": {},
          "execution_count": 1
        }
      ]
    },
    {
      "cell_type": "code",
      "source": [
        "#comparar las variables \"w\" y \"x\"\n",
        "w = 0\n",
        "x = 1\n",
        "#dado que 1 es mayor a 0 la condición se cumple y obtenemos: True\n",
        "x > w"
      ],
      "metadata": {
        "id": "Dxq6GlBER6L0",
        "colab": {
          "base_uri": "https://localhost:8080/"
        },
        "outputId": "483acfe9-47c5-4383-aeb5-80813659acf0"
      },
      "execution_count": null,
      "outputs": [
        {
          "output_type": "execute_result",
          "data": {
            "text/plain": [
              "True"
            ]
          },
          "metadata": {},
          "execution_count": 2
        }
      ]
    },
    {
      "cell_type": "code",
      "source": [
        "#también se puede verificar la condición que dos expresiones sean distintas\n",
        "w = 100\n",
        "x = -1\n",
        "w != x"
      ],
      "metadata": {
        "id": "6dEZI0eqszor",
        "colab": {
          "base_uri": "https://localhost:8080/"
        },
        "outputId": "7aa77e91-53f1-4a0e-c982-390b0268c988"
      },
      "execution_count": null,
      "outputs": [
        {
          "output_type": "execute_result",
          "data": {
            "text/plain": [
              "True"
            ]
          },
          "metadata": {},
          "execution_count": 3
        }
      ]
    },
    {
      "cell_type": "markdown",
      "source": [
        "Una forma de crear un flujo en un código es por medio de un if-else statement. Con el que podemos ir comparando expresiones."
      ],
      "metadata": {
        "id": "_eLJDlGTsYh3"
      }
    },
    {
      "cell_type": "code",
      "source": [
        "x = 4.2\n",
        "\n",
        "if x > 10:\n",
        "  print(\"este valor es mayor a 10\")\n",
        "else:\n",
        "  print(\"este valor es menor o igual a 10\")"
      ],
      "metadata": {
        "id": "VF-c8AKBszrq",
        "colab": {
          "base_uri": "https://localhost:8080/"
        },
        "outputId": "53f28d12-caa7-49a1-e8e3-ad397dc3c55c"
      },
      "execution_count": null,
      "outputs": [
        {
          "output_type": "stream",
          "name": "stdout",
          "text": [
            "este valor es menor o igual a 10\n"
          ]
        }
      ]
    },
    {
      "cell_type": "code",
      "source": [
        "#también se pueden revisar multiples condiciones con la keyword elif\n",
        "x = -2\n",
        "\n",
        "if x < 0:\n",
        "  print('x es número negativo')\n",
        "elif x == 0:\n",
        "  print('x es igual a cero')\n",
        "else:\n",
        "  print('x es número positivo')"
      ],
      "metadata": {
        "colab": {
          "base_uri": "https://localhost:8080/"
        },
        "id": "QZKEUh8lt6zb",
        "outputId": "eed224a8-7bf7-43b1-dab2-9490b1037782"
      },
      "execution_count": null,
      "outputs": [
        {
          "output_type": "stream",
          "name": "stdout",
          "text": [
            "x es número negativo\n"
          ]
        }
      ]
    },
    {
      "cell_type": "markdown",
      "source": [
        "### Loops"
      ],
      "metadata": {
        "id": "hB5PNHJl1jnX"
      }
    },
    {
      "cell_type": "markdown",
      "source": [
        "En Python como en otros lenguajes de programación un *loop* sirve para iterar sobre un objeto, como una *list*, *tuple*, *dictionary* o *string*. Para iniciar una iteración se utiliza la *keyword 'for'* y también se puede utilizar *while*."
      ],
      "metadata": {
        "id": "EkbEBdsiU8Qt"
      }
    },
    {
      "cell_type": "code",
      "source": [
        "#se puede declarar una lista e iterar sobre cada uno de sus items\n",
        "lst = [1, 2, 3]\n",
        "for item in lst:\n",
        "  print(item)"
      ],
      "metadata": {
        "id": "zDAqc3WW00lv",
        "colab": {
          "base_uri": "https://localhost:8080/"
        },
        "outputId": "b0228dcb-9fbc-4354-dd98-5b452b61b512"
      },
      "execution_count": null,
      "outputs": [
        {
          "output_type": "stream",
          "name": "stdout",
          "text": [
            "1\n",
            "2\n",
            "3\n"
          ]
        }
      ]
    },
    {
      "cell_type": "code",
      "source": [
        "#también con el for loop se puede usar la función range que nos arroja una secuencia en la que podemos especificar el inicio y el fin de una secuencia\n",
        "for i in range(3):\n",
        "  print(i)"
      ],
      "metadata": {
        "colab": {
          "base_uri": "https://localhost:8080/"
        },
        "id": "LyzOvr00WAyy",
        "outputId": "e3ee8540-8031-47a1-d9eb-fb3f6431a451"
      },
      "execution_count": null,
      "outputs": [
        {
          "output_type": "stream",
          "name": "stdout",
          "text": [
            "0\n",
            "1\n",
            "2\n"
          ]
        }
      ]
    },
    {
      "cell_type": "code",
      "source": [
        "#con el for loop también se puede usar la función enumerate que nos permite por una parte usar los índices de un iterable como sus valores\n",
        "#por ejemplo se puede elevar cada elemento de una lista a una potencia igual a su índice \n",
        "\n",
        "lst = [-100, -1, 0, 1, 1000]\n",
        "\n",
        "for i, val in enumerate(lst):\n",
        "  print(i, val**i)"
      ],
      "metadata": {
        "colab": {
          "base_uri": "https://localhost:8080/"
        },
        "id": "KgGTd0uwmOqK",
        "outputId": "b67447f6-ae6b-45d1-ae7e-c02d19c18690"
      },
      "execution_count": 3,
      "outputs": [
        {
          "output_type": "stream",
          "name": "stdout",
          "text": [
            "0 1\n",
            "1 -1\n",
            "2 0\n",
            "3 1\n",
            "4 1000000000000\n"
          ]
        }
      ]
    },
    {
      "cell_type": "code",
      "source": [
        "#también podemos utilizar la keyword while para realizar un loop el cual se ejecuta mientras se cumpla una condición\n",
        "\n",
        "lst = [-1, 0, 1, 2, 3] \n",
        "#al iniciar en el índice 0 se ejecuta el while loop hasta que se mantenga la condición de que el valor de la lista sea menor o igual a 1\n",
        "i = 0\n",
        "\n",
        "while lst[i] <= 1:\n",
        "  print(lst[i])\n",
        "  i += 1"
      ],
      "metadata": {
        "id": "L5gToRfmWjZd",
        "colab": {
          "base_uri": "https://localhost:8080/"
        },
        "outputId": "32a5b741-d48e-41e1-ad9c-40f1e6acb116"
      },
      "execution_count": 2,
      "outputs": [
        {
          "output_type": "stream",
          "name": "stdout",
          "text": [
            "-1\n",
            "0\n",
            "1\n"
          ]
        }
      ]
    },
    {
      "cell_type": "code",
      "source": [],
      "metadata": {
        "id": "cy0U9aJtlbdy"
      },
      "execution_count": null,
      "outputs": []
    }
  ]
}
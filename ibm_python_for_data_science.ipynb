{
  "nbformat": 4,
  "nbformat_minor": 0,
  "metadata": {
    "colab": {
      "provenance": [],
      "collapsed_sections": [],
      "authorship_tag": "ABX9TyORDRY3o4cZheb8kxHpJIW2",
      "include_colab_link": true
    },
    "kernelspec": {
      "name": "python3",
      "display_name": "Python 3"
    },
    "language_info": {
      "name": "python"
    }
  },
  "cells": [
    {
      "cell_type": "markdown",
      "metadata": {
        "id": "view-in-github",
        "colab_type": "text"
      },
      "source": [
        "<a href=\"https://colab.research.google.com/github/PosgradoMNA/actividades-de-aprendizaje-janmenc/blob/main/ibm_python_for_data_science.ipynb\" target=\"_parent\"><img src=\"https://colab.research.google.com/assets/colab-badge.svg\" alt=\"Open In Colab\"/></a>"
      ]
    },
    {
      "cell_type": "markdown",
      "source": [
        "# **Python for Data Science**\n",
        "\n",
        "### **IBM: PY0101EN**"
      ],
      "metadata": {
        "id": "a6oXvNU5CxKe"
      }
    },
    {
      "cell_type": "markdown",
      "source": [
        "Python es un lenguaje de programación usado para ciencia e ingeniería de datos así como para Inteleigencia Artificial. También, se ha convertido en un lenguaje muy usado sobre otros lenguajes como Java y C++.\n",
        "Las principales estructuras de datos en Python son *lists*, *tuples*, *sets* y *dictionaries*."
      ],
      "metadata": {
        "id": "IOMl45m_T8cz"
      }
    },
    {
      "cell_type": "markdown",
      "source": [
        "### **Module 1**"
      ],
      "metadata": {
        "id": "S7yS6k-T399a"
      }
    },
    {
      "cell_type": "markdown",
      "source": [
        "### Introduction"
      ],
      "metadata": {
        "id": "I5b19HH8dGWz"
      }
    },
    {
      "cell_type": "code",
      "source": [
        "#first program\n",
        "print(\"Hello World!\")"
      ],
      "metadata": {
        "colab": {
          "base_uri": "https://localhost:8080/"
        },
        "id": "NYwS-WdvSwLM",
        "outputId": "68207e32-c5c8-4d0c-a922-6c85a358270f"
      },
      "execution_count": null,
      "outputs": [
        {
          "output_type": "stream",
          "name": "stdout",
          "text": [
            "Hello World!\n"
          ]
        }
      ]
    },
    {
      "cell_type": "markdown",
      "source": [
        "### Data types"
      ],
      "metadata": {
        "id": "xrh_FsagdN7q"
      }
    },
    {
      "cell_type": "markdown",
      "source": [
        "Los principales tipos de datos en Python son: *int*, *float*, *string* y *boolean*. Adicional, podemos hacer *cast* (convertir) de un tipo de variable a otro."
      ],
      "metadata": {
        "id": "vD9PzRgieCEP"
      }
    },
    {
      "cell_type": "code",
      "source": [
        "print(\"entero: \", type(3))\n",
        "print(\"float: \", type(1.1))\n",
        "print(\"string: \", type(\"Hello\"))"
      ],
      "metadata": {
        "colab": {
          "base_uri": "https://localhost:8080/"
        },
        "id": "G2aoRZvASwNn",
        "outputId": "42e64c2e-0cae-44ba-fc7a-7437a3541774"
      },
      "execution_count": null,
      "outputs": [
        {
          "output_type": "stream",
          "name": "stdout",
          "text": [
            "entero:  <class 'int'>\n",
            "float:  <class 'float'>\n",
            "string:  <class 'str'>\n"
          ]
        }
      ]
    },
    {
      "cell_type": "code",
      "source": [
        "#cast de int a boolean\n",
        "bool(1) "
      ],
      "metadata": {
        "colab": {
          "base_uri": "https://localhost:8080/"
        },
        "id": "ODA2iJG4d0um",
        "outputId": "6f754770-8627-4d6a-c653-9223d25a23ee"
      },
      "execution_count": null,
      "outputs": [
        {
          "output_type": "execute_result",
          "data": {
            "text/plain": [
              "True"
            ]
          },
          "metadata": {},
          "execution_count": 24
        }
      ]
    },
    {
      "cell_type": "code",
      "source": [
        "#cast de int a string\n",
        "str(9)"
      ],
      "metadata": {
        "colab": {
          "base_uri": "https://localhost:8080/",
          "height": 36
        },
        "id": "-CrbL3OAd0yh",
        "outputId": "b6469557-d0ad-4f2e-9fa7-9b7356213b6d"
      },
      "execution_count": null,
      "outputs": [
        {
          "output_type": "execute_result",
          "data": {
            "text/plain": [
              "'9'"
            ],
            "application/vnd.google.colaboratory.intrinsic+json": {
              "type": "string"
            }
          },
          "metadata": {},
          "execution_count": 25
        }
      ]
    },
    {
      "cell_type": "markdown",
      "source": [
        "### Expressions and variables"
      ],
      "metadata": {
        "id": "Uk8Y2co-nn7p"
      }
    },
    {
      "cell_type": "markdown",
      "source": [
        "En Python una expresión se refiere a una combinación de operandos y operadores que tienen como finalidad producir un valor. Una variable, por otra parte, es un contenedor. Una expresión puede ser almacenada en una variable."
      ],
      "metadata": {
        "id": "P0tssLFroG4c"
      }
    },
    {
      "cell_type": "code",
      "source": [
        "#expresión en Python\n",
        "8 + 12 - 1"
      ],
      "metadata": {
        "colab": {
          "base_uri": "https://localhost:8080/"
        },
        "id": "CiHZTbmrd07l",
        "outputId": "36077f56-156c-4000-c1ba-dfcef3444745"
      },
      "execution_count": null,
      "outputs": [
        {
          "output_type": "execute_result",
          "data": {
            "text/plain": [
              "19"
            ]
          },
          "metadata": {},
          "execution_count": 26
        }
      ]
    },
    {
      "cell_type": "code",
      "source": [
        "#variable en Python\n",
        "x = 100"
      ],
      "metadata": {
        "id": "sQOvmq5Pd0_6"
      },
      "execution_count": null,
      "outputs": []
    },
    {
      "cell_type": "code",
      "source": [
        "#expresión almacenada en una variable\n",
        "x = 12 + 9 + 1 "
      ],
      "metadata": {
        "id": "iTAhccWVd1E2"
      },
      "execution_count": null,
      "outputs": []
    },
    {
      "cell_type": "code",
      "source": [
        "#nuevo valor de la variable x\n",
        "x"
      ],
      "metadata": {
        "colab": {
          "base_uri": "https://localhost:8080/"
        },
        "id": "w3t3KLDWd1JI",
        "outputId": "c2ee6be1-e7f1-4842-f672-0f4f5b0ee680"
      },
      "execution_count": null,
      "outputs": [
        {
          "output_type": "execute_result",
          "data": {
            "text/plain": [
              "22"
            ]
          },
          "metadata": {},
          "execution_count": 30
        }
      ]
    },
    {
      "cell_type": "code",
      "source": [
        "#se puede reasignar una variable a ella misma\n",
        "x = 1"
      ],
      "metadata": {
        "id": "OVn-wsfyd1Nx"
      },
      "execution_count": null,
      "outputs": []
    },
    {
      "cell_type": "code",
      "source": [
        "#lo que es equivalente a x = x + 1\n",
        "x += 1"
      ],
      "metadata": {
        "id": "a4KDHahYsa4n"
      },
      "execution_count": null,
      "outputs": []
    },
    {
      "cell_type": "code",
      "source": [
        "#por lo que el nuevo valor de la variable x es 2\n",
        "x"
      ],
      "metadata": {
        "colab": {
          "base_uri": "https://localhost:8080/"
        },
        "id": "MkgDk8Fhscdh",
        "outputId": "1d999307-af6e-41db-eb8d-e9934cefe7ca"
      },
      "execution_count": null,
      "outputs": [
        {
          "output_type": "execute_result",
          "data": {
            "text/plain": [
              "2"
            ]
          },
          "metadata": {},
          "execution_count": 36
        }
      ]
    },
    {
      "cell_type": "markdown",
      "source": [
        "### String operations"
      ],
      "metadata": {
        "id": "rsYyl3cmulQy"
      }
    },
    {
      "cell_type": "markdown",
      "source": [
        "*String* es un tipo de dato en Python, un *string* es un grupo de caracteres y se define entre comillas, por ejemplo: '18abc&#'. Podemos manipular un *string* por medio de métodos, un método en Python es una función que nos permite ejecutar una tarea."
      ],
      "metadata": {
        "id": "kMihZ31duuA2"
      }
    },
    {
      "cell_type": "code",
      "source": [
        "#definiendo una string a la variable x\n",
        "x = '12345abc#$&%'"
      ],
      "metadata": {
        "id": "oT7unlQUsteT"
      },
      "execution_count": null,
      "outputs": []
    },
    {
      "cell_type": "markdown",
      "source": [
        "A cada caracter de un *string* le corresponde un índice y los índices en Python comienzan en 0, es decir, al primer caracter de un *string* le corresponde el índice 0, al segundo el índice el 1, el último caracter lo podemos obtener con el índice -1."
      ],
      "metadata": {
        "id": "aP60bv9w1It8"
      }
    },
    {
      "cell_type": "code",
      "source": [
        "#primer y último caracter\n",
        "print(x[0])\n",
        "print(x[-1])"
      ],
      "metadata": {
        "colab": {
          "base_uri": "https://localhost:8080/"
        },
        "id": "q1IOGOboszPD",
        "outputId": "bd54705b-e511-443c-9b45-b8276cd35345"
      },
      "execution_count": null,
      "outputs": [
        {
          "output_type": "stream",
          "name": "stdout",
          "text": [
            "1\n",
            "%\n"
          ]
        }
      ]
    },
    {
      "cell_type": "code",
      "source": [
        "#se puede realizar un slide sobre un string\n",
        "x[:3]"
      ],
      "metadata": {
        "colab": {
          "base_uri": "https://localhost:8080/",
          "height": 36
        },
        "id": "KzrqHnXGszRV",
        "outputId": "c4c940ce-d4ad-4d02-9dfa-a352447fd47c"
      },
      "execution_count": null,
      "outputs": [
        {
          "output_type": "execute_result",
          "data": {
            "text/plain": [
              "'123'"
            ],
            "application/vnd.google.colaboratory.intrinsic+json": {
              "type": "string"
            }
          },
          "metadata": {},
          "execution_count": 39
        }
      ]
    },
    {
      "cell_type": "code",
      "source": [
        "#también un slide obteniendo los caracteres con índices pares\n",
        "x[::2]"
      ],
      "metadata": {
        "colab": {
          "base_uri": "https://localhost:8080/",
          "height": 36
        },
        "id": "11Q3_tpu2Xma",
        "outputId": "bf298b87-7b08-42bf-acb0-fe2f5f30b5b6"
      },
      "execution_count": null,
      "outputs": [
        {
          "output_type": "execute_result",
          "data": {
            "text/plain": [
              "'135b#&'"
            ],
            "application/vnd.google.colaboratory.intrinsic+json": {
              "type": "string"
            }
          },
          "metadata": {},
          "execution_count": 43
        }
      ]
    },
    {
      "cell_type": "code",
      "source": [
        "#también se puede aplicar algún método sobre el string\n",
        "#por ejemplo el método find el cual dará como resultado el índice del caracter buscado\n",
        "x.find('3')"
      ],
      "metadata": {
        "colab": {
          "base_uri": "https://localhost:8080/"
        },
        "id": "ExL44PLCszUO",
        "outputId": "1891ad6a-5dcb-457c-833f-e4553b35170d"
      },
      "execution_count": null,
      "outputs": [
        {
          "output_type": "execute_result",
          "data": {
            "text/plain": [
              "2"
            ]
          },
          "metadata": {},
          "execution_count": 42
        }
      ]
    },
    {
      "cell_type": "markdown",
      "source": [
        "### **Module 2**"
      ],
      "metadata": {
        "id": "m6_DfZsJ8DOP"
      }
    },
    {
      "cell_type": "markdown",
      "source": [
        "### Lists and tuples"
      ],
      "metadata": {
        "id": "99K08XI08PgK"
      }
    },
    {
      "cell_type": "markdown",
      "source": [
        "Las *lists* y *tuples* en Python son estructuras de datos, las cuales nos permite almacenar datos en forma secuencial. Las *lists* son *mutable*, es decir, que pueden cambiar, y se definen con los símbolos **\"[\" y \"]\"**. Las *tuple* son *immutable*, es decir, que no se puede cambiar, y se definen con los símbolos **\"(\" y \")\"**. En ambos casos a cada elemento dentro de ellas se le llama *item* y a cada uno le corresponde un índice como en el caso de los *string*."
      ],
      "metadata": {
        "id": "3x036ZRlHXQY"
      }
    },
    {
      "cell_type": "code",
      "source": [
        "#podemos definir una list y un tuple\n",
        "x = [1, 2 , 3, 4, 5]\n",
        "y = (6, 7 , 8, 9, 10, 11)"
      ],
      "metadata": {
        "id": "80zMt9GJszXD"
      },
      "execution_count": null,
      "outputs": []
    },
    {
      "cell_type": "code",
      "source": [
        "#en ambos casos podemos obtener su longitud por medio de la función len()\n",
        "print('longitud de la lista x: ', len(x))\n",
        "print('longitud de la lista y: ', len(y))"
      ],
      "metadata": {
        "colab": {
          "base_uri": "https://localhost:8080/"
        },
        "id": "dFZTmd9MszZ7",
        "outputId": "6d2fa9ed-44bc-42c7-efc5-4bdcae4b1748"
      },
      "execution_count": null,
      "outputs": [
        {
          "output_type": "stream",
          "name": "stdout",
          "text": [
            "longitud de la lista x:  5\n",
            "longitud de la lista y:  6\n"
          ]
        }
      ]
    },
    {
      "cell_type": "code",
      "source": [
        "#al igual que en el caso que con un string podemos aplicar un slide sobre las list o tuple\n",
        "print(x[:2])\n",
        "print(y[:4])"
      ],
      "metadata": {
        "colab": {
          "base_uri": "https://localhost:8080/"
        },
        "id": "E79_kvzUszct",
        "outputId": "968f65b1-8c83-44a8-98ea-1d280ae00b15"
      },
      "execution_count": null,
      "outputs": [
        {
          "output_type": "stream",
          "name": "stdout",
          "text": [
            "[1, 2]\n",
            "(6, 7, 8, 9)\n"
          ]
        }
      ]
    },
    {
      "cell_type": "code",
      "source": [
        "#también podemos concatenar dos lists o dos tuples\n",
        "w = [15, 16]\n",
        "z = x + w\n",
        "print(z)"
      ],
      "metadata": {
        "colab": {
          "base_uri": "https://localhost:8080/"
        },
        "id": "pMfoPAYlszfk",
        "outputId": "cc936ab0-701a-4544-f49f-d26173a1c75d"
      },
      "execution_count": null,
      "outputs": [
        {
          "output_type": "stream",
          "name": "stdout",
          "text": [
            "[1, 2, 3, 4, 5, 15, 16]\n"
          ]
        }
      ]
    },
    {
      "cell_type": "code",
      "source": [
        "#por otra parte a un string lo podemos convertir en una lista con el método split()\n",
        "a = '1 2 3 4 5 6'\n",
        "print(a.split(' '))"
      ],
      "metadata": {
        "colab": {
          "base_uri": "https://localhost:8080/"
        },
        "id": "9tjUC1EgsziX",
        "outputId": "2e695cea-026a-4938-ca3f-e472f6cdac68"
      },
      "execution_count": null,
      "outputs": [
        {
          "output_type": "stream",
          "name": "stdout",
          "text": [
            "['1', '2', '3', '4', '5', '6']\n"
          ]
        }
      ]
    },
    {
      "cell_type": "markdown",
      "source": [
        "### Sets"
      ],
      "metadata": {
        "id": "vm3PxvhTRPSu"
      }
    },
    {
      "cell_type": "markdown",
      "source": [
        "Los *sets* en Python tienen características similares a las que tiene un conjunto en teoría de conjuntos, no se repiten objetos y se pueden aplicar operaciones como unión e intersección. Se definen con los símbolos **'{' y '}'**."
      ],
      "metadata": {
        "id": "OFQJ03XYRTti"
      }
    },
    {
      "cell_type": "code",
      "source": [
        "#no se repiten objetos en un set\n",
        "A = {1, 2, 3, 1}\n",
        "print(A)"
      ],
      "metadata": {
        "colab": {
          "base_uri": "https://localhost:8080/"
        },
        "id": "5TlLMLwMszlJ",
        "outputId": "cabeaaa2-0816-4aaf-8368-6eae4652b038"
      },
      "execution_count": null,
      "outputs": [
        {
          "output_type": "stream",
          "name": "stdout",
          "text": [
            "{1, 2, 3}\n"
          ]
        }
      ]
    },
    {
      "cell_type": "code",
      "source": [
        "#se puede usar la operación intersección\n",
        "A = {1, 2, 3, 4}\n",
        "B = {4, 5, 6, 7}\n",
        "print(A & B)"
      ],
      "metadata": {
        "colab": {
          "base_uri": "https://localhost:8080/"
        },
        "id": "lReuFsK5R5xh",
        "outputId": "8ef3590c-c75b-41f5-86d1-44c56be70a56"
      },
      "execution_count": null,
      "outputs": [
        {
          "output_type": "stream",
          "name": "stdout",
          "text": [
            "{4}\n"
          ]
        }
      ]
    },
    {
      "cell_type": "code",
      "source": [
        "#también la unión\n",
        "print(A | B)"
      ],
      "metadata": {
        "colab": {
          "base_uri": "https://localhost:8080/"
        },
        "id": "ja83QN3AR50-",
        "outputId": "42f88d02-25c5-4aed-8ef0-33fd295a2f38"
      },
      "execution_count": null,
      "outputs": [
        {
          "output_type": "stream",
          "name": "stdout",
          "text": [
            "{1, 2, 3, 4, 5, 6, 7}\n"
          ]
        }
      ]
    },
    {
      "cell_type": "code",
      "source": [
        "#se puede añadir un elemento a un conjunto, si el elemento ya existe no se muestra\n",
        "A.add(5)\n",
        "print(A)"
      ],
      "metadata": {
        "colab": {
          "base_uri": "https://localhost:8080/"
        },
        "id": "3Fp_NnNsR552",
        "outputId": "a3ccf7ca-ad15-4f2f-ab27-5a386174787e"
      },
      "execution_count": null,
      "outputs": [
        {
          "output_type": "stream",
          "name": "stdout",
          "text": [
            "{1, 2, 3, 4, 5}\n"
          ]
        }
      ]
    },
    {
      "cell_type": "markdown",
      "source": [
        "### Dictionaries"
      ],
      "metadata": {
        "id": "SiLmHUE2r2fX"
      }
    },
    {
      "cell_type": "markdown",
      "source": [
        "Los diccionarios en Python se componen por *keys* y *values*, estos últimos pueden ser *data types* o *data structures*. Se definen con los símbolos **'{'** y **'}'**. Las *keys* son equivalentes a los índices de las *lists* o *tuples*.   "
      ],
      "metadata": {
        "id": "lg1s8w4hr8Kr"
      }
    },
    {
      "cell_type": "code",
      "source": [
        "A = {'w': 1, 'x': 2, 'y': 3, 'z': 4}\n",
        "B = {'a': [1, 2], 'b': [3, 4], 'c': [5, 6], 'd': [7, 8]}"
      ],
      "metadata": {
        "id": "mCWqbEbRR6BJ"
      },
      "execution_count": null,
      "outputs": []
    },
    {
      "cell_type": "code",
      "source": [
        "#se puede usar una key para encontrar un valor en un diccionario\n",
        "print(A['x'])\n",
        "print(B['a'])"
      ],
      "metadata": {
        "id": "RSaw3KzbR6FC",
        "colab": {
          "base_uri": "https://localhost:8080/"
        },
        "outputId": "d7911ab8-dd13-4e65-8f1a-d3a7c4e63692"
      },
      "execution_count": null,
      "outputs": [
        {
          "output_type": "stream",
          "name": "stdout",
          "text": [
            "2\n",
            "[1, 2]\n"
          ]
        }
      ]
    },
    {
      "cell_type": "markdown",
      "source": [
        "### **Module 3**"
      ],
      "metadata": {
        "id": "JqDtbSju0Ppx"
      }
    },
    {
      "cell_type": "markdown",
      "source": [
        "### Conditions and Branching"
      ],
      "metadata": {
        "id": "eyjIqtA3hvDE"
      }
    },
    {
      "cell_type": "markdown",
      "source": [
        "Se puede hacer una comparación entre dos expresiones, ya sea que esté almacenada en una variable o bien sea un valor. Con ello podemos comprobar si la comparación se cumple o no, obteniendo como resultado una variable booleana."
      ],
      "metadata": {
        "id": "0C5bKXmqncLG"
      }
    },
    {
      "cell_type": "code",
      "source": [
        "#por ejemplo al definir x igual a 1 y compararla con el valor 0 obtenemos: False\n",
        "x = 1\n",
        "x == 0"
      ],
      "metadata": {
        "id": "13oTP8fwR6Iw",
        "colab": {
          "base_uri": "https://localhost:8080/"
        },
        "outputId": "12a7c9a4-c766-4718-aca5-4d568b214d1f"
      },
      "execution_count": 1,
      "outputs": [
        {
          "output_type": "execute_result",
          "data": {
            "text/plain": [
              "False"
            ]
          },
          "metadata": {},
          "execution_count": 1
        }
      ]
    },
    {
      "cell_type": "code",
      "source": [
        "#comparar las variables \"w\" y \"x\"\n",
        "w = 0\n",
        "x = 1\n",
        "#dado que 1 es mayor a 0 la condición se cumple y obtenemos: True\n",
        "x > w"
      ],
      "metadata": {
        "id": "Dxq6GlBER6L0",
        "colab": {
          "base_uri": "https://localhost:8080/"
        },
        "outputId": "483acfe9-47c5-4383-aeb5-80813659acf0"
      },
      "execution_count": 2,
      "outputs": [
        {
          "output_type": "execute_result",
          "data": {
            "text/plain": [
              "True"
            ]
          },
          "metadata": {},
          "execution_count": 2
        }
      ]
    },
    {
      "cell_type": "code",
      "source": [
        "#también se puede verificar la condición que dos expresiones sean distintas\n",
        "w = 100\n",
        "x = -1\n",
        "w != x"
      ],
      "metadata": {
        "id": "6dEZI0eqszor",
        "colab": {
          "base_uri": "https://localhost:8080/"
        },
        "outputId": "7aa77e91-53f1-4a0e-c982-390b0268c988"
      },
      "execution_count": 3,
      "outputs": [
        {
          "output_type": "execute_result",
          "data": {
            "text/plain": [
              "True"
            ]
          },
          "metadata": {},
          "execution_count": 3
        }
      ]
    },
    {
      "cell_type": "markdown",
      "source": [
        "Una forma de crear un flujo en un código es por medio de un if-else statement. Con el que podemos ir comparando expresiones."
      ],
      "metadata": {
        "id": "_eLJDlGTsYh3"
      }
    },
    {
      "cell_type": "code",
      "source": [
        "x = 4.2\n",
        "\n",
        "if x > 10:\n",
        "  print(\"este valor es mayor a 10\")\n",
        "else:\n",
        "  print(\"este valor es menor o igual a 10\")"
      ],
      "metadata": {
        "id": "VF-c8AKBszrq",
        "colab": {
          "base_uri": "https://localhost:8080/"
        },
        "outputId": "53f28d12-caa7-49a1-e8e3-ad397dc3c55c"
      },
      "execution_count": 4,
      "outputs": [
        {
          "output_type": "stream",
          "name": "stdout",
          "text": [
            "este valor es menor o igual a 10\n"
          ]
        }
      ]
    },
    {
      "cell_type": "code",
      "source": [
        "#también se pueden revisar multiples condiciones con la keyword elif\n",
        "x = -2\n",
        "\n",
        "if x < 0:\n",
        "  print('x es número negativo')\n",
        "elif x == 0:\n",
        "  print('x es igual a cero')\n",
        "else:\n",
        "  print('x es número positivo')"
      ],
      "metadata": {
        "colab": {
          "base_uri": "https://localhost:8080/"
        },
        "id": "QZKEUh8lt6zb",
        "outputId": "eed224a8-7bf7-43b1-dab2-9490b1037782"
      },
      "execution_count": 5,
      "outputs": [
        {
          "output_type": "stream",
          "name": "stdout",
          "text": [
            "x es número negativo\n"
          ]
        }
      ]
    },
    {
      "cell_type": "markdown",
      "source": [
        "![image.png](data:image/png;base64,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)"
      ],
      "metadata": {
        "id": "H_cb75hn1VdU"
      }
    },
    {
      "cell_type": "markdown",
      "source": [
        "### Loops"
      ],
      "metadata": {
        "id": "hB5PNHJl1jnX"
      }
    },
    {
      "cell_type": "code",
      "source": [],
      "metadata": {
        "id": "zDAqc3WW00lv"
      },
      "execution_count": null,
      "outputs": []
    }
  ]
}
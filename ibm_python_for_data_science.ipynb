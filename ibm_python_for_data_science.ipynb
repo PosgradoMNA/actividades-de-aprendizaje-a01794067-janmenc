{
  "nbformat": 4,
  "nbformat_minor": 0,
  "metadata": {
    "colab": {
      "provenance": [],
      "collapsed_sections": [],
      "authorship_tag": "ABX9TyOgylWtbYwo73wrwBZxfyDA",
      "include_colab_link": true
    },
    "kernelspec": {
      "name": "python3",
      "display_name": "Python 3"
    },
    "language_info": {
      "name": "python"
    }
  },
  "cells": [
    {
      "cell_type": "markdown",
      "metadata": {
        "id": "view-in-github",
        "colab_type": "text"
      },
      "source": [
        "<a href=\"https://colab.research.google.com/github/PosgradoMNA/actividades-de-aprendizaje-janmenc/blob/main/ibm_python_for_data_science.ipynb\" target=\"_parent\"><img src=\"https://colab.research.google.com/assets/colab-badge.svg\" alt=\"Open In Colab\"/></a>"
      ]
    },
    {
      "cell_type": "markdown",
      "source": [
        "# **Python for Data Science**\n",
        "\n",
        "### **IBM: PY0101EN**"
      ],
      "metadata": {
        "id": "a6oXvNU5CxKe"
      }
    },
    {
      "cell_type": "markdown",
      "source": [
        "Python es un lenguaje de programación usado para ciencia e ingeniería de datos así como para Inteleigencia Artificial. También, se ha convertido en un lenguaje muy usado sobre otros lenguajes como Java y C++.\n",
        "Las principales estructuras de datos en Python son *lists*, *tuples*, *sets* y *dictionaries*."
      ],
      "metadata": {
        "id": "IOMl45m_T8cz"
      }
    },
    {
      "cell_type": "markdown",
      "source": [
        "### Introduction"
      ],
      "metadata": {
        "id": "I5b19HH8dGWz"
      }
    },
    {
      "cell_type": "code",
      "source": [
        "#first program\n",
        "print(\"Hello World!\")"
      ],
      "metadata": {
        "colab": {
          "base_uri": "https://localhost:8080/"
        },
        "id": "NYwS-WdvSwLM",
        "outputId": "68207e32-c5c8-4d0c-a922-6c85a358270f"
      },
      "execution_count": 21,
      "outputs": [
        {
          "output_type": "stream",
          "name": "stdout",
          "text": [
            "Hello World!\n"
          ]
        }
      ]
    },
    {
      "cell_type": "markdown",
      "source": [
        "### Data types"
      ],
      "metadata": {
        "id": "xrh_FsagdN7q"
      }
    },
    {
      "cell_type": "markdown",
      "source": [
        "Los principales tipos de datos en Python son: *int*, *float*, *string* y *boolean*. Adicional, podemos hacer *cast* (convertir) de un tipo de variable a otro."
      ],
      "metadata": {
        "id": "vD9PzRgieCEP"
      }
    },
    {
      "cell_type": "code",
      "source": [
        "print(\"entero: \", type(3))\n",
        "print(\"float: \", type(1.1))\n",
        "print(\"string: \", type(\"Hello\"))"
      ],
      "metadata": {
        "colab": {
          "base_uri": "https://localhost:8080/"
        },
        "id": "G2aoRZvASwNn",
        "outputId": "42e64c2e-0cae-44ba-fc7a-7437a3541774"
      },
      "execution_count": 23,
      "outputs": [
        {
          "output_type": "stream",
          "name": "stdout",
          "text": [
            "entero:  <class 'int'>\n",
            "float:  <class 'float'>\n",
            "string:  <class 'str'>\n"
          ]
        }
      ]
    },
    {
      "cell_type": "code",
      "source": [
        "#cast de int a boolean\n",
        "bool(1) "
      ],
      "metadata": {
        "colab": {
          "base_uri": "https://localhost:8080/"
        },
        "id": "ODA2iJG4d0um",
        "outputId": "6f754770-8627-4d6a-c653-9223d25a23ee"
      },
      "execution_count": 24,
      "outputs": [
        {
          "output_type": "execute_result",
          "data": {
            "text/plain": [
              "True"
            ]
          },
          "metadata": {},
          "execution_count": 24
        }
      ]
    },
    {
      "cell_type": "code",
      "source": [
        "#cast de int a string\n",
        "str(9)"
      ],
      "metadata": {
        "colab": {
          "base_uri": "https://localhost:8080/",
          "height": 36
        },
        "id": "-CrbL3OAd0yh",
        "outputId": "b6469557-d0ad-4f2e-9fa7-9b7356213b6d"
      },
      "execution_count": 25,
      "outputs": [
        {
          "output_type": "execute_result",
          "data": {
            "text/plain": [
              "'9'"
            ],
            "application/vnd.google.colaboratory.intrinsic+json": {
              "type": "string"
            }
          },
          "metadata": {},
          "execution_count": 25
        }
      ]
    },
    {
      "cell_type": "markdown",
      "source": [
        "### Expressions and variables"
      ],
      "metadata": {
        "id": "Uk8Y2co-nn7p"
      }
    },
    {
      "cell_type": "markdown",
      "source": [
        "En Python una expresión se refiere a una combinación de operandos y operadores que tienen como finalidad producir un valor. Una variable, por otra parte, es un contenedor. Una expresión puede ser almacenada en una variable."
      ],
      "metadata": {
        "id": "P0tssLFroG4c"
      }
    },
    {
      "cell_type": "code",
      "source": [],
      "metadata": {
        "id": "CiHZTbmrd07l"
      },
      "execution_count": null,
      "outputs": []
    },
    {
      "cell_type": "code",
      "source": [],
      "metadata": {
        "id": "sQOvmq5Pd0_6"
      },
      "execution_count": null,
      "outputs": []
    },
    {
      "cell_type": "code",
      "source": [],
      "metadata": {
        "id": "iTAhccWVd1E2"
      },
      "execution_count": null,
      "outputs": []
    },
    {
      "cell_type": "code",
      "source": [],
      "metadata": {
        "id": "w3t3KLDWd1JI"
      },
      "execution_count": null,
      "outputs": []
    },
    {
      "cell_type": "code",
      "source": [],
      "metadata": {
        "id": "OVn-wsfyd1Nx"
      },
      "execution_count": null,
      "outputs": []
    }
  ]
}
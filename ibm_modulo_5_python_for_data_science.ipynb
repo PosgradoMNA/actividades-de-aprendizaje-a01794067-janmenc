{
  "nbformat": 4,
  "nbformat_minor": 0,
  "metadata": {
    "colab": {
      "provenance": [],
      "authorship_tag": "ABX9TyNB7wcLqoXPCHVe1xjy9VI9",
      "include_colab_link": true
    },
    "kernelspec": {
      "name": "python3",
      "display_name": "Python 3"
    },
    "language_info": {
      "name": "python"
    }
  },
  "cells": [
    {
      "cell_type": "markdown",
      "metadata": {
        "id": "view-in-github",
        "colab_type": "text"
      },
      "source": [
        "<a href=\"https://colab.research.google.com/github/PosgradoMNA/actividades-de-aprendizaje-a01794067-janmenc/blob/main/ibm_modulo_5_python_for_data_science.ipynb\" target=\"_parent\"><img src=\"https://colab.research.google.com/assets/colab-badge.svg\" alt=\"Open In Colab\"/></a>"
      ]
    },
    {
      "cell_type": "markdown",
      "source": [
        "## **José Antonio Mendoza Castro - A01794067**\n",
        "\n",
        "## **Notas *Python for Data Science* - Módulo 5**\n",
        "\n",
        "### ***Working with Numpy Arrays & Simple APIs***"
      ],
      "metadata": {
        "id": "VSc2F6fz6ige"
      }
    },
    {
      "cell_type": "markdown",
      "source": [
        "### ***Numpy 1D Arrays***"
      ],
      "metadata": {
        "id": "L8iSJkDE7d95"
      }
    },
    {
      "cell_type": "code",
      "source": [
        "#numpy es una librería que nos permite trabajar con datos en Python\n",
        "import numpy as np"
      ],
      "metadata": {
        "id": "l-KyykH96jrB"
      },
      "execution_count": 1,
      "outputs": []
    },
    {
      "cell_type": "code",
      "source": [
        "#un 'numpy array' es un objeto que contiene valores del mismo tipo, puede tener una o múltiples dimensiones\n",
        "#podemos crear un 'array' desde una lista\n",
        "lst_a = [1, 2, 3, 4]\n",
        "a = np.array(lst_a)\n",
        "a"
      ],
      "metadata": {
        "colab": {
          "base_uri": "https://localhost:8080/"
        },
        "id": "7HCZS0To8Ote",
        "outputId": "2c865055-dfd3-4935-ffc1-fe386a7cd75e"
      },
      "execution_count": 2,
      "outputs": [
        {
          "output_type": "execute_result",
          "data": {
            "text/plain": [
              "array([1, 2, 3, 4])"
            ]
          },
          "metadata": {},
          "execution_count": 2
        }
      ]
    },
    {
      "cell_type": "code",
      "source": [
        "#podemos corroborar el tipo de datos en el 'array' con el método '.dtype'\n",
        "a.dtype"
      ],
      "metadata": {
        "colab": {
          "base_uri": "https://localhost:8080/"
        },
        "id": "bm4ccKGj9uX8",
        "outputId": "df77c4b3-0f13-4efd-9c67-72c50baf0be0"
      },
      "execution_count": 3,
      "outputs": [
        {
          "output_type": "execute_result",
          "data": {
            "text/plain": [
              "dtype('int64')"
            ]
          },
          "metadata": {},
          "execution_count": 3
        }
      ]
    },
    {
      "cell_type": "code",
      "source": [
        "#también podemos ocupar el método '.size' para conocer el número de elementos en el 'array'\n",
        "a.size"
      ],
      "metadata": {
        "colab": {
          "base_uri": "https://localhost:8080/"
        },
        "id": "a7tnUxpU-HNj",
        "outputId": "aee3d519-6b40-45af-9db4-713dbf37a954"
      },
      "execution_count": 4,
      "outputs": [
        {
          "output_type": "execute_result",
          "data": {
            "text/plain": [
              "4"
            ]
          },
          "metadata": {},
          "execution_count": 4
        }
      ]
    },
    {
      "cell_type": "code",
      "source": [
        "#también podemos conocer el número de dimensiones con el método '.ndim', en este caso es un arreglo de una sola dimensión\n",
        "a.ndim"
      ],
      "metadata": {
        "colab": {
          "base_uri": "https://localhost:8080/"
        },
        "id": "iF_ZQcJf-QEM",
        "outputId": "3df2d03e-51a1-4e4e-8ae0-b9741f47b334"
      },
      "execution_count": 5,
      "outputs": [
        {
          "output_type": "execute_result",
          "data": {
            "text/plain": [
              "1"
            ]
          },
          "metadata": {},
          "execution_count": 5
        }
      ]
    },
    {
      "cell_type": "code",
      "source": [
        "#con el método '.shape' se puede obtener el número de elemetos al igual que con '.ndim'\n",
        "a.shape"
      ],
      "metadata": {
        "colab": {
          "base_uri": "https://localhost:8080/"
        },
        "id": "ikePKuw0DWhE",
        "outputId": "6daf003a-a4e1-43c7-e621-3c6f354f31f0"
      },
      "execution_count": 6,
      "outputs": [
        {
          "output_type": "execute_result",
          "data": {
            "text/plain": [
              "(4,)"
            ]
          },
          "metadata": {},
          "execution_count": 6
        }
      ]
    },
    {
      "cell_type": "code",
      "source": [
        "#al igual que las 'lists' y 'tuples' podemos obtener un elemento a través de su índice\n",
        "#por ejemplo el elemento con el índice 0\n",
        "a[0] "
      ],
      "metadata": {
        "colab": {
          "base_uri": "https://localhost:8080/"
        },
        "id": "7ZmkJqmvDxa7",
        "outputId": "40ea8c60-2d63-4dc6-a5b5-3acb3acd21ae"
      },
      "execution_count": 7,
      "outputs": [
        {
          "output_type": "execute_result",
          "data": {
            "text/plain": [
              "1"
            ]
          },
          "metadata": {},
          "execution_count": 7
        }
      ]
    },
    {
      "cell_type": "code",
      "source": [
        "#también se puede realizar un 'slice'\n",
        "a[:2]"
      ],
      "metadata": {
        "colab": {
          "base_uri": "https://localhost:8080/"
        },
        "id": "ZN1qU2vFEiOQ",
        "outputId": "d807b68b-e95a-4c4c-9954-27b5dc393ade"
      },
      "execution_count": 8,
      "outputs": [
        {
          "output_type": "execute_result",
          "data": {
            "text/plain": [
              "array([1, 2])"
            ]
          },
          "metadata": {},
          "execution_count": 8
        }
      ]
    },
    {
      "cell_type": "code",
      "source": [
        "#dada las características de un 'array' se puede realizar una suma de vectorial entre dos 'arrays'\n",
        "x = np.array([1, 0])\n",
        "y = np.array([0, 1])\n",
        "z = x + y\n",
        "z "
      ],
      "metadata": {
        "colab": {
          "base_uri": "https://localhost:8080/"
        },
        "id": "VmRQO_sKEiQq",
        "outputId": "d1ad1b86-b820-4231-8341-465c1db5a752"
      },
      "execution_count": 9,
      "outputs": [
        {
          "output_type": "execute_result",
          "data": {
            "text/plain": [
              "array([1, 1])"
            ]
          },
          "metadata": {},
          "execution_count": 9
        }
      ]
    },
    {
      "cell_type": "code",
      "source": [
        "#otra operación vectorial que se puede hacer es el producto de un escalar por un vector\n",
        "2*x"
      ],
      "metadata": {
        "colab": {
          "base_uri": "https://localhost:8080/"
        },
        "id": "IWtpk9ieEiT-",
        "outputId": "883125a1-1df4-417d-d7bb-162f23a95486"
      },
      "execution_count": 10,
      "outputs": [
        {
          "output_type": "execute_result",
          "data": {
            "text/plain": [
              "array([2, 0])"
            ]
          },
          "metadata": {},
          "execution_count": 10
        }
      ]
    },
    {
      "cell_type": "code",
      "source": [
        "#también se puede realizar el 'hadamard product'\n",
        "x*y"
      ],
      "metadata": {
        "colab": {
          "base_uri": "https://localhost:8080/"
        },
        "id": "dVR5XELoEiXH",
        "outputId": "99a4e371-0733-4a47-dab9-972915e3960a"
      },
      "execution_count": 11,
      "outputs": [
        {
          "output_type": "execute_result",
          "data": {
            "text/plain": [
              "array([0, 0])"
            ]
          },
          "metadata": {},
          "execution_count": 11
        }
      ]
    },
    {
      "cell_type": "code",
      "source": [
        "#otra operación que se puede realizar es el 'dot product'\n",
        "a = np.array([1, 2])\n",
        "b = np.array([1, 1])\n",
        "c = np.dot(a, b)\n",
        "c"
      ],
      "metadata": {
        "colab": {
          "base_uri": "https://localhost:8080/"
        },
        "id": "Vh6Ps2iiEiaJ",
        "outputId": "a4ab7aac-2618-40ba-bf8e-da5bc308d1e1"
      },
      "execution_count": 12,
      "outputs": [
        {
          "output_type": "execute_result",
          "data": {
            "text/plain": [
              "3"
            ]
          },
          "metadata": {},
          "execution_count": 12
        }
      ]
    },
    {
      "cell_type": "code",
      "source": [
        "#algunos métodos comunes aplicables a un array son '.sum()', '.min()', '.mean()' y '.max()'\n",
        "x = np.array([1, 2, 3])\n",
        "print('suma: ', x.sum())\n",
        "print('mínimo: ', x.min())\n",
        "print('promedio: ', x.mean())\n",
        "print('máximo', x.max())"
      ],
      "metadata": {
        "colab": {
          "base_uri": "https://localhost:8080/"
        },
        "id": "eLcI-sN5Qoug",
        "outputId": "0dddea4a-58b6-46f6-aca3-3de98e4ab2c4"
      },
      "execution_count": 13,
      "outputs": [
        {
          "output_type": "stream",
          "name": "stdout",
          "text": [
            "suma:  6\n",
            "mínimo:  1\n",
            "promedio:  2.0\n",
            "máximo 3\n"
          ]
        }
      ]
    },
    {
      "cell_type": "code",
      "source": [
        "#también se pueden trabajar con algunas constantes importantes en numpy, como pi\n",
        "np.pi"
      ],
      "metadata": {
        "colab": {
          "base_uri": "https://localhost:8080/"
        },
        "id": "KH8Bfa_YQoxI",
        "outputId": "87596d18-2590-4fd4-fc82-cc404b58980b"
      },
      "execution_count": 14,
      "outputs": [
        {
          "output_type": "execute_result",
          "data": {
            "text/plain": [
              "3.141592653589793"
            ]
          },
          "metadata": {},
          "execution_count": 14
        }
      ]
    },
    {
      "cell_type": "code",
      "source": [
        "from ast import increment_lineno\n",
        "#la función linspace permite generar secuencias a partir de un intervalo determinado\n",
        "x = np.linspace(0, 2*np.pi, 100)\n",
        "\n",
        "#a su vez esta secuencia de valores se puede aplicar en la función seno utilizando el método '.sin()'\n",
        "y = np.sin(x)\n",
        "\n",
        "import matplotlib.pyplot as plt\n",
        "%matplotlib inline\n",
        "\n",
        "plt.plot(x, y)"
      ],
      "metadata": {
        "colab": {
          "base_uri": "https://localhost:8080/",
          "height": 282
        },
        "id": "dHEiECt0Qoz9",
        "outputId": "4f61e483-76a6-4bf8-f115-3b3488baca7a"
      },
      "execution_count": 15,
      "outputs": [
        {
          "output_type": "execute_result",
          "data": {
            "text/plain": [
              "[<matplotlib.lines.Line2D at 0x7fcbc0676b50>]"
            ]
          },
          "metadata": {},
          "execution_count": 15
        },
        {
          "output_type": "display_data",
          "data": {
            "text/plain": [
              "<Figure size 432x288 with 1 Axes>"
            ],
            "image/png": "[encoded data removed]"
          },
          "metadata": {
            "needs_background": "light"
          }
        }
      ]
    },
    {
      "cell_type": "markdown",
      "source": [
        "### Lab - Working with 1D Numpy Arrays "
      ],
      "metadata": {
        "id": "K060evvbZHOc"
      }
    },
    {
      "cell_type": "code",
      "source": [
        "#Cast the following list to a numpy array:\n",
        "a = [1,2,3,4,5]\n",
        "x = np.array(a)"
      ],
      "metadata": {
        "id": "ZtalZOLzQo25"
      },
      "execution_count": 16,
      "outputs": []
    },
    {
      "cell_type": "code",
      "source": [
        "#1.  Find the type of `x` using the function `type()`.\n",
        "type(x)"
      ],
      "metadata": {
        "colab": {
          "base_uri": "https://localhost:8080/"
        },
        "id": "Z-wsucFvQo5_",
        "outputId": "3f0b2c5a-7b4a-4c81-d1b7-aea1a762c649"
      },
      "execution_count": 17,
      "outputs": [
        {
          "output_type": "execute_result",
          "data": {
            "text/plain": [
              "numpy.ndarray"
            ]
          },
          "metadata": {},
          "execution_count": 17
        }
      ]
    },
    {
      "cell_type": "code",
      "source": [
        "#2.  Find the shape of the array:\n",
        "x.shape"
      ],
      "metadata": {
        "colab": {
          "base_uri": "https://localhost:8080/"
        },
        "id": "PsC4lncfQo8q",
        "outputId": "a3168139-a6f5-4b28-d63b-7992808673b4"
      },
      "execution_count": 18,
      "outputs": [
        {
          "output_type": "execute_result",
          "data": {
            "text/plain": [
              "(5,)"
            ]
          },
          "metadata": {},
          "execution_count": 18
        }
      ]
    },
    {
      "cell_type": "code",
      "source": [
        "x.dtype"
      ],
      "metadata": {
        "colab": {
          "base_uri": "https://localhost:8080/"
        },
        "id": "QFezc2-PQpAU",
        "outputId": "b36c0859-17ca-48bb-defd-5c366906201d"
      },
      "execution_count": 19,
      "outputs": [
        {
          "output_type": "execute_result",
          "data": {
            "text/plain": [
              "dtype('int64')"
            ]
          },
          "metadata": {},
          "execution_count": 19
        }
      ]
    },
    {
      "cell_type": "code",
      "source": [
        "x.mean()"
      ],
      "metadata": {
        "colab": {
          "base_uri": "https://localhost:8080/"
        },
        "id": "VwOBWHoIEidT",
        "outputId": "b9835e81-067f-4298-b400-ae7dde6ba550"
      },
      "execution_count": 20,
      "outputs": [
        {
          "output_type": "execute_result",
          "data": {
            "text/plain": [
              "3.0"
            ]
          },
          "metadata": {},
          "execution_count": 20
        }
      ]
    },
    {
      "cell_type": "markdown",
      "source": [
        "### ***Numpy 2D Arrays***"
      ],
      "metadata": {
        "id": "kDQbxwzmdldK"
      }
    },
    {
      "cell_type": "code",
      "source": [
        "#en numpy podemos definir 'arrays' de dos dimensiones\n",
        "x = np.array([[1, 2], [7, 8], [11, 13]])\n",
        "x"
      ],
      "metadata": {
        "id": "_Rn4YCciEigg",
        "colab": {
          "base_uri": "https://localhost:8080/"
        },
        "outputId": "36843f75-f830-4563-d3e0-ef374306d933"
      },
      "execution_count": 21,
      "outputs": [
        {
          "output_type": "execute_result",
          "data": {
            "text/plain": [
              "array([[ 1,  2],\n",
              "       [ 7,  8],\n",
              "       [11, 13]])"
            ]
          },
          "metadata": {},
          "execution_count": 21
        }
      ]
    },
    {
      "cell_type": "code",
      "source": [
        "#el número de dimensiones se puede determinar por el número de anidaciones de un 'array' en otro\n",
        "x.ndim"
      ],
      "metadata": {
        "id": "1dAixlGfEikG",
        "colab": {
          "base_uri": "https://localhost:8080/"
        },
        "outputId": "c31fcd4b-b70e-421d-d793-f698c76bf301"
      },
      "execution_count": 22,
      "outputs": [
        {
          "output_type": "execute_result",
          "data": {
            "text/plain": [
              "2"
            ]
          },
          "metadata": {},
          "execution_count": 22
        }
      ]
    },
    {
      "cell_type": "code",
      "source": [
        "#el método 'shape' lo que nos indica en este caso es que tenemos 3 'arrays' en otro 'array' y cada uno de ellos tiene dos valores\n",
        "x.shape"
      ],
      "metadata": {
        "colab": {
          "base_uri": "https://localhost:8080/"
        },
        "id": "JYrx7b92OuJD",
        "outputId": "ee9022a8-7c6d-4e1d-9279-5acbba4a767c"
      },
      "execution_count": 23,
      "outputs": [
        {
          "output_type": "execute_result",
          "data": {
            "text/plain": [
              "(3, 2)"
            ]
          },
          "metadata": {},
          "execution_count": 23
        }
      ]
    },
    {
      "cell_type": "code",
      "source": [
        "#en este caso el método size nos da el número de valores en el 'array'\n",
        "x.size"
      ],
      "metadata": {
        "colab": {
          "base_uri": "https://localhost:8080/"
        },
        "id": "6dmtRZBbP6g5",
        "outputId": "b16160c6-61bf-439b-8fa5-3a49c7d6b182"
      },
      "execution_count": 24,
      "outputs": [
        {
          "output_type": "execute_result",
          "data": {
            "text/plain": [
              "6"
            ]
          },
          "metadata": {},
          "execution_count": 24
        }
      ]
    },
    {
      "cell_type": "code",
      "source": [
        "#de igual forma que en el caso de los 'array' de una dimensión podemos obtener el valor con respecto a su posición\n",
        "print('matriz: \\n')\n",
        "print(x)\n",
        "print('\\n')\n",
        "print('valor ve la primera fila y de la primera columna: \\n')\n",
        "x[0][0]"
      ],
      "metadata": {
        "colab": {
          "base_uri": "https://localhost:8080/"
        },
        "id": "uKHT92qoRNho",
        "outputId": "d82cdde4-b9c7-4d40-f52b-746c12163483"
      },
      "execution_count": 25,
      "outputs": [
        {
          "output_type": "stream",
          "name": "stdout",
          "text": [
            "matriz: \n",
            "\n",
            "[[ 1  2]\n",
            " [ 7  8]\n",
            " [11 13]]\n",
            "\n",
            "\n",
            "valor ve la primera fila y de la primera columna: \n",
            "\n"
          ]
        },
        {
          "output_type": "execute_result",
          "data": {
            "text/plain": [
              "1"
            ]
          },
          "metadata": {},
          "execution_count": 25
        }
      ]
    },
    {
      "cell_type": "code",
      "source": [
        "#de igual forma podemos realizar un slice en un 'array' en 2D\n",
        "print('matriz: \\n')\n",
        "print(x)\n",
        "print('\\n')\n",
        "print('valor ve la primera columna: \\n')\n",
        "x[:, 0]"
      ],
      "metadata": {
        "colab": {
          "base_uri": "https://localhost:8080/"
        },
        "id": "GbcqLJ6mRgru",
        "outputId": "ca1853c7-8c02-4a10-c622-9ea4252efd61"
      },
      "execution_count": 26,
      "outputs": [
        {
          "output_type": "stream",
          "name": "stdout",
          "text": [
            "matriz: \n",
            "\n",
            "[[ 1  2]\n",
            " [ 7  8]\n",
            " [11 13]]\n",
            "\n",
            "\n",
            "valor ve la primera columna: \n",
            "\n"
          ]
        },
        {
          "output_type": "execute_result",
          "data": {
            "text/plain": [
              "array([ 1,  7, 11])"
            ]
          },
          "metadata": {},
          "execution_count": 26
        }
      ]
    },
    {
      "cell_type": "code",
      "source": [
        "#de igual forma que en el caso 1D eran aplicables operaciones vectoriales en el caso 2D son aplicables operaciones matriciales\n",
        "#se pueden sumar dos matrices del mismo tamaño\n",
        "A = np.array([[1, 2], [1, 1]])\n",
        "print('matriz A: \\n')\n",
        "print(A)\n",
        "B = np.array([[1, 0], [1, 1]])\n",
        "print('\\n matriz B: \\n')\n",
        "print(B)\n",
        "print('suma A + B: \\n')\n",
        "A + B"
      ],
      "metadata": {
        "colab": {
          "base_uri": "https://localhost:8080/"
        },
        "id": "kn_srfo0Rgt2",
        "outputId": "e4222169-cfc8-4e71-a127-fbe85c563946"
      },
      "execution_count": 27,
      "outputs": [
        {
          "output_type": "stream",
          "name": "stdout",
          "text": [
            "matriz A: \n",
            "\n",
            "[[1 2]\n",
            " [1 1]]\n",
            "\n",
            " matriz B: \n",
            "\n",
            "[[1 0]\n",
            " [1 1]]\n",
            "suma A + B: \n",
            "\n"
          ]
        },
        {
          "output_type": "execute_result",
          "data": {
            "text/plain": [
              "array([[2, 2],\n",
              "       [2, 2]])"
            ]
          },
          "metadata": {},
          "execution_count": 27
        }
      ]
    },
    {
      "cell_type": "code",
      "source": [
        "#también se puede realizar la multiplicación de un escalar por una matriz\n",
        "a = 5\n",
        "print('escalar a = ', a)\n",
        "A = np.array([[1, 2], [1, 1]])\n",
        "print('\\n matriz A = \\n')\n",
        "print(A)\n",
        "print('\\n  a*A = \\n')\n",
        "print(a * A)"
      ],
      "metadata": {
        "id": "v728X8OlRgwz",
        "colab": {
          "base_uri": "https://localhost:8080/"
        },
        "outputId": "15e57cd6-ffcb-42a9-a965-8426155a08ca"
      },
      "execution_count": 28,
      "outputs": [
        {
          "output_type": "stream",
          "name": "stdout",
          "text": [
            "escalar a =  5\n",
            "\n",
            " matriz A = \n",
            "\n",
            "[[1 2]\n",
            " [1 1]]\n",
            "\n",
            "  a*A = \n",
            "\n",
            "[[ 5 10]\n",
            " [ 5  5]]\n"
          ]
        }
      ]
    },
    {
      "cell_type": "code",
      "source": [
        "#se tiene definido 'hadamard product' entre dos metrices\n",
        "A = np.array([[1, 2], [1, 1]])\n",
        "B = np.array([[1, 0], [1, 1]])\n",
        "\n",
        "A * B"
      ],
      "metadata": {
        "id": "7rbjz6ueRgzr",
        "colab": {
          "base_uri": "https://localhost:8080/"
        },
        "outputId": "3efd9e78-f7ff-4328-a858-0b79ca159ac1"
      },
      "execution_count": 29,
      "outputs": [
        {
          "output_type": "execute_result",
          "data": {
            "text/plain": [
              "array([[1, 0],\n",
              "       [1, 1]])"
            ]
          },
          "metadata": {},
          "execution_count": 29
        }
      ]
    },
    {
      "cell_type": "code",
      "source": [
        "#con 'arrays' en 2D podemos realizar el producto de dos matrices\n",
        "#esto bajo la definición de un producto de matrices, es decir, sólo podemos realizarun producto se debe cumplir: A(mxn) * B(nxp)\n",
        "#lo anterior indica que el número de columnas de la matriz A debe ser igual al número de filas de B\n",
        "#el producto se puede realizar con el método de '.dot()'\n",
        "A = np.array([[0, 1, 1], [1, 0, 1]])\n",
        "B = np.array([[1, 1], [1, 1], [-1, 1]])\n",
        "C = np.dot(A, B)\n",
        "C "
      ],
      "metadata": {
        "id": "ZDV-47RxRg18",
        "colab": {
          "base_uri": "https://localhost:8080/"
        },
        "outputId": "5c8d6b62-c31f-4d89-db55-e23f8e756541"
      },
      "execution_count": 30,
      "outputs": [
        {
          "output_type": "execute_result",
          "data": {
            "text/plain": [
              "array([[0, 2],\n",
              "       [0, 2]])"
            ]
          },
          "metadata": {},
          "execution_count": 30
        }
      ]
    },
    {
      "cell_type": "markdown",
      "source": [
        "### Lab - Working with 2D Numpy Arrays"
      ],
      "metadata": {
        "id": "_AoHZwt74umJ"
      }
    },
    {
      "cell_type": "code",
      "source": [
        "#Consider the following list <code>a</code>, convert it to Numpy Array.\n",
        "# Write your code below and press Shift+Enter to execute\n",
        "\n",
        "a = [[1, 2, 3, 4], [5, 6, 7, 8], [9, 10, 11, 12]]\n",
        "A = np.array(a)\n",
        "A"
      ],
      "metadata": {
        "id": "yMJC5Cm-Rg4V",
        "colab": {
          "base_uri": "https://localhost:8080/"
        },
        "outputId": "98ddc39a-2d07-4353-c9eb-933ec3408b5d"
      },
      "execution_count": 31,
      "outputs": [
        {
          "output_type": "execute_result",
          "data": {
            "text/plain": [
              "array([[ 1,  2,  3,  4],\n",
              "       [ 5,  6,  7,  8],\n",
              "       [ 9, 10, 11, 12]])"
            ]
          },
          "metadata": {},
          "execution_count": 31
        }
      ]
    },
    {
      "cell_type": "code",
      "source": [
        "#Calculate the numpy array size.\n",
        "# Write your code below and press Shift+Enter to execute\n",
        "A.size"
      ],
      "metadata": {
        "id": "5atWKqFPRg7E",
        "colab": {
          "base_uri": "https://localhost:8080/"
        },
        "outputId": "f915231e-3ae8-4caf-f5da-e78e4655c493"
      },
      "execution_count": 32,
      "outputs": [
        {
          "output_type": "execute_result",
          "data": {
            "text/plain": [
              "12"
            ]
          },
          "metadata": {},
          "execution_count": 32
        }
      ]
    },
    {
      "cell_type": "code",
      "source": [
        "#Access the element on the first row and first and second columns.\n",
        "# Write your code below and press Shift+Enter to execute\n",
        "A[0][0:2]"
      ],
      "metadata": {
        "id": "sxjtKKmHRg9Q",
        "colab": {
          "base_uri": "https://localhost:8080/"
        },
        "outputId": "c68fca0d-4fde-4a7d-c5ac-ae25bf777ec8"
      },
      "execution_count": 33,
      "outputs": [
        {
          "output_type": "execute_result",
          "data": {
            "text/plain": [
              "array([1, 2])"
            ]
          },
          "metadata": {},
          "execution_count": 33
        }
      ]
    },
    {
      "cell_type": "code",
      "source": [
        "#Perform matrix multiplication with the numpy arrays A and B\n",
        "# Write your code below and press Shift+Enter to execute\n",
        "\n",
        "B = np.array([[0, 1], [1, 0], [1, 1], [-1, 0]])\n",
        "np.dot(A, B)"
      ],
      "metadata": {
        "id": "FvCkjvudRhAA",
        "colab": {
          "base_uri": "https://localhost:8080/"
        },
        "outputId": "2608c0f6-0f7a-491e-de4a-ac12999e9544"
      },
      "execution_count": 34,
      "outputs": [
        {
          "output_type": "execute_result",
          "data": {
            "text/plain": [
              "array([[ 1,  4],\n",
              "       [ 5, 12],\n",
              "       [ 9, 20]])"
            ]
          },
          "metadata": {},
          "execution_count": 34
        }
      ]
    },
    {
      "cell_type": "markdown",
      "source": [
        "### Lab - HTTP and Requests"
      ],
      "metadata": {
        "id": "PPEG9ofY6Cvm"
      }
    },
    {
      "cell_type": "markdown",
      "source": [
        "### Question 1: write"
      ],
      "metadata": {
        "id": "UjMtLC8cPtMy"
      }
    },
    {
      "cell_type": "markdown",
      "source": [
        "In the previous section, we used the <code>wget</code> function to retrieve content from the web server as shown below.  Write the python code to perform the same task. The code should be the same as the one used to download the image, but the file name should be <code>'Example1.txt'</code>."
      ],
      "metadata": {
        "id": "Y31Gee8lOowM"
      }
    },
    {
      "cell_type": "code",
      "source": [
        "import requests\n",
        "import os\n",
        "from PIL import Image\n",
        "from IPython.display import IFrame"
      ],
      "metadata": {
        "id": "kI6RkUf_P2IK"
      },
      "execution_count": 35,
      "outputs": []
    },
    {
      "cell_type": "code",
      "source": [
        "url = 'https://cf-courses-data.s3.us.cloud-object-storage.appdomain.cloud/IBMDeveloperSkillsNetwork-PY0101EN-SkillsNetwork/labs/Module%205/data/Example1.txt'"
      ],
      "metadata": {
        "id": "Qd86pB3YRhCZ"
      },
      "execution_count": 36,
      "outputs": []
    },
    {
      "cell_type": "code",
      "source": [
        "path=os.path.join(os.getcwd(),'example1.txt')\n",
        "r=requests.get(url)\n",
        "with open(path,'wb') as f:\n",
        "    f.write(r.content)"
      ],
      "metadata": {
        "id": "rKnDT54XRhE8"
      },
      "execution_count": 37,
      "outputs": []
    },
    {
      "cell_type": "code",
      "source": [
        "import pandas as pd\n",
        "df = pd.read_csv('example1.txt', header = None)"
      ],
      "metadata": {
        "id": "qRuvQSTSRhHe"
      },
      "execution_count": 38,
      "outputs": []
    },
    {
      "cell_type": "code",
      "source": [
        "df"
      ],
      "metadata": {
        "id": "mh9aI3aDRhJ7",
        "colab": {
          "base_uri": "https://localhost:8080/",
          "height": 143
        },
        "outputId": "5b3dd57c-9d81-483f-bef0-49b5bc3da0a1"
      },
      "execution_count": 39,
      "outputs": [
        {
          "output_type": "execute_result",
          "data": {
            "text/plain": [
              "                 0\n",
              "0  This is line 1 \n",
              "1   This is line 2\n",
              "2   This is line 3"
            ],
            "text/html": [
              "\n",
              "  <div id=\"df-0f4ab469-91da-45eb-98e3-48c18ba123a8\">\n",
              "    <div class=\"colab-df-container\">\n",
              "      <div>\n",
              "<style scoped>\n",
              "    .dataframe tbody tr th:only-of-type {\n",
              "        vertical-align: middle;\n",
              "    }\n",
              "\n",
              "    .dataframe tbody tr th {\n",
              "        vertical-align: top;\n",
              "    }\n",
              "\n",
              "    .dataframe thead th {\n",
              "        text-align: right;\n",
              "    }\n",
              "</style>\n",
              "<table border=\"1\" class=\"dataframe\">\n",
              "  <thead>\n",
              "    <tr style=\"text-align: right;\">\n",
              "      <th></th>\n",
              "      <th>0</th>\n",
              "    </tr>\n",
              "  </thead>\n",
              "  <tbody>\n",
              "    <tr>\n",
              "      <th>0</th>\n",
              "      <td>This is line 1</td>\n",
              "    </tr>\n",
              "    <tr>\n",
              "      <th>1</th>\n",
              "      <td>This is line 2</td>\n",
              "    </tr>\n",
              "    <tr>\n",
              "      <th>2</th>\n",
              "      <td>This is line 3</td>\n",
              "    </tr>\n",
              "  </tbody>\n",
              "</table>\n",
              "</div>\n",
              "      <button class=\"colab-df-convert\" onclick=\"convertToInteractive('df-0f4ab469-91da-45eb-98e3-48c18ba123a8')\"\n",
              "              title=\"Convert this dataframe to an interactive table.\"\n",
              "              style=\"display:none;\">\n",
              "        \n",
              "  <svg xmlns=\"http://www.w3.org/2000/svg\" height=\"24px\"viewBox=\"0 0 24 24\"\n",
              "       width=\"24px\">\n",
              "    <path d=\"M0 0h24v24H0V0z\" fill=\"none\"/>\n",
              "    <path d=\"M18.56 5.44l.94 2.06.94-2.06 2.06-.94-2.06-.94-.94-2.06-.94 2.06-2.06.94zm-11 1L8.5 8.5l.94-2.06 2.06-.94-2.06-.94L8.5 2.5l-.94 2.06-2.06.94zm10 10l.94 2.06.94-2.06 2.06-.94-2.06-.94-.94-2.06-.94 2.06-2.06.94z\"/><path d=\"M17.41 7.96l-1.37-1.37c-.4-.4-.92-.59-1.43-.59-.52 0-1.04.2-1.43.59L10.3 9.45l-7.72 7.72c-.78.78-.78 2.05 0 2.83L4 21.41c.39.39.9.59 1.41.59.51 0 1.02-.2 1.41-.59l7.78-7.78 2.81-2.81c.8-.78.8-2.07 0-2.86zM5.41 20L4 18.59l7.72-7.72 1.47 1.35L5.41 20z\"/>\n",
              "  </svg>\n",
              "      </button>\n",
              "      \n",
              "  <style>\n",
              "    .colab-df-container {\n",
              "      display:flex;\n",
              "      flex-wrap:wrap;\n",
              "      gap: 12px;\n",
              "    }\n",
              "\n",
              "    .colab-df-convert {\n",
              "      background-color: #E8F0FE;\n",
              "      border: none;\n",
              "      border-radius: 50%;\n",
              "      cursor: pointer;\n",
              "      display: none;\n",
              "      fill: #1967D2;\n",
              "      height: 32px;\n",
              "      padding: 0 0 0 0;\n",
              "      width: 32px;\n",
              "    }\n",
              "\n",
              "    .colab-df-convert:hover {\n",
              "      background-color: #E2EBFA;\n",
              "      box-shadow: 0px 1px 2px rgba(60, 64, 67, 0.3), 0px 1px 3px 1px rgba(60, 64, 67, 0.15);\n",
              "      fill: #174EA6;\n",
              "    }\n",
              "\n",
              "    [theme=dark] .colab-df-convert {\n",
              "      background-color: #3B4455;\n",
              "      fill: #D2E3FC;\n",
              "    }\n",
              "\n",
              "    [theme=dark] .colab-df-convert:hover {\n",
              "      background-color: #434B5C;\n",
              "      box-shadow: 0px 1px 3px 1px rgba(0, 0, 0, 0.15);\n",
              "      filter: drop-shadow(0px 1px 2px rgba(0, 0, 0, 0.3));\n",
              "      fill: #FFFFFF;\n",
              "    }\n",
              "  </style>\n",
              "\n",
              "      <script>\n",
              "        const buttonEl =\n",
              "          document.querySelector('#df-0f4ab469-91da-45eb-98e3-48c18ba123a8 button.colab-df-convert');\n",
              "        buttonEl.style.display =\n",
              "          google.colab.kernel.accessAllowed ? 'block' : 'none';\n",
              "\n",
              "        async function convertToInteractive(key) {\n",
              "          const element = document.querySelector('#df-0f4ab469-91da-45eb-98e3-48c18ba123a8');\n",
              "          const dataTable =\n",
              "            await google.colab.kernel.invokeFunction('convertToInteractive',\n",
              "                                                     [key], {});\n",
              "          if (!dataTable) return;\n",
              "\n",
              "          const docLinkHtml = 'Like what you see? Visit the ' +\n",
              "            '<a target=\"_blank\" href=https://colab.research.google.com/notebooks/data_table.ipynb>data table notebook</a>'\n",
              "            + ' to learn more about interactive tables.';\n",
              "          element.innerHTML = '';\n",
              "          dataTable['output_type'] = 'display_data';\n",
              "          await google.colab.output.renderOutput(dataTable, element);\n",
              "          const docLink = document.createElement('div');\n",
              "          docLink.innerHTML = docLinkHtml;\n",
              "          element.appendChild(docLink);\n",
              "        }\n",
              "      </script>\n",
              "    </div>\n",
              "  </div>\n",
              "  "
            ]
          },
          "metadata": {},
          "execution_count": 39
        }
      ]
    },
    {
      "cell_type": "code",
      "source": [],
      "metadata": {
        "id": "laVyJQAsRhMm"
      },
      "execution_count": 39,
      "outputs": []
    },
    {
      "cell_type": "code",
      "source": [],
      "metadata": {
        "id": "LezRQzGeXSx6"
      },
      "execution_count": null,
      "outputs": []
    }
  ]
}
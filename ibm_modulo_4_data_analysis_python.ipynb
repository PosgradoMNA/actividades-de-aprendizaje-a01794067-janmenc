{
  "nbformat": 4,
  "nbformat_minor": 0,
  "metadata": {
    "colab": {
      "provenance": [],
      "authorship_tag": "ABX9TyN9Cm//+QphnezQPnhVqnRo",
      "include_colab_link": true
    },
    "kernelspec": {
      "name": "python3",
      "display_name": "Python 3"
    },
    "language_info": {
      "name": "python"
    }
  },
  "cells": [
    {
      "cell_type": "markdown",
      "metadata": {
        "id": "view-in-github",
        "colab_type": "text"
      },
      "source": [
        "<a href=\"https://colab.research.google.com/github/PosgradoMNA/actividades-de-aprendizaje-a01794067-janmenc/blob/main/ibm_modulo_4_data_analysis_python.ipynb\" target=\"_parent\"><img src=\"https://colab.research.google.com/assets/colab-badge.svg\" alt=\"Open In Colab\"/></a>"
      ]
    },
    {
      "cell_type": "markdown",
      "source": [
        "## **Maestría en Inteligencia Artificial Aplicada**\n",
        "\n",
        "## **A01794067**\n",
        "## **Jose Antonio Mendoza Castro**\n",
        "## *Análisis de Datos Python*\n",
        "\n",
        "## **Ciencia y analitica de datos**\n",
        "\n",
        "## **Dra. Maria de la Paz Rico**"
      ],
      "metadata": {
        "id": "BsO-i167eCn2"
      }
    },
    {
      "cell_type": "markdown",
      "source": [
        "### **Desarrollo de modelos**"
      ],
      "metadata": {
        "id": "AMGGPbCieW_g"
      }
    },
    {
      "cell_type": "markdown",
      "source": [
        "* Un modelo puede ser pensado como ecuación matemátca usada para predicir uno o varios valores dados.\n",
        "\n",
        "* Relacionando una o más variables independientes a variables dependientes."
      ],
      "metadata": {
        "id": "lr9FVLq-gWv_"
      }
    },
    {
      "cell_type": "markdown",
      "source": [
        "### Regresión lineal simple y múltiple"
      ],
      "metadata": {
        "id": "Z8zRQCpmFbWr"
      }
    },
    {
      "cell_type": "markdown",
      "source": [
        "* La regresión lineal simple se refiere a la relación entre dos variables, una variable independiente y una dependiente. Está conformada por una constante y una pendiente. Cuando se sustituye un valor en la variable independiente obtenemos un valor estimado llamado predicción. A la diferencia entre nuestro valor estimado y el real le llamamos ruido. "
      ],
      "metadata": {
        "id": "YSyC8uVDGcbt"
      }
    },
    {
      "cell_type": "code",
      "source": [
        "#en Python utilizamos la librería 'sklearn' para trabajar con regresiones lineales simples\n",
        "import pandas as pd\n",
        "import numpy as np\n",
        "import seaborn as sns\n",
        "\n",
        "from sklearn.linear_model import LinearRegression"
      ],
      "metadata": {
        "id": "_t8BseoyeC3m"
      },
      "execution_count": 19,
      "outputs": []
    },
    {
      "cell_type": "code",
      "source": [
        "#adquisicion de los datos\n",
        "url = 'https://archive.ics.uci.edu/ml/machine-learning-databases/autos/imports-85.data'"
      ],
      "metadata": {
        "id": "U3-jM6pAKlmw"
      },
      "execution_count": 2,
      "outputs": []
    },
    {
      "cell_type": "code",
      "source": [
        "#leemos el archivo omitiendo los 'headers' con el parametro 'header' igual a None\n",
        "df = pd.read_csv(url, header = None)"
      ],
      "metadata": {
        "id": "__eQFKqeKmth"
      },
      "execution_count": 3,
      "outputs": []
    },
    {
      "cell_type": "code",
      "source": [
        "headers = [\"symboling\",\"normalized-losses\",\"make\",\"fuel-type\",\"aspiration\", \"num-of-doors\",\"body-style\",\n",
        "         \"drive-wheels\",\"engine-location\",\"wheel-base\", \"length\",\"width\",\"height\",\"curb-weight\",\"engine-type\",\n",
        "         \"num-of-cylinders\", \"engine-size\",\"fuel-system\",\"bore\",\"stroke\",\"compression-ratio\",\"horsepower\",\n",
        "         \"peak-rpm\",\"city-mpg\",\"highway-mpg\",\"price\"]"
      ],
      "metadata": {
        "id": "fHmR7qIoKu5K"
      },
      "execution_count": 4,
      "outputs": []
    },
    {
      "cell_type": "code",
      "source": [
        "#ponemos nombre a cada columna de acuerdo a la descripcion de los datos\n",
        "df.columns = headers"
      ],
      "metadata": {
        "id": "EpEHlh46KyRI"
      },
      "execution_count": 5,
      "outputs": []
    },
    {
      "cell_type": "code",
      "source": [
        "#convertimos la variable precio a 'float'\n",
        "#como tenemos datos faltantes identificados con el signo '?', primero obtenemos la media omitiendo esos datos\n",
        "mean_price_tmp = df[df['price'] != '?']['price'].astype(int)\n",
        "mean_price = np.mean(mean_price_tmp)\n",
        "#una vez obtenida la media replazamos '?' por la media\n",
        "df['price'] = df['price'].replace('?', mean_price) \n",
        "#finalmente convertimos toda la columna a 'float'\n",
        "df['price'] = df['price'].astype(float) "
      ],
      "metadata": {
        "id": "ErU01rIdL0Kn"
      },
      "execution_count": 6,
      "outputs": []
    },
    {
      "cell_type": "code",
      "source": [
        "X = df[['highway-mpg']].copy()\n",
        "y = df['price']"
      ],
      "metadata": {
        "id": "MSCc4J1FLXL_"
      },
      "execution_count": 7,
      "outputs": []
    },
    {
      "cell_type": "code",
      "source": [
        "#creamos un objeto desde el 'constructor'\n",
        "lm = LinearRegression()"
      ],
      "metadata": {
        "id": "isSfOtXiJDPb"
      },
      "execution_count": 8,
      "outputs": []
    },
    {
      "cell_type": "code",
      "source": [
        "lm.fit(X, y)"
      ],
      "metadata": {
        "colab": {
          "base_uri": "https://localhost:8080/"
        },
        "id": "1Ldk4vz1Kkmg",
        "outputId": "c08464dc-46cb-44e5-d224-935f60d6b7bf"
      },
      "execution_count": 9,
      "outputs": [
        {
          "output_type": "execute_result",
          "data": {
            "text/plain": [
              "LinearRegression()"
            ]
          },
          "metadata": {},
          "execution_count": 9
        }
      ]
    },
    {
      "cell_type": "code",
      "source": [
        "#con lo anterior podemos obtener una predicción\n",
        "yhat = lm.predict(X)"
      ],
      "metadata": {
        "id": "fFvQdX06KNSc"
      },
      "execution_count": 10,
      "outputs": []
    },
    {
      "cell_type": "code",
      "source": [
        "#también podemos ocupar los siguientes atributos\n",
        "#para el intercepto\n",
        "lm.intercept_"
      ],
      "metadata": {
        "colab": {
          "base_uri": "https://localhost:8080/"
        },
        "id": "sneB49mnMlbO",
        "outputId": "100a2d37-4fda-49a2-d2b9-db631eb7ec68"
      },
      "execution_count": 11,
      "outputs": [
        {
          "output_type": "execute_result",
          "data": {
            "text/plain": [
              "37470.66014138312"
            ]
          },
          "metadata": {},
          "execution_count": 11
        }
      ]
    },
    {
      "cell_type": "code",
      "source": [
        "#para el coeficiente o pendiente\n",
        "lm.coef_"
      ],
      "metadata": {
        "colab": {
          "base_uri": "https://localhost:8080/"
        },
        "id": "bBtwtal2M7B8",
        "outputId": "2ffeb634-7d1f-43cf-a3df-e966ca4592c0"
      },
      "execution_count": 12,
      "outputs": [
        {
          "output_type": "execute_result",
          "data": {
            "text/plain": [
              "array([-789.02661986])"
            ]
          },
          "metadata": {},
          "execution_count": 12
        }
      ]
    },
    {
      "cell_type": "code",
      "source": [
        "#también lo podemos hacerlo para un modelo de regresión lineal múltiple\n",
        "#reemplazamos los valores faltantes en la variable 'horsepower'\n",
        "mean_hp_tmp = df[df['horsepower'] != '?']['horsepower'].astype(int)\n",
        "mean_hp = np.mean(mean_hp_tmp)\n",
        "\n",
        "df['horsepower'] = df['horsepower'].replace('?', mean_price) \n",
        "df['horsepower'] = df['horsepower'].astype(int)"
      ],
      "metadata": {
        "id": "uKafMlYyNB6c"
      },
      "execution_count": 13,
      "outputs": []
    },
    {
      "cell_type": "code",
      "source": [
        "#tomaremos cuatro regresores para el modelo\n",
        "z = df[['horsepower', 'curb-weight', 'engine-size', 'highway-mpg']].copy()"
      ],
      "metadata": {
        "id": "t5fRltaUOaxi"
      },
      "execution_count": 14,
      "outputs": []
    },
    {
      "cell_type": "code",
      "source": [
        "lm.fit(z, y)"
      ],
      "metadata": {
        "colab": {
          "base_uri": "https://localhost:8080/"
        },
        "id": "ZGt2CbDXQCUM",
        "outputId": "9ec80297-466f-4df9-da88-853b4ee11fa7"
      },
      "execution_count": 15,
      "outputs": [
        {
          "output_type": "execute_result",
          "data": {
            "text/plain": [
              "LinearRegression()"
            ]
          },
          "metadata": {},
          "execution_count": 15
        }
      ]
    },
    {
      "cell_type": "code",
      "source": [
        "yhat = lm.predict(z)"
      ],
      "metadata": {
        "id": "Y_t80WgTQGcv"
      },
      "execution_count": 16,
      "outputs": []
    },
    {
      "cell_type": "code",
      "source": [
        "#también podemos ocupar los mismos atributos usados en la regresión simple\n",
        "#para el intercepto\n",
        "lm.intercept_"
      ],
      "metadata": {
        "colab": {
          "base_uri": "https://localhost:8080/"
        },
        "id": "zi2InycnQT1F",
        "outputId": "cc661486-5e93-45b0-ce4a-769fbcf41e1d"
      },
      "execution_count": 17,
      "outputs": [
        {
          "output_type": "execute_result",
          "data": {
            "text/plain": [
              "-6498.609211793937"
            ]
          },
          "metadata": {},
          "execution_count": 17
        }
      ]
    },
    {
      "cell_type": "code",
      "source": [
        "#para el coeficiente o pendiente\n",
        "lm.coef_"
      ],
      "metadata": {
        "colab": {
          "base_uri": "https://localhost:8080/"
        },
        "id": "s0O9Vns4RRuA",
        "outputId": "a45c0075-387d-45cf-aa41-f36b88997cd7"
      },
      "execution_count": 18,
      "outputs": [
        {
          "output_type": "execute_result",
          "data": {
            "text/plain": [
              "array([  -0.30635746,    3.53540121,  112.64181011, -115.54599117])"
            ]
          },
          "metadata": {},
          "execution_count": 18
        }
      ]
    },
    {
      "cell_type": "markdown",
      "source": [
        "### Evaluación del modelo usando visualización"
      ],
      "metadata": {
        "id": "-SN6m-wWQCud"
      }
    },
    {
      "cell_type": "code",
      "source": [],
      "metadata": {
        "id": "koX1jitORV_O"
      },
      "execution_count": 18,
      "outputs": []
    }
  ]
}